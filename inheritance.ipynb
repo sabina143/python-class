{
 "cells": [
  {
   "cell_type": "markdown",
   "id": "04137d6a",
   "metadata": {},
   "source": [
    "#Inheritance\n",
    "1.Parent Class\n",
    "2.Child CLass\n",
    "'''\n",
    "class ParentClass:\n",
    "pass\n",
    "class Child Class(Parent Class):\n",
    "''' pass\n",
    "**Parent Class**\n",
    "-Base class, from which other class can inherit\n",
    "\n",
    "**Child Class**\n",
    "-Derived class that inherits from the parent class"
   ]
  },
  {
   "cell_type": "markdown",
   "id": "108a48f9",
   "metadata": {},
   "source": [
    "## Types of Inheritance\n",
    "1.Single \n",
    "''''\n",
    "Parent Class<-----------Child Class\n",
    "''''\n",
    "2. Multiple\n",
    "'''\n",
    "Parent Class1, Parent Class 2<------>Child Class\n",
    "'''\n",
    "3. Multilevel\n",
    "'''\n",
    "Parent Class<-------Child Class< ---------Grand Child Class\n",
    "'''\n",
    "4.Hierarichal\n",
    "'''\n",
    "Parent Class<------------Child Class1, Child Class 2\n",
    "''''\n",
    "5. Hybrid\n",
    "-Any two or more combination"
   ]
  },
  {
   "cell_type": "code",
   "execution_count": 8,
   "id": "0759f8f7",
   "metadata": {},
   "outputs": [
    {
     "name": "stdout",
     "output_type": "stream",
     "text": [
      "Animal has 2 eyes.\n",
      "Bhau Bhau\n"
     ]
    }
   ],
   "source": [
    "#Animal<-------Dog\n",
    "\n",
    "class Animal:\n",
    "    def get_eyes(aself):\n",
    "        return \"Animal has 2 eyes.\"\n",
    "\n",
    "class Dog(Animal):\n",
    "    def speak(self):\n",
    "        return \"Bhau Bhau\"\n",
    "\n",
    "dog = Dog()\n",
    "print(dog.get_eyes())      \n",
    "print(dog.speak()) \n"
   ]
  },
  {
   "cell_type": "code",
   "execution_count": 15,
   "id": "6c23b5cd",
   "metadata": {},
   "outputs": [],
   "source": [
    "class Person:\n",
    "    def __init__(self, name):\n",
    "        self.name = name \n",
    "    \n",
    "    def info(self):\n",
    "        print(\"Name\", self.name)\n",
    "\n",
    "class Employee(Person):\n",
    "    def __init__(self, name,  company):\n",
    "        self.company = company\n",
    "        super().__init__(name)\n",
    "\n",
    "    def info(self):\n",
    "        print(\"Name:\", self.name)\n",
    "        print(\"Company:\", self.company)\n",
    "   "
   ]
  },
  {
   "cell_type": "code",
   "execution_count": 16,
   "id": "7441e8ea",
   "metadata": {},
   "outputs": [
    {
     "name": "stdout",
     "output_type": "stream",
     "text": [
      "Name Ram\n"
     ]
    }
   ],
   "source": [
    "p= Person(\"Ram\")\n",
    "p.info()"
   ]
  },
  {
   "cell_type": "code",
   "execution_count": 19,
   "id": "18e00f4c",
   "metadata": {},
   "outputs": [
    {
     "name": "stdout",
     "output_type": "stream",
     "text": [
      "Name: hari\n",
      "Company: STN\n"
     ]
    }
   ],
   "source": [
    "e = Employee(\"hari\",\"STN\")\n",
    "e.info()"
   ]
  },
  {
   "cell_type": "code",
   "execution_count": 24,
   "id": "1037f965",
   "metadata": {},
   "outputs": [
    {
     "name": "stdout",
     "output_type": "stream",
     "text": [
      "Name: Gopal\n",
      "Company: STN\n",
      "Python Django\n"
     ]
    }
   ],
   "source": [
    "class Programmer(Employee):\n",
    "    def __init__(self, name, company, skill):\n",
    "       super().__init__(name,company)\n",
    "       self.skill =skill\n",
    "\n",
    "programmer =Programmer(\"Gopal\", \"STN\", \"Python Django\")\n",
    "programmer.info()\n",
    "print(programmer.skill)"
   ]
  },
  {
   "cell_type": "code",
   "execution_count": 26,
   "id": "61bb21dc",
   "metadata": {},
   "outputs": [
    {
     "name": "stdout",
     "output_type": "stream",
     "text": [
      "['Wood Cutting', 'Carpentry', 'Cooking', 'Painting', 'Coding']\n"
     ]
    }
   ],
   "source": [
    "class Father:\n",
    "    def skills(self):\n",
    "        return[\"Wood Cutting\", \"Carpentry\"]\n",
    "    \n",
    "class Mother:\n",
    "    def skills(self):\n",
    "        return[\"Cooking\", \"Painting\"] \n",
    "class Child(Father, Mother):\n",
    "    def skills(self):\n",
    "        return Father.skills(self)+ Mother.skills(self)+[\"Coding\"]\n",
    "print(Child().skills())\n",
    "\n",
    "    "
   ]
  },
  {
   "cell_type": "code",
   "execution_count": 32,
   "id": "d8a4e5fd",
   "metadata": {},
   "outputs": [
    {
     "name": "stdout",
     "output_type": "stream",
     "text": [
      "Flying in the sky\n",
      "Flying in the sky using fuel\n"
     ]
    }
   ],
   "source": [
    "#Polymorphism\n",
    "\n",
    "class Bird:\n",
    "    def fly(self):\n",
    "        return \"Flying in the sky\"\n",
    "        \n",
    "class Airplane:\n",
    "    def fly(self):\n",
    "        return \"Flying in the sky using fuel\"\n",
    "   \n",
    "def flying(obj):\n",
    "     print(obj.fly())\n",
    "\n",
    "b = Bird()\n",
    "a = Airplane()\n",
    "\n",
    "flying (b)\n",
    "flying (a)\n"
   ]
  },
  {
   "cell_type": "code",
   "execution_count": 44,
   "id": "e5e32ee7",
   "metadata": {},
   "outputs": [],
   "source": [
    "from abc import abstractmethod, ABC\n",
    "class Shape(ABC):\n",
    "    @abstractmethod\n",
    "    def area(self):\n",
    "        pass\n",
    "\n",
    "class circle(Shape):\n",
    "    def __init__(self,radius):\n",
    "        self.radius=radius\n",
    "    def area(self):\n",
    "        return 3.14* self.radius*self.radius\n",
    "\n",
    "class Square:\n",
    "    def __init__(self,length):\n",
    "        self.length=length\n",
    "    def area(self):\n",
    "        return self.length* self.length"
   ]
  },
  {
   "cell_type": "code",
   "execution_count": 45,
   "id": "58db3d2b",
   "metadata": {},
   "outputs": [
    {
     "name": "stdout",
     "output_type": "stream",
     "text": [
      "78.5\n"
     ]
    }
   ],
   "source": [
    "c= circle(5)\n",
    "print(c.area())"
   ]
  },
  {
   "cell_type": "code",
   "execution_count": 47,
   "id": "bb6f7155",
   "metadata": {},
   "outputs": [
    {
     "name": "stdout",
     "output_type": "stream",
     "text": [
      "25\n"
     ]
    }
   ],
   "source": [
    "print(Square(5).area())"
   ]
  },
  {
   "cell_type": "code",
   "execution_count": 39,
   "id": "978d52ce",
   "metadata": {},
   "outputs": [],
   "source": [
    "# Static Methods\n",
    "class Math:\n",
    "    @staticmethod\n",
    "    def add(a,b):\n",
    "        return(a+b)\n",
    "    @staticmethod\n",
    "    def multiply(a,b):\n",
    "        return a*b"
   ]
  },
  {
   "cell_type": "code",
   "execution_count": 41,
   "id": "3904dbf1",
   "metadata": {},
   "outputs": [
    {
     "name": "stdout",
     "output_type": "stream",
     "text": [
      "9\n",
      "20\n"
     ]
    }
   ],
   "source": [
    "m = Math()\n",
    "print(m.add(5,4))\n",
    "print(m.multiply(5,4))"
   ]
  }
 ],
 "metadata": {
  "kernelspec": {
   "display_name": "Python 3",
   "language": "python",
   "name": "python3"
  },
  "language_info": {
   "codemirror_mode": {
    "name": "ipython",
    "version": 3
   },
   "file_extension": ".py",
   "mimetype": "text/x-python",
   "name": "python",
   "nbconvert_exporter": "python",
   "pygments_lexer": "ipython3",
   "version": "3.11.9"
  }
 },
 "nbformat": 4,
 "nbformat_minor": 5
}
