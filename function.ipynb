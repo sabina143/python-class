{
 "cells": [
  {
   "cell_type": "markdown",
   "id": "ccdb2006-4384-4700-99f0-679c404ba7ac",
   "metadata": {},
   "source": [
    "functions\n",
    "it is a block of reusable code that performs specific task and can take input (parameters) and return output \n",
    "define using def keyword\n",
    "def function_name(parameters(optional)):\n",
    "body of function\n",
    "return something(optional)\n",
    "-function declaration\n",
    "-function definition\n",
    "-funtion calling"
   ]
  },
  {
   "cell_type": "code",
   "execution_count": null,
   "id": "920dca23-d696-46fd-87fc-3a55222411a8",
   "metadata": {},
   "outputs": [],
   "source": [
    "# no parameter, no return"
   ]
  },
  {
   "cell_type": "code",
   "execution_count": 9,
   "id": "c93ed8f1-2376-4a4a-b500-bef789d0c82e",
   "metadata": {},
   "outputs": [],
   "source": [
    "\n",
    "#definition of function\n",
    "def say_hello_world():\n",
    "    print(\"hello world!\")"
   ]
  },
  {
   "cell_type": "code",
   "execution_count": 10,
   "id": "d6803ae6-153a-4f20-a35d-c0dbf08374ea",
   "metadata": {
    "scrolled": true
   },
   "outputs": [
    {
     "name": "stdout",
     "output_type": "stream",
     "text": [
      "hello world!\n"
     ]
    }
   ],
   "source": [
    "#calling a function\n",
    "say_hello_world()"
   ]
  },
  {
   "cell_type": "code",
   "execution_count": null,
   "id": "e44bf001-49da-478e-ab9b-58cb0d81aeb7",
   "metadata": {},
   "outputs": [],
   "source": [
    "#parameter but no return"
   ]
  },
  {
   "cell_type": "code",
   "execution_count": 11,
   "id": "4c2761df-c70f-4d81-afac-cf5241c5e4e1",
   "metadata": {},
   "outputs": [],
   "source": [
    "def greet(name):\n",
    "    print(f\"Hello, {name}\")"
   ]
  },
  {
   "cell_type": "code",
   "execution_count": 13,
   "id": "4a6f2eb4-a048-4204-81ef-4fc1f8dd25ef",
   "metadata": {},
   "outputs": [
    {
     "name": "stdout",
     "output_type": "stream",
     "text": [
      "Hello, Ram\n"
     ]
    }
   ],
   "source": [
    "greet(\"Ram\")\n"
   ]
  },
  {
   "cell_type": "code",
   "execution_count": 14,
   "id": "9ca245c8-e897-4a1c-9f14-021d36a318c8",
   "metadata": {},
   "outputs": [
    {
     "name": "stdout",
     "output_type": "stream",
     "text": [
      "Hello, Hari\n"
     ]
    }
   ],
   "source": [
    "greet(\"Hari\")"
   ]
  },
  {
   "cell_type": "code",
   "execution_count": 15,
   "id": "2884c354-8e9b-4dc1-9a99-8b7e7759e29c",
   "metadata": {},
   "outputs": [
    {
     "name": "stdout",
     "output_type": "stream",
     "text": [
      "Hello, Shyam\n"
     ]
    }
   ],
   "source": [
    "greet(\"Shyam\")"
   ]
  },
  {
   "cell_type": "markdown",
   "id": "58b48715-0f34-4c24-9c56-80827097953b",
   "metadata": {},
   "source": [
    "parameter and return"
   ]
  },
  {
   "cell_type": "code",
   "execution_count": 22,
   "id": "92888650-e720-4955-b6dd-5aa9cb9dcac0",
   "metadata": {},
   "outputs": [],
   "source": [
    "def sum(a,b):\n",
    "    s= a + b\n",
    "    return s"
   ]
  },
  {
   "cell_type": "code",
   "execution_count": 23,
   "id": "ee4ee4fc-3072-4d81-8b3f-c3049d396d0a",
   "metadata": {},
   "outputs": [
    {
     "name": "stdout",
     "output_type": "stream",
     "text": [
      "7\n"
     ]
    }
   ],
   "source": [
    "s = sum(3, 4)\n",
    "print(s)"
   ]
  },
  {
   "cell_type": "code",
   "execution_count": 24,
   "id": "ffbf934d-7f1b-4cbf-a7d4-feff9f261515",
   "metadata": {},
   "outputs": [
    {
     "name": "stdout",
     "output_type": "stream",
     "text": [
      "11\n"
     ]
    }
   ],
   "source": [
    "print(sum(5, 6))"
   ]
  },
  {
   "cell_type": "raw",
   "id": "61c289d9-ec95-465c-8e70-e1430d78f0eb",
   "metadata": {},
   "source": [
    "print(sum(5.6, 6.3))"
   ]
  },
  {
   "cell_type": "code",
   "execution_count": 25,
   "id": "9a98239d-7ad8-40f8-bbd4-bf82e280c5c9",
   "metadata": {},
   "outputs": [
    {
     "name": "stdout",
     "output_type": "stream",
     "text": [
      "11.899999999999999\n"
     ]
    }
   ],
   "source": [
    "print(sum(5.6, 6.3))"
   ]
  },
  {
   "cell_type": "code",
   "execution_count": 26,
   "id": "ac7aabd2-83b3-4352-a759-32924aa9078d",
   "metadata": {},
   "outputs": [
    {
     "data": {
      "text/plain": [
       "57"
      ]
     },
     "execution_count": 26,
     "metadata": {},
     "output_type": "execute_result"
    }
   ],
   "source": [
    "sum(55, 2)"
   ]
  },
  {
   "cell_type": "code",
   "execution_count": 27,
   "id": "24dd4092-e166-405e-b85c-d6287297babc",
   "metadata": {},
   "outputs": [],
   "source": [
    "def multiply(a,b,c):\n",
    "    multiply= a * b * c\n",
    "    return multiply\n",
    "    \n",
    "    "
   ]
  },
  {
   "cell_type": "code",
   "execution_count": 31,
   "id": "ffb308af-3d77-4cb6-a419-be05400a6a33",
   "metadata": {},
   "outputs": [
    {
     "data": {
      "text/plain": [
       "20"
      ]
     },
     "execution_count": 31,
     "metadata": {},
     "output_type": "execute_result"
    }
   ],
   "source": [
    "multiply(2,2,5)"
   ]
  },
  {
   "cell_type": "raw",
   "id": "51e80767-e84c-4e6c-ad91-97c352187836",
   "metadata": {},
   "source": [
    "multiply(4,5)"
   ]
  },
  {
   "cell_type": "code",
   "execution_count": 32,
   "id": "7f4d1e93-d396-4a78-b347-d45b755cdaaf",
   "metadata": {},
   "outputs": [
    {
     "ename": "TypeError",
     "evalue": "multiply() missing 1 required positional argument: 'c'",
     "output_type": "error",
     "traceback": [
      "\u001b[31m---------------------------------------------------------------------------\u001b[39m",
      "\u001b[31mTypeError\u001b[39m                                 Traceback (most recent call last)",
      "\u001b[36mCell\u001b[39m\u001b[36m \u001b[39m\u001b[32mIn[32]\u001b[39m\u001b[32m, line 1\u001b[39m\n\u001b[32m----> \u001b[39m\u001b[32m1\u001b[39m \u001b[43mmultiply\u001b[49m\u001b[43m(\u001b[49m\u001b[32;43m3\u001b[39;49m\u001b[43m,\u001b[49m\u001b[32;43m8\u001b[39;49m\u001b[43m)\u001b[49m\n",
      "\u001b[31mTypeError\u001b[39m: multiply() missing 1 required positional argument: 'c'"
     ]
    }
   ],
   "source": [
    "multiply(3,8)"
   ]
  },
  {
   "cell_type": "code",
   "execution_count": 33,
   "id": "b9ee0f97-d7ef-493f-8002-7219adf2e395",
   "metadata": {},
   "outputs": [],
   "source": [
    "def multiply(a,b,c):\n",
    "   return a* b* c\n",
    "    "
   ]
  },
  {
   "cell_type": "code",
   "execution_count": 34,
   "id": "c845cf97-13c1-4c96-a989-699b836f05fb",
   "metadata": {},
   "outputs": [
    {
     "data": {
      "text/plain": [
       "6"
      ]
     },
     "execution_count": 34,
     "metadata": {},
     "output_type": "execute_result"
    }
   ],
   "source": [
    "multiply(1,2,3)"
   ]
  },
  {
   "cell_type": "code",
   "execution_count": 35,
   "id": "e1cdfe86-78b3-4215-b639-d4151bb08235",
   "metadata": {},
   "outputs": [],
   "source": [
    "def multiply(a,b):\n",
    "    return a* b"
   ]
  },
  {
   "cell_type": "code",
   "execution_count": 36,
   "id": "d597a4ca-4ffa-4905-839b-7cada471addc",
   "metadata": {},
   "outputs": [
    {
     "data": {
      "text/plain": [
       "20"
      ]
     },
     "execution_count": 36,
     "metadata": {},
     "output_type": "execute_result"
    }
   ],
   "source": [
    "multiply(4,5)"
   ]
  },
  {
   "cell_type": "markdown",
   "id": "8f808dc8-0b61-4d19-9d1a-db2c4b9f6966",
   "metadata": {},
   "source": [
    "Default argument"
   ]
  },
  {
   "cell_type": "code",
   "execution_count": 42,
   "id": "6c1eb967-e3d1-47be-b372-0a4994ff8563",
   "metadata": {},
   "outputs": [],
   "source": [
    "def multiply(a,b=1,c=1):\n",
    "    return a*b*c"
   ]
  },
  {
   "cell_type": "code",
   "execution_count": 38,
   "id": "c27727ba-bc1d-472d-86c7-0ab18304f06d",
   "metadata": {},
   "outputs": [
    {
     "data": {
      "text/plain": [
       "12"
      ]
     },
     "execution_count": 38,
     "metadata": {},
     "output_type": "execute_result"
    }
   ],
   "source": [
    "multiply(3,4)"
   ]
  },
  {
   "cell_type": "code",
   "execution_count": 39,
   "id": "a4cbf5dd-6b34-4f39-bec3-54f5c22e39ff",
   "metadata": {},
   "outputs": [
    {
     "data": {
      "text/plain": [
       "27"
      ]
     },
     "execution_count": 39,
     "metadata": {},
     "output_type": "execute_result"
    }
   ],
   "source": [
    "multiply(3,3,3)"
   ]
  },
  {
   "cell_type": "code",
   "execution_count": 43,
   "id": "c0a8c7e5-7357-48e7-9b3f-3081dccc1369",
   "metadata": {},
   "outputs": [
    {
     "data": {
      "text/plain": [
       "5"
      ]
     },
     "execution_count": 43,
     "metadata": {},
     "output_type": "execute_result"
    }
   ],
   "source": [
    "multiply(5)"
   ]
  },
  {
   "cell_type": "code",
   "execution_count": 7,
   "id": "45e94e04-66da-4e70-8baa-0c8c04008d78",
   "metadata": {},
   "outputs": [],
   "source": [
    "def display_info(name, age, *args):\n",
    "    print(f\"Name: {name}\")\n",
    "    print(f\"Age: {age}\")\n",
    "\n",
    "    if len(args) > 0:\n",
    "        print(f\"address:{args[0]}\")\n",
    "    if len(args) > 1:\n",
    "        print(f\" Working: {args[1]}\")\n",
    "   "
   ]
  },
  {
   "cell_type": "code",
   "execution_count": 8,
   "id": "02859d09-472d-4ef6-ace5-f38a34e008f1",
   "metadata": {},
   "outputs": [
    {
     "name": "stdout",
     "output_type": "stream",
     "text": [
      "Name: Ram\n",
      "Age: 21\n"
     ]
    }
   ],
   "source": [
    "display_info(\"Ram\", 21)"
   ]
  },
  {
   "cell_type": "code",
   "execution_count": 9,
   "id": "00c06499-9483-42c3-b00b-ef413d0d0aca",
   "metadata": {},
   "outputs": [
    {
     "name": "stdout",
     "output_type": "stream",
     "text": [
      "Name: Ram\n",
      "Age: 21\n",
      "address:Kathmandu\n",
      " Working: not yet\n"
     ]
    }
   ],
   "source": [
    "display_info(\"Ram\", 21, \"Kathmandu\", \"not yet\")"
   ]
  },
  {
   "cell_type": "code",
   "execution_count": 10,
   "id": "821e184f-d040-4a70-b2d2-3c08b2944c5a",
   "metadata": {},
   "outputs": [],
   "source": [
    "name = \"Hari\"\n",
    "age = 20\n",
    "address = \"Kathmandu\"\n",
    "working = \"Not yet\"\n"
   ]
  },
  {
   "cell_type": "code",
   "execution_count": 11,
   "id": "fa30e494-3557-49e8-ae1b-25d466e77615",
   "metadata": {},
   "outputs": [
    {
     "name": "stdout",
     "output_type": "stream",
     "text": [
      "Name: Hari\n",
      "Age: 20\n"
     ]
    }
   ],
   "source": [
    "display_info(name, age)"
   ]
  },
  {
   "cell_type": "code",
   "execution_count": 12,
   "id": "4eb00a80-618f-4bec-8377-83b8158bf365",
   "metadata": {},
   "outputs": [
    {
     "name": "stdout",
     "output_type": "stream",
     "text": [
      "Name: Hari\n",
      "Age: 20\n",
      "address:Kathmandu\n",
      " Working: Not yet\n"
     ]
    }
   ],
   "source": [
    "display_info(name, age, address, working)"
   ]
  },
  {
   "cell_type": "code",
   "execution_count": 16,
   "id": "21742a0e-2978-414a-a178-62c3e1a0b942",
   "metadata": {},
   "outputs": [],
   "source": [
    "def my_info(*args, **kwargs):\n",
    "    print(\"Positional arguments:\")\n",
    "    for arg in args:\n",
    "        print(arg)\n",
    "    print(\"Keyword arguments:\")\n",
    "    print(kwargs)"
   ]
  },
  {
   "cell_type": "code",
   "execution_count": 19,
   "id": "18cde1d0-52e4-46bb-bd73-7561bdc5110a",
   "metadata": {},
   "outputs": [
    {
     "name": "stdout",
     "output_type": "stream",
     "text": [
      "Positional arguments:\n",
      "Keyword arguments:\n",
      "{'name': 'Ram', 'age': 21}\n"
     ]
    }
   ],
   "source": [
    "my_info(name=\"Ram\", age=21)"
   ]
  },
  {
   "cell_type": "code",
   "execution_count": 18,
   "id": "b8ca8f5e-c591-493c-8bc1-4bb95deb0a7a",
   "metadata": {},
   "outputs": [
    {
     "name": "stdout",
     "output_type": "stream",
     "text": [
      "Positional arguments:\n",
      "Kathmandu\n",
      "1\n",
      "2\n",
      "Keyword arguments:\n",
      "{'name': 'Ram', 'age': 21}\n"
     ]
    }
   ],
   "source": [
    "my_info(\"Kathmandu\", 1, 2, name=\"Ram\", age =21)"
   ]
  },
  {
   "cell_type": "code",
   "execution_count": 23,
   "id": "06265e03-1b3e-4090-9499-75df5376fb39",
   "metadata": {},
   "outputs": [],
   "source": [
    "def my_info(*args, **kwargs):\n",
    "    print(\"Positional arguments:\")\n",
    "    print(args)\n",
    "    for item in args:\n",
    "        print(item)\n",
    "    print(\"Keyword arguments:\")\n",
    "    print(kwargs)\n",
    "    for item in kwargs:\n",
    "        print(f\"{item}:{kwargs[item]}\")"
   ]
  },
  {
   "cell_type": "code",
   "execution_count": 24,
   "id": "33f0d566-7d2d-4839-88ce-8a1354c83af9",
   "metadata": {},
   "outputs": [
    {
     "name": "stdout",
     "output_type": "stream",
     "text": [
      "Positional arguments:\n",
      "('Kathmandu', 1, 2)\n",
      "Kathmandu\n",
      "1\n",
      "2\n",
      "Keyword arguments:\n",
      "{'name': 'Ram', 'age': 21}\n",
      "name:Ram\n",
      "age:21\n"
     ]
    }
   ],
   "source": [
    "my_info(\"Kathmandu\", 1, 2, name=\"Ram\", age =21)"
   ]
  },
  {
   "cell_type": "code",
   "execution_count": null,
   "id": "59e651ca-f4b4-420c-9764-9fb3be726344",
   "metadata": {},
   "outputs": [],
   "source": []
  },
  {
   "cell_type": "code",
   "execution_count": null,
   "id": "d7612708-e6f3-4e34-b02b-c54d8575dc81",
   "metadata": {},
   "outputs": [],
   "source": []
  },
  {
   "cell_type": "code",
   "execution_count": null,
   "id": "71058fa2-ae27-43c5-afd1-5396fad02335",
   "metadata": {},
   "outputs": [],
   "source": []
  }
 ],
 "metadata": {
  "kernelspec": {
   "display_name": "Python 3 (ipykernel)",
   "language": "python",
   "name": "python3"
  },
  "language_info": {
   "codemirror_mode": {
    "name": "ipython",
    "version": 3
   },
   "file_extension": ".py",
   "mimetype": "text/x-python",
   "name": "python",
   "nbconvert_exporter": "python",
   "pygments_lexer": "ipython3",
   "version": "3.11.9"
  }
 },
 "nbformat": 4,
 "nbformat_minor": 5
}
