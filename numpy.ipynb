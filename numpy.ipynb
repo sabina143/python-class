{
 "cells": [
  {
   "cell_type": "markdown",
   "id": "aafe4501-f052-4d9e-8cb7-9b5e4844cd30",
   "metadata": {},
   "source": [
    "# Working with NumPy"
   ]
  },
  {
   "cell_type": "code",
   "execution_count": 1,
   "id": "1729e0d5-1380-4e98-b2be-7b5f7c35d86c",
   "metadata": {},
   "outputs": [],
   "source": [
    "import numpy as np"
   ]
  },
  {
   "cell_type": "code",
   "execution_count": 2,
   "id": "4e9cfbf5-7789-46be-944b-1d8b7b04d3d4",
   "metadata": {},
   "outputs": [
    {
     "data": {
      "text/plain": [
       "array([1, 3, 4, 5, 6])"
      ]
     },
     "execution_count": 2,
     "metadata": {},
     "output_type": "execute_result"
    }
   ],
   "source": [
    "arr= np.array([1, 3, 4, 5, 6])\n",
    "arr"
   ]
  },
  {
   "cell_type": "code",
   "execution_count": 3,
   "id": "7590bfed-2d15-4cc1-b9a6-29ca0157b5e6",
   "metadata": {},
   "outputs": [
    {
     "name": "stdout",
     "output_type": "stream",
     "text": [
      "[1 3 4 5 6]\n"
     ]
    }
   ],
   "source": [
    "print(arr)\n"
   ]
  },
  {
   "cell_type": "code",
   "execution_count": 5,
   "id": "c37e3506-0dff-4f5a-85ea-aa6c5b2479ba",
   "metadata": {},
   "outputs": [
    {
     "data": {
      "text/plain": [
       "array([[1, 2, 3],\n",
       "       [4, 5, 6]])"
      ]
     },
     "execution_count": 5,
     "metadata": {},
     "output_type": "execute_result"
    }
   ],
   "source": [
    "arr_2d =np.array([[1,2,3], [4,5,6]])\n",
    "arr_2d\n"
   ]
  },
  {
   "cell_type": "code",
   "execution_count": 6,
   "id": "d3426fbf-80ca-4481-bf61-69ac46a6350e",
   "metadata": {},
   "outputs": [
    {
     "name": "stdout",
     "output_type": "stream",
     "text": [
      "[[1 2 3]\n",
      " [4 5 6]]\n"
     ]
    }
   ],
   "source": [
    "print(arr_2d)"
   ]
  },
  {
   "cell_type": "code",
   "execution_count": 8,
   "id": "1b52194a-9ce8-4435-95cb-b77252b07369",
   "metadata": {},
   "outputs": [
    {
     "data": {
      "text/plain": [
       "array([[[1, 2, 3],\n",
       "        [4, 5, 6],\n",
       "        [7, 8, 9]]])"
      ]
     },
     "execution_count": 8,
     "metadata": {},
     "output_type": "execute_result"
    }
   ],
   "source": [
    "arr_3d =np.array([[[1,2,3],[4,5,6],[7,8,9]]])\n",
    "arr_3d"
   ]
  },
  {
   "cell_type": "code",
   "execution_count": 9,
   "id": "f778abe8-6feb-47cd-b7da-776b016f4d73",
   "metadata": {},
   "outputs": [],
   "source": [
    "arr_3d =np.array([[[1,2], [3,4]], [[4,5], [5,6]]])\n"
   ]
  },
  {
   "cell_type": "code",
   "execution_count": 10,
   "id": "68a6c710-a55b-4a3e-abe6-1875f390c9e0",
   "metadata": {},
   "outputs": [
    {
     "name": "stdout",
     "output_type": "stream",
     "text": [
      "[[[1 2]\n",
      "  [3 4]]\n",
      "\n",
      " [[4 5]\n",
      "  [5 6]]]\n"
     ]
    }
   ],
   "source": [
    "print(arr_3d)"
   ]
  },
  {
   "cell_type": "code",
   "execution_count": 11,
   "id": "aa5ca26b-8f56-46af-96e7-3f9d6aecdf06",
   "metadata": {},
   "outputs": [
    {
     "data": {
      "text/plain": [
       "(2, 3)"
      ]
     },
     "execution_count": 11,
     "metadata": {},
     "output_type": "execute_result"
    }
   ],
   "source": [
    "arr_2d.shape"
   ]
  },
  {
   "cell_type": "code",
   "execution_count": 12,
   "id": "2dad8cfe-ff5f-4d0c-b74d-90948a62f327",
   "metadata": {},
   "outputs": [
    {
     "data": {
      "text/plain": [
       "6"
      ]
     },
     "execution_count": 12,
     "metadata": {},
     "output_type": "execute_result"
    }
   ],
   "source": [
    "arr_2d.size"
   ]
  },
  {
   "cell_type": "code",
   "execution_count": 13,
   "id": "af26f354-d7aa-49d5-a004-87f0eb875454",
   "metadata": {},
   "outputs": [
    {
     "data": {
      "text/plain": [
       "(2, 2, 2)"
      ]
     },
     "execution_count": 13,
     "metadata": {},
     "output_type": "execute_result"
    }
   ],
   "source": [
    "arr_3d.shape"
   ]
  },
  {
   "cell_type": "code",
   "execution_count": 14,
   "id": "e010fed0-aca0-4d9c-b2c5-29dbad34a0f7",
   "metadata": {},
   "outputs": [
    {
     "data": {
      "text/plain": [
       "dtype('int64')"
      ]
     },
     "execution_count": 14,
     "metadata": {},
     "output_type": "execute_result"
    }
   ],
   "source": [
    "arr_3d.dtype"
   ]
  },
  {
   "cell_type": "code",
   "execution_count": 16,
   "id": "958f217f-1a95-4e20-8471-ef9b79b068db",
   "metadata": {},
   "outputs": [
    {
     "name": "stdout",
     "output_type": "stream",
     "text": [
      "[3 4 5]\n"
     ]
    }
   ],
   "source": [
    "#slicing and Indexing\n",
    "new_arr= arr[1:4]\n",
    "print(new_arr)"
   ]
  },
  {
   "cell_type": "code",
   "execution_count": 19,
   "id": "51ff11de-e374-4d49-998d-c35c780e03aa",
   "metadata": {},
   "outputs": [
    {
     "name": "stdout",
     "output_type": "stream",
     "text": [
      "[3 4 5]\n"
     ]
    }
   ],
   "source": [
    "new_arr= arr[1:4]\n",
    "print(new_arr)\n"
   ]
  },
  {
   "cell_type": "code",
   "execution_count": 20,
   "id": "a867d78e-d5f8-4d7c-abaa-03b9ca5e5b19",
   "metadata": {},
   "outputs": [
    {
     "name": "stdout",
     "output_type": "stream",
     "text": [
      "5\n"
     ]
    }
   ],
   "source": [
    "ele = arr_2d[1][1]\n",
    "print(ele)"
   ]
  },
  {
   "cell_type": "markdown",
   "id": "60d83594-79e5-4b04-a2c9-0091bf9719c2",
   "metadata": {},
   "source": [
    "# Array operations"
   ]
  },
  {
   "cell_type": "code",
   "execution_count": 21,
   "id": "1f98b0c7-01c2-488a-b705-ebd70b7691d3",
   "metadata": {},
   "outputs": [
    {
     "name": "stdout",
     "output_type": "stream",
     "text": [
      "[5 7 9]\n"
     ]
    }
   ],
   "source": [
    "arr1 = np.array([1, 2, 3])\n",
    "arr2 = np.array([4, 5, 6])\n",
    "print(arr1+arr2)"
   ]
  },
  {
   "cell_type": "code",
   "execution_count": 22,
   "id": "d1348eb5-84d3-4201-a427-86a2bad98f01",
   "metadata": {},
   "outputs": [
    {
     "name": "stdout",
     "output_type": "stream",
     "text": [
      "[5 7 9]\n"
     ]
    }
   ],
   "source": [
    "arr_sum = arr1 + arr2\n",
    "print(arr_sum)"
   ]
  },
  {
   "cell_type": "code",
   "execution_count": 23,
   "id": "63031c17-987b-48d6-8919-cab50b53fd09",
   "metadata": {},
   "outputs": [
    {
     "name": "stdout",
     "output_type": "stream",
     "text": [
      "[ 4 10 18]\n"
     ]
    }
   ],
   "source": [
    "print(arr1*arr2)"
   ]
  },
  {
   "cell_type": "code",
   "execution_count": 24,
   "id": "ffff7cee-ae4f-4a4d-91d3-2e4d6043f19f",
   "metadata": {},
   "outputs": [
    {
     "name": "stdout",
     "output_type": "stream",
     "text": [
      "[ 4 10 18]\n"
     ]
    }
   ],
   "source": [
    "arr_mul = arr1 * arr2\n",
    "print(arr_mul)"
   ]
  },
  {
   "cell_type": "code",
   "execution_count": 26,
   "id": "52d3a935-20e6-4054-bbe0-4a493ff3826d",
   "metadata": {},
   "outputs": [
    {
     "name": "stdout",
     "output_type": "stream",
     "text": [
      "[ 5 10 15]\n"
     ]
    }
   ],
   "source": [
    "print(arr1*5)"
   ]
  },
  {
   "cell_type": "code",
   "execution_count": 27,
   "id": "e8fae1d8-b8e5-4aba-b817-d1ed938970fc",
   "metadata": {},
   "outputs": [
    {
     "name": "stdout",
     "output_type": "stream",
     "text": [
      "[6 7 8]\n"
     ]
    }
   ],
   "source": [
    "print(arr1+5)"
   ]
  },
  {
   "cell_type": "code",
   "execution_count": 28,
   "id": "2a9a0c6a-7f99-49d4-8362-286b509b65d8",
   "metadata": {},
   "outputs": [],
   "source": [
    "mat1= np.array([[1, 2],[3, 4]])\n",
    "mat2 = np.array([[2, 3],[4, 5]]) "
   ]
  },
  {
   "cell_type": "code",
   "execution_count": 30,
   "id": "ed2f4eaf-c305-492e-9d95-05b5994268bc",
   "metadata": {},
   "outputs": [
    {
     "name": "stdout",
     "output_type": "stream",
     "text": [
      "First Matrix:\n",
      "[[1 2]\n",
      " [3 4]]\n",
      "First Matrix:\n",
      "[[2 3]\n",
      " [4 5]]\n"
     ]
    }
   ],
   "source": [
    "print(f\"First Matrix:\\n{mat1}\")\n",
    "print(f\"First Matrix:\\n{mat2}\")"
   ]
  },
  {
   "cell_type": "code",
   "execution_count": 29,
   "id": "1197f653-f407-458c-9812-9fb3ce467e76",
   "metadata": {},
   "outputs": [
    {
     "name": "stdout",
     "output_type": "stream",
     "text": [
      "[[3 5]\n",
      " [7 9]]\n"
     ]
    }
   ],
   "source": [
    "mat_add= mat1+ mat2\n",
    "print(mat_add)"
   ]
  },
  {
   "cell_type": "code",
   "execution_count": 31,
   "id": "1bbaea81-2876-4749-94af-9ac3d92e2438",
   "metadata": {},
   "outputs": [
    {
     "name": "stdout",
     "output_type": "stream",
     "text": [
      "[[-1 -1]\n",
      " [-1 -1]]\n"
     ]
    }
   ],
   "source": [
    "mat_sub= mat1- mat2\n",
    "print(mat_sub)"
   ]
  },
  {
   "cell_type": "code",
   "execution_count": 34,
   "id": "956c5b86-bc5e-4ae7-9a43-0ab97fc7e316",
   "metadata": {},
   "outputs": [
    {
     "name": "stdout",
     "output_type": "stream",
     "text": [
      "[[ 3  6]\n",
      " [ 9 12]]\n"
     ]
    }
   ],
   "source": [
    "print(mat1 *3)"
   ]
  },
  {
   "cell_type": "code",
   "execution_count": 35,
   "id": "2a6c5fc4-d825-4af7-887a-39c42c8d758c",
   "metadata": {},
   "outputs": [
    {
     "name": "stdout",
     "output_type": "stream",
     "text": [
      "[[ 2  6]\n",
      " [12 20]]\n"
     ]
    }
   ],
   "source": [
    "print(mat1 * mat2)"
   ]
  },
  {
   "cell_type": "code",
   "execution_count": 36,
   "id": "4f23fbac-0e2c-4487-8bc1-49ae7e34e094",
   "metadata": {},
   "outputs": [
    {
     "name": "stdout",
     "output_type": "stream",
     "text": [
      "[[10 13]\n",
      " [22 29]]\n"
     ]
    }
   ],
   "source": [
    "mat_mul = mat1 @ mat2\n",
    "print(mat_mul)"
   ]
  },
  {
   "cell_type": "markdown",
   "id": "5185e729-df2d-46d7-a0aa-8711c345b5bc",
   "metadata": {},
   "source": [
    "print(np.dot(mat1, mat2))"
   ]
  },
  {
   "cell_type": "code",
   "execution_count": 38,
   "id": "694b9c17-cc92-4842-92a7-eaaad2b20b75",
   "metadata": {},
   "outputs": [
    {
     "name": "stdout",
     "output_type": "stream",
     "text": [
      "[[10 22]\n",
      " [13 29]]\n"
     ]
    }
   ],
   "source": [
    "#transpose\n",
    "print(mat_mul.T)"
   ]
  },
  {
   "cell_type": "code",
   "execution_count": 39,
   "id": "eaf75a0e-29e2-47f4-9908-478530545ff8",
   "metadata": {},
   "outputs": [
    {
     "name": "stdout",
     "output_type": "stream",
     "text": [
      "[[ 7.25 -3.25]\n",
      " [-5.5   2.5 ]]\n"
     ]
    }
   ],
   "source": [
    "print(np.linalg.inv(mat_mul))"
   ]
  },
  {
   "cell_type": "code",
   "execution_count": 40,
   "id": "9837ac67-8443-45e5-9111-4a6163436f94",
   "metadata": {},
   "outputs": [
    {
     "name": "stdout",
     "output_type": "stream",
     "text": [
      "-2.0000000000000004\n"
     ]
    }
   ],
   "source": [
    "print(np.linalg.det(mat1))"
   ]
  },
  {
   "cell_type": "code",
   "execution_count": 41,
   "id": "064358ee-5d21-494a-97ca-60aa2e19c2bc",
   "metadata": {},
   "outputs": [
    {
     "name": "stdout",
     "output_type": "stream",
     "text": [
      "EigResult(eigenvalues=array([-0.37228132,  5.37228132]), eigenvectors=array([[-0.82456484, -0.41597356],\n",
      "       [ 0.56576746, -0.90937671]]))\n"
     ]
    }
   ],
   "source": [
    "print(np.linalg.eig(mat1))"
   ]
  },
  {
   "cell_type": "markdown",
   "id": "7addf30e-0d61-4579-8d75-b4e3c66e6793",
   "metadata": {},
   "source": [
    "# Vector Calculation\n"
   ]
  },
  {
   "cell_type": "code",
   "execution_count": 43,
   "id": "818f1949-3ba5-4b2f-ae7b-8675f391c40a",
   "metadata": {},
   "outputs": [
    {
     "name": "stdout",
     "output_type": "stream",
     "text": [
      "v1= [1 2 3]\n",
      "v2= [3 4 5]\n"
     ]
    }
   ],
   "source": [
    "v1 =np.array([1, 2, 3])\n",
    "v2 =np.array([3, 4, 5])\n",
    "print(\"v1=\", v1)\n",
    "print(\"v2=\", v2)"
   ]
  },
  {
   "cell_type": "code",
   "execution_count": 44,
   "id": "9a0e7c07-ffc2-48e8-ae55-ad6757b1e968",
   "metadata": {},
   "outputs": [
    {
     "name": "stdout",
     "output_type": "stream",
     "text": [
      "26\n"
     ]
    }
   ],
   "source": [
    "dot_product = np.dot(v1, v2)\n",
    "print(dot_product)"
   ]
  },
  {
   "cell_type": "code",
   "execution_count": 45,
   "id": "3a2abe48-abb7-4fc3-a248-464ec1a2625e",
   "metadata": {},
   "outputs": [
    {
     "data": {
      "text/plain": [
       "np.int64(26)"
      ]
     },
     "execution_count": 45,
     "metadata": {},
     "output_type": "execute_result"
    }
   ],
   "source": [
    "v1 @ v2"
   ]
  },
  {
   "cell_type": "code",
   "execution_count": 47,
   "id": "bafb6d68-bf93-47a4-83f4-052567869d75",
   "metadata": {},
   "outputs": [
    {
     "name": "stdout",
     "output_type": "stream",
     "text": [
      "26\n"
     ]
    }
   ],
   "source": [
    "print (v1 @ v2)"
   ]
  },
  {
   "cell_type": "code",
   "execution_count": 48,
   "id": "82f18a86-b127-48ee-a011-0c663f5b4221",
   "metadata": {},
   "outputs": [
    {
     "name": "stdout",
     "output_type": "stream",
     "text": [
      "[-2  4 -2]\n"
     ]
    }
   ],
   "source": [
    "cross_product = np.cross(v1, v2)\n",
    "print(cross_product)"
   ]
  },
  {
   "cell_type": "code",
   "execution_count": 51,
   "id": "04b11666-b732-4d50-bd19-23287d139040",
   "metadata": {},
   "outputs": [
    {
     "data": {
      "text/plain": [
       "'\\ni j k\\n1 2 3\\n3 4 5\\n\\ni(10-12) -j (5-9) + k (4-6)\\n-2i + 4j -2k\\n[-2, 4, -2]\\n'"
      ]
     },
     "execution_count": 51,
     "metadata": {},
     "output_type": "execute_result"
    }
   ],
   "source": [
    "\"\"\"\n",
    "i j k\n",
    "1 2 3\n",
    "3 4 5\n",
    "\n",
    "i(10-12) -j (5-9) + k (4-6)\n",
    "-2i + 4j -2k\n",
    "[-2, 4, -2]\n",
    "\"\"\"\n"
   ]
  },
  {
   "cell_type": "markdown",
   "id": "28e5f6dd-3e93-43b2-a0a5-c593eddb00af",
   "metadata": {},
   "source": [
    "# solve linear equation\n",
    "2x + y = 5\n",
    "x + y  = 3\n",
    "----------\n",
    "x = 2\n",
    "y = 1\n",
    "\n"
   ]
  },
  {
   "cell_type": "code",
   "execution_count": 2,
   "id": "c006be1a-5f93-46ae-a23e-e1477a2322e3",
   "metadata": {},
   "outputs": [],
   "source": [
    "# A * X = B\n",
    "# X = (Ainv) B"
   ]
  },
  {
   "cell_type": "code",
   "execution_count": 10,
   "id": "c2766111-56e3-4fef-8d27-9270aa51a5f2",
   "metadata": {},
   "outputs": [
    {
     "name": "stdout",
     "output_type": "stream",
     "text": [
      " Value of (x, y): [2. 1.]\n"
     ]
    }
   ],
   "source": [
    "import numpy as np\n",
    "A = np.array([[2,1], [1,1]])\n",
    "B = np.array([5,3])\n",
    "\n",
    "X = np.linalg.solve(A, B)\n",
    "print(\" Value of (x, y):\",X)"
   ]
  },
  {
   "cell_type": "code",
   "execution_count": 11,
   "id": "bc47369c-45f7-4d42-9c17-2b60d6fe7178",
   "metadata": {},
   "outputs": [
    {
     "data": {
      "text/plain": [
       "array([[ 0.09419266,  1.53156107,  0.31397799],\n",
       "       [-1.77995147,  0.12322379,  1.40833189],\n",
       "       [ 1.51065721,  0.62488634,  2.31309654]])"
      ]
     },
     "execution_count": 11,
     "metadata": {},
     "output_type": "execute_result"
    }
   ],
   "source": [
    "np.random.randn(3,3)"
   ]
  },
  {
   "cell_type": "code",
   "execution_count": null,
   "id": "14110d69-c879-456b-90d7-4dd45c98c7ec",
   "metadata": {},
   "outputs": [],
   "source": []
  },
  {
   "cell_type": "code",
   "execution_count": null,
   "id": "abcb8c34-b119-4175-b501-c2fe1d9fcb00",
   "metadata": {},
   "outputs": [],
   "source": []
  }
 ],
 "metadata": {
  "kernelspec": {
   "display_name": "Python 3 (ipykernel)",
   "language": "python",
   "name": "python3"
  },
  "language_info": {
   "codemirror_mode": {
    "name": "ipython",
    "version": 3
   },
   "file_extension": ".py",
   "mimetype": "text/x-python",
   "name": "python",
   "nbconvert_exporter": "python",
   "pygments_lexer": "ipython3",
   "version": "3.11.9"
  }
 },
 "nbformat": 4,
 "nbformat_minor": 5
}
