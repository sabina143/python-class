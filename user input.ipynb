{
 "cells": [
  {
   "cell_type": "markdown",
   "id": "5981a85c-25b0-483c-8736-287c68d86a76",
   "metadata": {},
   "source": [
    "Date time"
   ]
  },
  {
   "cell_type": "code",
   "execution_count": 3,
   "id": "446a9266-7d2c-4b19-b6d7-ce1a9b723027",
   "metadata": {},
   "outputs": [],
   "source": [
    "import datetime\n"
   ]
  },
  {
   "cell_type": "code",
   "execution_count": 10,
   "id": "e1225aa8-5ed6-405b-888c-173062c3fce1",
   "metadata": {},
   "outputs": [
    {
     "name": "stdout",
     "output_type": "stream",
     "text": [
      "2025-05-12 08:47:36.992475\n"
     ]
    }
   ],
   "source": [
    "now =datetime.datetime.now()\n",
    "print(now)"
   ]
  },
  {
   "cell_type": "code",
   "execution_count": 5,
   "id": "46ca27a1-0eb2-4027-9f37-313e7b900720",
   "metadata": {},
   "outputs": [
    {
     "data": {
      "text/plain": [
       "datetime.date(2025, 5, 12)"
      ]
     },
     "execution_count": 5,
     "metadata": {},
     "output_type": "execute_result"
    }
   ],
   "source": [
    "datetime.date.today()"
   ]
  },
  {
   "cell_type": "code",
   "execution_count": 7,
   "id": "5f17c5c7-00b0-4ea1-9590-1c4ddd745c5a",
   "metadata": {},
   "outputs": [
    {
     "name": "stdout",
     "output_type": "stream",
     "text": [
      "2025-05-12\n"
     ]
    }
   ],
   "source": [
    "today = datetime.date.today()\n",
    "print (today)"
   ]
  },
  {
   "cell_type": "code",
   "execution_count": 8,
   "id": "2c645a24-4015-4f45-8e1a-62fc9df827e7",
   "metadata": {},
   "outputs": [
    {
     "name": "stdout",
     "output_type": "stream",
     "text": [
      "2025-05-11\n"
     ]
    }
   ],
   "source": [
    "yesterday = today -  datetime.timedelta (days=1)\n",
    "print (yesterday)"
   ]
  },
  {
   "cell_type": "code",
   "execution_count": 11,
   "id": "03ab1bd0-1089-4df3-b10d-a6f1f9fd0dce",
   "metadata": {},
   "outputs": [
    {
     "name": "stdin",
     "output_type": "stream",
     "text": [
      "enter your age: 24\n"
     ]
    }
   ],
   "source": [
    "age = input (\"enter your age:\")\n"
   ]
  },
  {
   "cell_type": "code",
   "execution_count": 13,
   "id": "98b2b1a7-b3ec-4fbb-8259-fa6c424227de",
   "metadata": {},
   "outputs": [
    {
     "name": "stdin",
     "output_type": "stream",
     "text": [
      "enter your name: nabina\n"
     ]
    }
   ],
   "source": [
    "name = input (\"enter your name:\")\n"
   ]
  },
  {
   "cell_type": "code",
   "execution_count": 14,
   "id": "6c8f82de-e9e1-4d56-8855-9f15f5213983",
   "metadata": {},
   "outputs": [
    {
     "name": "stdout",
     "output_type": "stream",
     "text": [
      "welcome to the class,nabina\n"
     ]
    }
   ],
   "source": [
    "print(f\"welcome to the class,{name}\")\n"
   ]
  },
  {
   "cell_type": "code",
   "execution_count": 15,
   "id": "8abd6861-2168-4001-b978-6df12ab8c81b",
   "metadata": {},
   "outputs": [
    {
     "name": "stdin",
     "output_type": "stream",
     "text": [
      "enter your age: 23\n"
     ]
    },
    {
     "name": "stdout",
     "output_type": "stream",
     "text": [
      " you are above 18.\n"
     ]
    }
   ],
   "source": [
    "age = int( input (\"enter your age:\"))\n",
    "COND = 18\n",
    "# age = int(age)\n",
    "if age < COND:\n",
    "    print(f\"you are below {COND}.\")\n",
    "elif age > COND:\n",
    "    print(f\" you are above {COND}.\")\n",
    "else:\n",
    "    print(f\" you are {COND}.\")"
   ]
  },
  {
   "cell_type": "raw",
   "id": "79520bf4-6dc8-4481-858d-952e55e9f4df",
   "metadata": {},
   "source": [
    "age = int( input (\"enter your age:\"))\n",
    "COND = 18\n",
    "# age = int(age)\n",
    "if age < COND:\n",
    "    print(f\"you are below {COND}.\")\n",
    "elif age > COND:\n",
    "    print(f\" you are above {COND}.\")\n",
    "else:\n",
    "    print(f\" you are {COND}.\")"
   ]
  },
  {
   "cell_type": "code",
   "execution_count": 24,
   "id": "9b20ae1b-b8fa-40ab-9f2b-0bd68208231a",
   "metadata": {},
   "outputs": [
    {
     "name": "stdin",
     "output_type": "stream",
     "text": [
      "enter your age:  twelve\n"
     ]
    },
    {
     "name": "stdout",
     "output_type": "stream",
     "text": [
      "invalid input\n"
     ]
    }
   ],
   "source": [
    "\n",
    "COND = 18\n",
    "\n",
    "try:\n",
    "    age = int( input (\"enter your age: \"))\n",
    "    # age = int(age)\n",
    "    if age < COND:\n",
    "       print(f\"you are below {COND}.\")\n",
    "    elif age > COND:\n",
    "         print(f\" you are above {COND}.\")\n",
    "    else:\n",
    "         print(f\" you are {COND}.\") \n",
    "except:\n",
    "         print(\"invalid input\")\n"
   ]
  },
  {
   "cell_type": "code",
   "execution_count": 26,
   "id": "793e1721-8343-4bd3-9c0b-c142d0427e5a",
   "metadata": {},
   "outputs": [
    {
     "name": "stdin",
     "output_type": "stream",
     "text": [
      "enter your age:  wef\n"
     ]
    },
    {
     "name": "stdout",
     "output_type": "stream",
     "text": [
      "Error:Input must be integer\n",
      "done\n"
     ]
    }
   ],
   "source": [
    "COND = 18\n",
    "\n",
    "try:\n",
    "    age = int( input (\"enter your age: \"))\n",
    "    # age = int(age)\n",
    "    if age < COND:\n",
    "       print(f\"you are below {COND}.\")\n",
    "    elif age > COND:\n",
    "         print(f\" you are above {COND}.\")\n",
    "    else:\n",
    "         print(f\" you are {COND}.\") \n",
    "except ValueError:\n",
    "         print(\"Error:Input must be integer\")\n",
    "except:\n",
    "         print(\"something wrong\")\n",
    "finally:\n",
    "         print(\"done\")"
   ]
  },
  {
   "cell_type": "code",
   "execution_count": null,
   "id": "91da20e2-8649-4814-b3e1-ea2a457c2c24",
   "metadata": {},
   "outputs": [],
   "source": [
    "# WAP that takes two integers as Input, and find out their divisions. use exception handling\n"
   ]
  },
  {
   "cell_type": "code",
   "execution_count": 41,
   "id": "f1970745-ac60-4ffb-81f7-9fb8609e0f4b",
   "metadata": {},
   "outputs": [
    {
     "name": "stdin",
     "output_type": "stream",
     "text": [
      "enter your first number:  0\n",
      "enter your second number:  9\n"
     ]
    },
    {
     "name": "stdout",
     "output_type": "stream",
     "text": [
      "0 / 9 = 0.0\n"
     ]
    }
   ],
   "source": [
    "try:\n",
    "     a=int(input(\"enter your first number: \"))\n",
    "     b =int(input(\"enter your second number: \"))\n",
    "\n",
    "     result = a / b\n",
    "     print(f\"{a} / {b} = {result}\")\n",
    "except ValueError:\n",
    "    print(\"hint: Enter valid\")\n",
    "except ZeroDivisionError:\n",
    "    print(\"hint: can't divide by 0\")\n",
    "except:\n",
    "    print(\"something wrong, try again.\")\n"
   ]
  },
  {
   "cell_type": "code",
   "execution_count": 11,
   "id": "de2f4e7d-f49d-4448-8ba6-9f340aec0297",
   "metadata": {},
   "outputs": [
    {
     "name": "stdin",
     "output_type": "stream",
     "text": [
      "enter first number:  50\n",
      "enter second number:  20\n"
     ]
    },
    {
     "name": "stdout",
     "output_type": "stream",
     "text": [
      "50+20=70\n"
     ]
    }
   ],
   "source": [
    "try:\n",
    "    a=int(input(\"enter first number: \"))\n",
    "    b=int(input(\"enter second number: \"))\n",
    "\n",
    "    sum = a+b \n",
    "    print(f\"{a}+{b}={sum}\")\n",
    "except ValueError:\n",
    "    print(\"hint: Enter valid\")  \n",
    "except:\n",
    "   print(\"hint: sum can't be less  than 100\")\n"
   ]
  },
  {
   "cell_type": "code",
   "execution_count": null,
   "id": "421d94b6-ac63-4033-b571-bdd65160634a",
   "metadata": {},
   "outputs": [],
   "source": []
  }
 ],
 "metadata": {
  "kernelspec": {
   "display_name": "Python 3 (ipykernel)",
   "language": "python",
   "name": "python3"
  },
  "language_info": {
   "codemirror_mode": {
    "name": "ipython",
    "version": 3
   },
   "file_extension": ".py",
   "mimetype": "text/x-python",
   "name": "python",
   "nbconvert_exporter": "python",
   "pygments_lexer": "ipython3",
   "version": "3.11.9"
  }
 },
 "nbformat": 4,
 "nbformat_minor": 5
}
