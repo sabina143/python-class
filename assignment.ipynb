{
 "cells": [
  {
   "cell_type": "code",
   "execution_count": 29,
   "id": "db3efe34-cdd2-4d3f-89bd-97876177f1f4",
   "metadata": {},
   "outputs": [
    {
     "name": "stdout",
     "output_type": "stream",
     "text": [
      "Maximum is 23\n",
      "Minimum is 1\n"
     ]
    }
   ],
   "source": [
    "\n",
    "largest = None\n",
    "smallest = None\n",
    "\n",
    "while True:\n",
    "    input_num =input (\"enter a number: \")\n",
    "\n",
    "    if input_num.lower() == \"done\":\n",
    "          break\n",
    "        \n",
    "    \n",
    "    try:\n",
    "          num = int(input_num)\n",
    "     \n",
    "    except ValueError:\n",
    "          print(\"Invalid Input. Please enter a valid number\")\n",
    "          continue  \n",
    "        \n",
    "    if largest is None or num > largest:\n",
    "        largest = num\n",
    "    if smallest is None or num < smallest:\n",
    "        smallest = num\n",
    "\n",
    "print (\"Maximum is\",  largest)\n",
    "print(\"Minimum is\", smallest)\n",
    "\n"
   ]
  },
  {
   "cell_type": "code",
   "execution_count": null,
   "id": "bc5d91bf",
   "metadata": {},
   "outputs": [
    {
     "name": "stdout",
     "output_type": "stream",
     "text": [
      "Error: Score out of range. Please enter a value between 0.0 and 1.0.\n",
      "Grade: A\n"
     ]
    },
    {
     "ename": "",
     "evalue": "",
     "output_type": "error",
     "traceback": [
      "\u001b[1;31mThe Kernel crashed while executing code in the current cell or a previous cell. \n",
      "\u001b[1;31mPlease review the code in the cell(s) to identify a possible cause of the failure. \n",
      "\u001b[1;31mClick <a href='https://aka.ms/vscodeJupyterKernelCrash'>here</a> for more info. \n",
      "\u001b[1;31mView Jupyter <a href='command:jupyter.viewOutput'>log</a> for further details."
     ]
    }
   ],
   "source": [
    "score_input = input(\"Enter a score between 0.0 and 1.0: \")\n",
    "\n",
    "try:\n",
    "    score = float(score_input)\n",
    "except ValueError:\n",
    "    print(\"Invalid input. Please enter a numeric value.\")\n",
    "    exit()\n",
    "\n",
    "if score < 0.0 or score > 1.0:\n",
    "    print(\"Error: Score out of range. Please enter a value between 0.0 and 1.0.\")\n",
    "    exit()\n",
    "\n",
    "if score >= 0.9:\n",
    "    grade = \"A\"\n",
    "elif score >= 0.8:\n",
    "    grade = \"B\"\n",
    "elif score >= 0.7:\n",
    "    grade = \"C\"\n",
    "elif score >= 0.6:\n",
    "    grade = \"D\"\n",
    "else:\n",
    "    grade = \"F\"\n",
    "\n",
    "print(\"Grade:\", grade)"
   ]
  },
  {
   "cell_type": "code",
   "execution_count": 1,
   "id": "e48c4fd5-4556-430a-a6a1-5d208767d172",
   "metadata": {},
   "outputs": [
    {
     "name": "stdout",
     "output_type": "stream",
     "text": [
      "display your guess is higher and continue\n",
      "display your guess is higher and continue\n",
      "display your guess is higher and continue\n",
      "display your guess is higher and continue\n",
      "display your guess is higher and continue\n",
      "display your guess is higher and continue\n",
      "display your guess is higher and continue\n",
      "display your guess is higher and continue\n",
      "display your guess is higher and continue\n",
      "display your guess is higher and continue\n",
      "display your guess is lower and continue\n",
      "display your guess is lower and continue\n",
      "display your guess is lower and continue\n",
      "display your guess is higher and continue\n",
      "display your guess is higher and continue\n",
      "display your guess is higher and continue\n",
      "your guess is correct\n"
     ]
    }
   ],
   "source": [
    "import random\n",
    "flag = random.randint(1,100)\n",
    "\n",
    "while True:\n",
    "    try:\n",
    "        guess = int(input(\"enter a number: \"))\n",
    "        if guess > flag:\n",
    "            print(\"display your guess is higher and continue\")\n",
    "        elif guess < flag:\n",
    "           print(\"display your guess is lower and continue\")\n",
    "        else:\n",
    "           print(\"your guess is correct\")\n",
    "           break\n",
    "    except ValueError:\n",
    "         print(\"enter a valid number: \")\n",
    "\n"
   ]
  },
  {
   "cell_type": "code",
   "execution_count": 1,
   "id": "29266cdd-4154-4057-ad95-48250445504d",
   "metadata": {},
   "outputs": [
    {
     "name": "stdout",
     "output_type": "stream",
     "text": [
      "Pay: 498.75\n"
     ]
    }
   ],
   "source": [
    "def computepay(hours, rate):\n",
    "    if hours <= 40:\n",
    "        pay = hours * rate\n",
    "    else:\n",
    "        overtime = hours - 40\n",
    "        pay = (40 * rate) + (overtime * rate * 1.5)\n",
    "    return pay\n",
    "\n",
    "# Prompt the user for input\n",
    "hrs = input(\"Enter Hours: \")\n",
    "rate = input(\"Enter Rate: \")\n",
    "\n",
    "# Convert input strings to floats\n",
    "try:\n",
    "    hrs = float(hrs)\n",
    "    rate = float(rate)\n",
    "    pay = computepay(hrs, rate)\n",
    "    print(\"Pay:\", pay)\n",
    "except ValueError:\n",
    "    print(\"Please enter valid numeric input.\")\n"
   ]
  },
  {
   "cell_type": "code",
   "execution_count": 1,
   "id": "fac2a677-8577-481f-9bea-96559be71272",
   "metadata": {},
   "outputs": [
    {
     "name": "stdout",
     "output_type": "stream",
     "text": [
      "['Arise', 'But', 'It', 'Juliet', 'Who', 'already', 'and', 'breaks', 'east', 'envious', 'fair', 'grief', 'is', 'kill', 'light', 'moon', 'pale', 'sick', 'soft', 'sun', 'the', 'through', 'what', 'window', 'with', 'yonder']\n"
     ]
    }
   ],
   "source": [
    "filename = \"romeo.txt\"\n",
    "try:\n",
    "    file = open(filename)\n",
    "\n",
    "    unique_words = []\n",
    "\n",
    "    \n",
    "    for line in file:\n",
    "        words = line.split()  \n",
    "        for word in words:\n",
    "            if word not in unique_words:\n",
    "                unique_words.append(word)\n",
    "\n",
    "    unique_words.sort() \n",
    "    print(unique_words)\n",
    "\n",
    "except FileNotFoundError:\n",
    "    print(f\"File '{filename}' not found.\")"
   ]
  },
  {
   "cell_type": "code",
   "execution_count": 3,
   "id": "0c2e4811",
   "metadata": {},
   "outputs": [
    {
     "name": "stdout",
     "output_type": "stream",
     "text": [
      "Average spam confidence: 0.8475\n"
     ]
    }
   ],
   "source": [
    "filename = input(\"Enter file name: \")\n",
    "\n",
    "try:\n",
    "    \n",
    "    with open(filename, 'r') as file:\n",
    "        count = 0\n",
    "        total = 0.0\n",
    "\n",
    "        for line in file:\n",
    "            line = line.strip()\n",
    "        \n",
    "            if line.startswith(\"X-DSPAM-Confidence:\"):\n",
    "                try:\n",
    "                \n",
    "                    value = float(line.split(\":\")[1].strip())\n",
    "                    total += value\n",
    "                    count += 1\n",
    "                except ValueError:\n",
    "                    \n",
    "                    continue\n",
    "\n",
    "        \n",
    "        if count > 0:\n",
    "            average = total / count\n",
    "            print(f\"Average spam confidence: {average}\")\n",
    "        else:\n",
    "            print(\"No matching lines found.\")\n",
    "\n",
    "except FileNotFoundError:\n",
    "    print(f\"File '{filename}' not found.\")"
   ]
  },
  {
   "cell_type": "code",
   "execution_count": 5,
   "id": "6b2df9a3",
   "metadata": {},
   "outputs": [
    {
     "name": "stdout",
     "output_type": "stream",
     "text": [
      "stephen.marquard@uct.ac.za\n",
      "louis@media.berkeley.edu\n",
      "zqian@umich.edu\n",
      "rjlowe@iupui.edu\n",
      "zqian@umich.edu\n",
      "rjlowe@iupui.edu\n",
      "cwen@iupui.edu\n",
      "cwen@iupui.edu\n",
      "gsilver@umich.edu\n",
      "gsilver@umich.edu\n",
      "zqian@umich.edu\n",
      "gsilver@umich.edu\n",
      "wagnermr@iupui.edu\n",
      "zqian@umich.edu\n",
      "antranig@caret.cam.ac.uk\n",
      "gopal.ramasammycook@gmail.com\n",
      "david.horwitz@uct.ac.za\n",
      "david.horwitz@uct.ac.za\n",
      "david.horwitz@uct.ac.za\n",
      "david.horwitz@uct.ac.za\n",
      "stephen.marquard@uct.ac.za\n",
      "louis@media.berkeley.edu\n",
      "louis@media.berkeley.edu\n",
      "ray@media.berkeley.edu\n",
      "cwen@iupui.edu\n",
      "cwen@iupui.edu\n",
      "cwen@iupui.edu\n",
      "There were 27 lines in the file with From as the first word\n"
     ]
    }
   ],
   "source": [
    "filename = \"mbox-short.txt\"\n",
    "count = 0\n",
    "\n",
    "try:\n",
    "    with open(filename, 'r') as file:\n",
    "        for line in file:\n",
    "            line = line.strip() \n",
    "            if line.startswith('From '): \n",
    "                words = line.split()\n",
    "                if len(words) > 1:\n",
    "                    print(words[1])  \n",
    "                    count += 1\n",
    "    print(\"There were\", count, \"lines in the file with From as the first word\")\n",
    "except FileNotFoundError:\n",
    "    print(f\"File '{filename}' not found.\")"
   ]
  }
 ],
 "metadata": {
  "kernelspec": {
   "display_name": "Python 3",
   "language": "python",
   "name": "python3"
  },
  "language_info": {
   "codemirror_mode": {
    "name": "ipython",
    "version": 3
   },
   "file_extension": ".py",
   "mimetype": "text/x-python",
   "name": "python",
   "nbconvert_exporter": "python",
   "pygments_lexer": "ipython3",
   "version": "3.11.9"
  }
 },
 "nbformat": 4,
 "nbformat_minor": 5
}
