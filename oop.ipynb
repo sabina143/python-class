{
 "cells": [
  {
   "cell_type": "markdown",
   "id": "598a0ba5",
   "metadata": {},
   "source": [
    "#Object Oriented Programming(OOP)"
   ]
  },
  {
   "cell_type": "markdown",
   "id": "7ea42934",
   "metadata": {},
   "source": [
    "OOP is a method of programming that focuses on using object and class to organize and structure code.\n",
    "**Object**\n",
    "-Instance of class\n",
    "\n",
    "**Class**\n",
    "-Like a blueprint for creating objects\n",
    "\n",
    "-Object contains\n",
    "    -Data(Attributes)\n",
    "    -Mehtods(Functions)\n",
    "\n",
    "    ## Fundamental Principle of OOP\n",
    "    1. Encapsulation\n",
    "        - Concept of bundling the attribute/data and methods/function  that work on the data into a single unit or class\n",
    "    \n",
    "    2. Abstraction\n",
    "        -Hiding the complex implementation details and showing only the essential features of the object.\n",
    "    \n",
    "     3.Inheritence\n",
    "        -Allowing a new class to inherit attributes and methods from an existing class.\n",
    "\n",
    "     4. Polymorphism\n",
    "        -Allowing objects of different classes to be treated as a object of common superclass(by overriding or overloading methods).\n",
    "\n",
    "        ## why OOP?\n",
    "        -Modularity\n",
    "        - code reuse\n",
    "        - Real world modeling\n",
    "        - Maintainability\n",
    "\n",
    "        magic methods\n",
    "        ''' \n",
    "        __init__\n",
    "        __str__\n",
    "        __add__\n",
    "        __del__\n",
    "        '''\n",
    "        "
   ]
  },
  {
   "cell_type": "code",
   "execution_count": null,
   "id": "588207d5",
   "metadata": {},
   "outputs": [],
   "source": []
  },
  {
   "cell_type": "code",
   "execution_count": 1,
   "id": "57fb95b0",
   "metadata": {},
   "outputs": [],
   "source": [
    "# Empty class\n",
    "class Person:\n",
    "     pass"
   ]
  },
  {
   "cell_type": "code",
   "execution_count": 2,
   "id": "2e01b6eb",
   "metadata": {},
   "outputs": [],
   "source": [
    "# Class with method\n",
    "class Person:\n",
    "    def say_hello(self):\n",
    "        print(\"Hello, World!\")"
   ]
  },
  {
   "cell_type": "code",
   "execution_count": 4,
   "id": "2a74ddec",
   "metadata": {},
   "outputs": [
    {
     "name": "stdout",
     "output_type": "stream",
     "text": [
      "Hello, World!\n"
     ]
    }
   ],
   "source": [
    "# Creating object\n",
    "p = Person()\n",
    "p.say_hello()"
   ]
  },
  {
   "cell_type": "code",
   "execution_count": 1,
   "id": "fa7bacae",
   "metadata": {},
   "outputs": [
    {
     "name": "stdout",
     "output_type": "stream",
     "text": [
      "Hello, Sita\n",
      "<__main__.Person object at 0x000001FC6B033D50>\n",
      "<class '__main__.Person'>\n",
      "None\n"
     ]
    }
   ],
   "source": [
    " #Class with method and attribute\n",
    "class Person:\n",
    "    name = \"Sita\"\n",
    "\n",
    "    def say_hello(self):\n",
    "        print(f\"Hello, {self.name}\")\n",
    "\n",
    "#Creating object\n",
    "p = Person()\n",
    "p.say_hello()\n",
    "print(p)\n",
    "print(p.__class__)\n",
    "print(p.__doc__)"
   ]
  },
  {
   "cell_type": "code",
   "execution_count": null,
   "id": "11ef3a4e",
   "metadata": {},
   "outputs": [],
   "source": [
    "inheritance constructor destructor"
   ]
  }
 ],
 "metadata": {
  "kernelspec": {
   "display_name": "Python 3",
   "language": "python",
   "name": "python3"
  },
  "language_info": {
   "codemirror_mode": {
    "name": "ipython",
    "version": 3
   },
   "file_extension": ".py",
   "mimetype": "text/x-python",
   "name": "python",
   "nbconvert_exporter": "python",
   "pygments_lexer": "ipython3",
   "version": "3.11.9"
  }
 },
 "nbformat": 4,
 "nbformat_minor": 5
}
