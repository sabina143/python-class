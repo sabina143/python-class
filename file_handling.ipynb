{
 "cells": [
  {
   "cell_type": "markdown",
   "id": "2d9593c2-ae84-4341-9c76-047e3ec97c0e",
   "metadata": {},
   "source": [
    "# file handling\n",
    "-read\n",
    "-write\n",
    "*normal file, binary file*\n"
   ]
  },
  {
   "cell_type": "markdown",
   "id": "3ddb2241-d774-4cad-b565-b4ae078037b4",
   "metadata": {},
   "source": [
    "## Modes\n",
    "1. Read only (r)\n",
    "2. Read only in binary (rb)\n",
    "3. Read and write (r+)\n",
    "4. Read and write in binary (rb+)\n",
    "5. Write (w)\n",
    "6. Write binary(wb)\n",
    "7. Write and read(w+)\n",
    "8. Write and read binary(wb+)\n",
    "9. Append (a)\n",
    "10. Append in binary (ab)\n",
    "11. Append and read (a+)\n",
    "12. Append and read in (ab+)"
   ]
  },
  {
   "cell_type": "markdown",
   "id": "2ae15b6c-e98b-46cf-9fc1-32b407b1b5b0",
   "metadata": {},
   "source": [
    "1. open a file\n",
    "2. do operation\n",
    "3. close file"
   ]
  },
  {
   "cell_type": "code",
   "execution_count": 6,
   "id": "309df87c-35ad-4344-83f0-f3f17f7bed6f",
   "metadata": {},
   "outputs": [
    {
     "name": "stdout",
     "output_type": "stream",
     "text": [
      "Skill Training Nepal\n",
      "Python Class\n",
      "\n"
     ]
    }
   ],
   "source": [
    "file = open(\"hello.txt\", \"r\")\n",
    "data = file.read()\n",
    "print(data)\n",
    "\n",
    "file.close()"
   ]
  },
  {
   "cell_type": "code",
   "execution_count": 7,
   "id": "d5a59faf-b5f8-4fef-ae73-459485b15622",
   "metadata": {},
   "outputs": [
    {
     "name": "stdout",
     "output_type": "stream",
     "text": [
      "b'Skill Training Nepal\\nPython Class\\n'\n"
     ]
    }
   ],
   "source": [
    "file = open(\"hello.txt\", \"rb\")\n",
    "data = file.read()\n",
    "print(data)\n",
    "\n",
    "file.close()"
   ]
  },
  {
   "cell_type": "code",
   "execution_count": 25,
   "id": "4ab792b5-cdf8-4d9b-b2fd-b16b7596ec7b",
   "metadata": {},
   "outputs": [],
   "source": [
    "file = open(\"newfile.txt\", \"w\")\n",
    "\n",
    "file.write(\"hello, world!\")\n",
    "\n",
    "file.close()"
   ]
  },
  {
   "cell_type": "code",
   "execution_count": 26,
   "id": "2c18628d-0f15-459f-84b1-1ea79f9d5310",
   "metadata": {},
   "outputs": [
    {
     "name": "stdout",
     "output_type": "stream",
     "text": [
      "written to file\n"
     ]
    }
   ],
   "source": [
    "file = open(\"newfile.txt\", \"wb\")\n",
    "\n",
    "file.write(b\"hello, world! once again.\")\n",
    "print(\"written to file\")\n",
    "\n",
    "file.close()"
   ]
  },
  {
   "cell_type": "code",
   "execution_count": null,
   "id": "d1ad1e0e-45fd-4248-8fef-4df4ca9eefe4",
   "metadata": {},
   "outputs": [],
   "source": []
  },
  {
   "cell_type": "code",
   "execution_count": 27,
   "id": "b57a0c55-1d76-43d8-8172-78f729db74eb",
   "metadata": {},
   "outputs": [],
   "source": [
    "# Append\n",
    "file = open(\"newfile.txt\", \"a\")\n",
    "\n",
    "file.write(\"\\nwelcome to this world\")\n",
    "\n",
    "file.close()"
   ]
  },
  {
   "cell_type": "code",
   "execution_count": null,
   "id": "49efd63d-1a77-46c0-9486-86d29dc22b27",
   "metadata": {},
   "outputs": [],
   "source": []
  },
  {
   "cell_type": "code",
   "execution_count": 33,
   "id": "8698864a-4069-41be-a58a-1ee4dbe98194",
   "metadata": {},
   "outputs": [
    {
     "name": "stdout",
     "output_type": "stream",
     "text": [
      "file not found\n"
     ]
    }
   ],
   "source": [
    "try:\n",
    "    \n",
    "    file = open(\"hellome.txt\", \"r\")\n",
    "    \n",
    "    data = file.read()\n",
    "    print(data)\n",
    "\n",
    "\n",
    "except FileNotFoundError:\n",
    "    print(\"file not found\")\n",
    "finally:\n",
    "    file.close()\n",
    "\n"
   ]
  },
  {
   "cell_type": "code",
   "execution_count": 36,
   "id": "09af21d5-1ad0-417c-8150-b6efb88f37d6",
   "metadata": {},
   "outputs": [
    {
     "name": "stdout",
     "output_type": "stream",
     "text": [
      "file not found\n"
     ]
    }
   ],
   "source": [
    "try:\n",
    "    \n",
    "    file = open(\"hellome.txt\", \"r\")\n",
    "    \n",
    "    data = file.read()\n",
    "    print(data)\n",
    "\n",
    "\n",
    "except FileNotFoundError:\n",
    "    print(\"file not found\")\n",
    "except Exception as e:\n",
    "    print(\"something wrong\", e)\n",
    "finally:\n",
    "    file.close()"
   ]
  },
  {
   "cell_type": "code",
   "execution_count": 38,
   "id": "0941ece5-2ccd-473e-8601-ada5b072f8d1",
   "metadata": {},
   "outputs": [
    {
     "name": "stdout",
     "output_type": "stream",
     "text": [
      "Skill Training Nepal\n",
      "Python Class\n",
      "studying group\n",
      "\n"
     ]
    }
   ],
   "source": [
    "#no problem to close\n",
    "with open(\"hello.txt\", \"r\") as file:\n",
    "    data= file.read()\n",
    "    print(data)"
   ]
  },
  {
   "cell_type": "code",
   "execution_count": 39,
   "id": "626c2936-abf1-43f2-9b76-2942f669248a",
   "metadata": {},
   "outputs": [
    {
     "name": "stdout",
     "output_type": "stream",
     "text": [
      "Skill Training Nepal\n",
      "\n"
     ]
    }
   ],
   "source": [
    "#single line\n",
    "with open(\"hello.txt\", \"r\") as file:\n",
    "    data= file.readline()\n",
    "    print(data)"
   ]
  },
  {
   "cell_type": "code",
   "execution_count": 41,
   "id": "259ab4f5-783d-4035-9bcb-97871df91e79",
   "metadata": {},
   "outputs": [
    {
     "name": "stdout",
     "output_type": "stream",
     "text": [
      "Skill Training Nepal\n",
      "\n",
      "Python Class\n",
      "\n",
      "studying group\n",
      "\n",
      "\n"
     ]
    }
   ],
   "source": [
    "# length data\n",
    "with open(\"hello.txt\", \"r\") as file:\n",
    "    data= file.readline()\n",
    "    print(data)\n",
    "    while len(data) > 0:\n",
    "        data = file.readline()\n",
    "        print(data)"
   ]
  },
  {
   "cell_type": "code",
   "execution_count": 42,
   "id": "ad22f78b-5b0c-4950-b408-125d63d07816",
   "metadata": {},
   "outputs": [
    {
     "name": "stdout",
     "output_type": "stream",
     "text": [
      "Skill Training Nepal\n",
      "\n",
      "Python Class\n",
      "\n",
      "studying group\n",
      "\n"
     ]
    }
   ],
   "source": [
    "with open(\"hello.txt\", \"r\") as file:\n",
    "   for line in file:\n",
    "       print(line)"
   ]
  },
  {
   "cell_type": "code",
   "execution_count": null,
   "id": "cedc83ef-8ac6-42c1-98d2-8e8ff46c40bc",
   "metadata": {},
   "outputs": [],
   "source": [
    "try: \n",
    "    while True:\n",
    "        "
   ]
  },
  {
   "cell_type": "markdown",
   "id": "eb520b08-9ab4-4421-8bcd-0947a287fa4c",
   "metadata": {},
   "source": [
    "write a program that prompts for a file name, then opens that file and reads through the file, and print the contents of the file in upper case,use the file words.txt to produce the output below.\n",
    "    you can download the sample data at http://www.py4e.com/code3/words.txt"
   ]
  },
  {
   "cell_type": "code",
   "execution_count": 51,
   "id": "850bc8de-50c5-4e7d-9426-c54a80ec5048",
   "metadata": {},
   "outputs": [
    {
     "name": "stdout",
     "output_type": "stream",
     "text": [
      "WRITING PROGRAMS OR PROGRAMMING IS A VERY CREATIVE\n",
      "AND REWARDING ACTIVITY  YOU CAN WRITE PROGRAMS FOR\n",
      "MANY REASONS RANGING FROM MAKING YOUR LIVING TO SOLVING\n",
      "A DIFFICULT DATA ANALYSIS PROBLEM TO HAVING FUN TO HELPING\n",
      "SOMEONE ELSE SOLVE A PROBLEM  THIS BOOK ASSUMES THAT\n",
      "{\\EM EVERYONE} NEEDS TO KNOW HOW TO PROGRAM AND THAT ONCE\n",
      "YOU KNOW HOW TO PROGRAM, YOU WILL FIGURE OUT WHAT YOU WANT\n",
      "TO DO WITH YOUR NEWFOUND SKILLS\n",
      "\n",
      "WE ARE SURROUNDED IN OUR DAILY LIVES WITH COMPUTERS RANGING\n",
      "FROM LAPTOPS TO CELL PHONES  WE CAN THINK OF THESE COMPUTERS\n",
      "AS OUR PERSONAL ASSISTANTS WHO CAN TAKE CARE OF MANY THINGS\n",
      "ON OUR BEHALF  THE HARDWARE IN OUR CURRENT-DAY COMPUTERS\n",
      "IS ESSENTIALLY BUILT TO CONTINUOUSLY ASK US THE QUESTION\n",
      "WHAT WOULD YOU LIKE ME TO DO NEXT\n",
      "\n",
      "OUR COMPUTERS ARE FAST AND HAVE VASTS AMOUNTS OF MEMORY AND \n",
      "COULD BE VERY HELPFUL TO US IF WE ONLY KNEW THE LANGUAGE TO \n",
      "SPEAK TO EXPLAIN TO THE COMPUTER WHAT WE WOULD LIKE IT TO \n",
      "DO NEXT IF WE KNEW THIS LANGUAGE WE COULD TELL THE \n",
      "COMPUTER TO DO TASKS ON OUR BEHALF THAT WERE REPTITIVE  \n",
      "INTERESTINGLY, THE KINDS OF THINGS COMPUTERS CAN DO BEST\n",
      "ARE OFTEN THE KINDS OF THINGS THAT WE HUMANS FIND BORING\n",
      "AND MIND-NUMBING\n"
     ]
    }
   ],
   "source": [
    "file = open(\"project.txt\", \"r\")\n",
    "data = file.read()\n",
    "print(data.upper())\n",
    "\n",
    "file.close()"
   ]
  },
  {
   "cell_type": "code",
   "execution_count": 53,
   "id": "042f0702-f660-4cff-91f5-b68f0a298eb1",
   "metadata": {},
   "outputs": [
    {
     "name": "stdin",
     "output_type": "stream",
     "text": [
      "enter file name:  project.txt\n"
     ]
    },
    {
     "name": "stdout",
     "output_type": "stream",
     "text": [
      "WRITING PROGRAMS OR PROGRAMMING IS A VERY CREATIVE\n",
      "AND REWARDING ACTIVITY  YOU CAN WRITE PROGRAMS FOR\n",
      "MANY REASONS RANGING FROM MAKING YOUR LIVING TO SOLVING\n",
      "A DIFFICULT DATA ANALYSIS PROBLEM TO HAVING FUN TO HELPING\n",
      "SOMEONE ELSE SOLVE A PROBLEM  THIS BOOK ASSUMES THAT\n",
      "{\\EM EVERYONE} NEEDS TO KNOW HOW TO PROGRAM AND THAT ONCE\n",
      "YOU KNOW HOW TO PROGRAM, YOU WILL FIGURE OUT WHAT YOU WANT\n",
      "TO DO WITH YOUR NEWFOUND SKILLS\n",
      "\n",
      "WE ARE SURROUNDED IN OUR DAILY LIVES WITH COMPUTERS RANGING\n",
      "FROM LAPTOPS TO CELL PHONES  WE CAN THINK OF THESE COMPUTERS\n",
      "AS OUR PERSONAL ASSISTANTS WHO CAN TAKE CARE OF MANY THINGS\n",
      "ON OUR BEHALF  THE HARDWARE IN OUR CURRENT-DAY COMPUTERS\n",
      "IS ESSENTIALLY BUILT TO CONTINUOUSLY ASK US THE QUESTION\n",
      "WHAT WOULD YOU LIKE ME TO DO NEXT\n",
      "\n",
      "OUR COMPUTERS ARE FAST AND HAVE VASTS AMOUNTS OF MEMORY AND\n",
      "COULD BE VERY HELPFUL TO US IF WE ONLY KNEW THE LANGUAGE TO\n",
      "SPEAK TO EXPLAIN TO THE COMPUTER WHAT WE WOULD LIKE IT TO\n",
      "DO NEXT IF WE KNEW THIS LANGUAGE WE COULD TELL THE\n",
      "COMPUTER TO DO TASKS ON OUR BEHALF THAT WERE REPTITIVE\n",
      "INTERESTINGLY, THE KINDS OF THINGS COMPUTERS CAN DO BEST\n",
      "ARE OFTEN THE KINDS OF THINGS THAT WE HUMANS FIND BORING\n",
      "AND MIND-NUMBING\n"
     ]
    }
   ],
   "source": [
    "fname= input(\"enter file name: \")\n",
    "if len(fname) <= 0:\n",
    "    fname = \"words.txt\"\n",
    "    \n",
    "with open(fname) as f:\n",
    "    for line in f:\n",
    "        line = line.strip()\n",
    "        line = line.upper()\n",
    "        print(line)\n"
   ]
  },
  {
   "cell_type": "code",
   "execution_count": null,
   "id": "85e97dee-4cbd-426a-8b5f-f2446a285a7a",
   "metadata": {},
   "outputs": [],
   "source": [
    "write code using find() and string slicing to extract the number at the end of the line below. convert the extracted value to a floating point number and print it out \n",
    "text=\"X-DSPAM-Confidence: 0.8475\"\n"
   ]
  },
  {
   "cell_type": "code",
   "execution_count": 66,
   "id": "835086d2-2c9a-4463-8319-74a2ac0d533c",
   "metadata": {},
   "outputs": [
    {
     "data": {
      "text/plain": [
       "22"
      ]
     },
     "execution_count": 66,
     "metadata": {},
     "output_type": "execute_result"
    }
   ],
   "source": [
    "text = \"X-DSPAM-Confidence:   0.8475\"\n",
    "text.find(\"0.8475\")\n",
    "\n",
    "\n"
   ]
  },
  {
   "cell_type": "code",
   "execution_count": 11,
   "id": "80484fec-b75d-4b79-8d73-c26be465952e",
   "metadata": {},
   "outputs": [
    {
     "name": "stdout",
     "output_type": "stream",
     "text": [
      "0.8475\n"
     ]
    }
   ],
   "source": [
    "text = \"X-DSPAM-Confidence:   0.8475\"\n",
    "\n",
    "position = text.find(\":\")\n",
    "number = text[position + 1:]\n",
    "number = number.strip()\n",
    "number = float (number)\n",
    "print(number)\n"
   ]
  },
  {
   "cell_type": "code",
   "execution_count": null,
   "id": "b80ba7bb-ace5-4ebd-9b7c-e569684fa59f",
   "metadata": {},
   "outputs": [],
   "source": []
  }
 ],
 "metadata": {
  "kernelspec": {
   "display_name": "Python 3 (ipykernel)",
   "language": "python",
   "name": "python3"
  },
  "language_info": {
   "codemirror_mode": {
    "name": "ipython",
    "version": 3
   },
   "file_extension": ".py",
   "mimetype": "text/x-python",
   "name": "python",
   "nbconvert_exporter": "python",
   "pygments_lexer": "ipython3",
   "version": "3.11.9"
  }
 },
 "nbformat": 4,
 "nbformat_minor": 5
}
