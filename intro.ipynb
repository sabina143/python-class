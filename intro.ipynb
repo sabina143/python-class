{
 "cells": [
  {
   "cell_type": "markdown",
   "id": "d031c296-5329-4b85-97e1-52352853cf4d",
   "metadata": {},
   "source": [
    "# Intro to python"
   ]
  },
  {
   "cell_type": "raw",
   "id": "da1f6eeb-caa6-47b5-9899-3b8548076468",
   "metadata": {},
   "source": [
    "print(\"Hello, World\")"
   ]
  },
  {
   "cell_type": "code",
   "execution_count": 7,
   "id": "09152001-889b-47d6-a9b4-6f78adaac594",
   "metadata": {},
   "outputs": [
    {
     "name": "stdout",
     "output_type": "stream",
     "text": [
      "Hello, World\n"
     ]
    }
   ],
   "source": [
    "# print Hello, World\n",
    "print(\"Hello, World\")"
   ]
  },
  {
   "cell_type": "code",
   "execution_count": 1,
   "id": "52e12e2a-fcf1-4653-9295-e33aeb0bf759",
   "metadata": {},
   "outputs": [
    {
     "name": "stdout",
     "output_type": "stream",
     "text": [
      "Hello, World\n"
     ]
    }
   ],
   "source": [
    "print(\"Hello, World\")"
   ]
  },
  {
   "cell_type": "code",
   "execution_count": 2,
   "id": "5c89539a-3850-4e06-a6c6-b261c19dd526",
   "metadata": {},
   "outputs": [
    {
     "name": "stdout",
     "output_type": "stream",
     "text": [
      "hello, world\n"
     ]
    }
   ],
   "source": [
    "print('hello, world')\n"
   ]
  },
  {
   "cell_type": "code",
   "execution_count": 5,
   "id": "0a830589-2883-446d-899b-30b0c0ec116e",
   "metadata": {},
   "outputs": [
    {
     "name": "stdout",
     "output_type": "stream",
     "text": [
      "hello, world\n",
      " Nepal\n"
     ]
    }
   ],
   "source": [
    "print(\"hello, world\\n Nepal\")"
   ]
  },
  {
   "cell_type": "code",
   "execution_count": 8,
   "id": "a7d06291-4c23-4688-9500-21311bcfad68",
   "metadata": {},
   "outputs": [
    {
     "name": "stdout",
     "output_type": "stream",
     "text": [
      "Hello, World\n",
      "Nepal\n"
     ]
    }
   ],
   "source": [
    "\"\"\"\n",
    "Again printing hello world\n",
    "with \\n\n",
    "\"\"\"\n",
    "print('Hello, World\\nNepal')"
   ]
  },
  {
   "cell_type": "markdown",
   "id": "4287b404-e7a7-497d-8dfa-e666ade9a176",
   "metadata": {},
   "source": [
    "my name is \"nabina\""
   ]
  },
  {
   "cell_type": "code",
   "execution_count": 9,
   "id": "e2a6a70b-199b-4172-b823-a50b816cd93e",
   "metadata": {},
   "outputs": [
    {
     "name": "stdout",
     "output_type": "stream",
     "text": [
      "my name is Nabina\n"
     ]
    }
   ],
   "source": [
    "print(\"my name is Nabina\")"
   ]
  },
  {
   "cell_type": "code",
   "execution_count": 10,
   "id": "14d72efb-6b09-4927-9204-83a16466105f",
   "metadata": {},
   "outputs": [
    {
     "name": "stdout",
     "output_type": "stream",
     "text": [
      "my name is \"nabina\"\n"
     ]
    }
   ],
   "source": [
    "print('my name is \"nabina\"')"
   ]
  },
  {
   "cell_type": "code",
   "execution_count": null,
   "id": "f736c1a3-ec2b-41a6-9109-0217a1e45809",
   "metadata": {},
   "outputs": [],
   "source": []
  }
 ],
 "metadata": {
  "kernelspec": {
   "display_name": "Python 3 (ipykernel)",
   "language": "python",
   "name": "python3"
  },
  "language_info": {
   "codemirror_mode": {
    "name": "ipython",
    "version": 3
   },
   "file_extension": ".py",
   "mimetype": "text/x-python",
   "name": "python",
   "nbconvert_exporter": "python",
   "pygments_lexer": "ipython3",
   "version": "3.11.9"
  }
 },
 "nbformat": 4,
 "nbformat_minor": 5
}
