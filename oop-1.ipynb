{
 "cells": [
  {
   "cell_type": "code",
   "execution_count": 3,
   "id": "ae0b35dc",
   "metadata": {},
   "outputs": [
    {
     "name": "stdout",
     "output_type": "stream",
     "text": [
      "Hello, Sita\n",
      "<__main__.Person object at 0x000001AE8B629C10>\n",
      "<class '__main__.Person'>\n",
      "\n",
      "    This is class Person, which says hello for a person\n",
      "    \n"
     ]
    }
   ],
   "source": [
    "class Person:\n",
    "    \"\"\"\n",
    "    This is class Person, which says hello for a person\n",
    "    \"\"\"\n",
    "    name = \"Sita\"\n",
    "    \n",
    "    def say_hello(self):\n",
    "        print(f\"Hello, {self.name}\")\n",
    "\n",
    "#Creating object\n",
    "p = Person()\n",
    "p.say_hello()\n",
    "print(p)\n",
    "print(p.__class__)\n",
    "print(p.__doc__)"
   ]
  },
  {
   "cell_type": "code",
   "execution_count": 10,
   "id": "3262adbd",
   "metadata": {},
   "outputs": [
    {
     "name": "stdout",
     "output_type": "stream",
     "text": [
      "Hello, Sita\n",
      "Person object with name Sita\n",
      "<class '__main__.Person'>\n",
      "\n",
      "    This is class Person, which says hello for a person\n",
      "    \n"
     ]
    }
   ],
   "source": [
    "# Class with method and attribute\n",
    "class Person:\n",
    "    \"\"\"\n",
    "    This is class Person, which says hello for a person\n",
    "    \"\"\"\n",
    "    name = \"Sita\"\n",
    "    \n",
    "    def say_hello(self):\n",
    "        print(f\"Hello, {self.name}\")\n",
    "        \n",
    "    def __str__(self):\n",
    "        return f\"Person object with name {self.name}\"\n",
    "\n",
    "#Creating object\n",
    "p = Person()\n",
    "p.say_hello()\n",
    "print(p)\n",
    "print(p.__class__)\n",
    "print(p.__doc__)\n"
   ]
  },
  {
   "cell_type": "code",
   "execution_count": 15,
   "id": "55c6aab4",
   "metadata": {},
   "outputs": [
    {
     "name": "stdout",
     "output_type": "stream",
     "text": [
      "Hello, Hari\n",
      "Person object with name Hari\n",
      "<class '__main__.Person'>\n",
      "\n",
      "    This is class Person, which says hello for a person\n",
      "    \n"
     ]
    }
   ],
   "source": [
    "# Class with method, attribute, constructor and destructor\n",
    "class Person:\n",
    "    \"\"\"\n",
    "    This is class Person, which says hello for a person\n",
    "    \"\"\"\n",
    "\n",
    "    def __init__(self,name):\n",
    "       self.name = name\n",
    "    \n",
    "    \n",
    "    def say_hello(self):\n",
    "        print(f\"Hello, {self.name}\")\n",
    "        \n",
    "    def __str__(self):\n",
    "        return f\"Person object with name {self.name}\"\n",
    "    \n",
    "    def __del__(self):\n",
    "        print(\"I am destructor\")\n",
    "\n",
    "#Creating object\n",
    "p = Person(\"Hari\")\n",
    "p.say_hello()\n",
    "print(p)\n",
    "print(p.__class__)\n",
    "print(p.__doc__)\n"
   ]
  },
  {
   "cell_type": "code",
   "execution_count": 19,
   "id": "43c94899",
   "metadata": {},
   "outputs": [
    {
     "name": "stdout",
     "output_type": "stream",
     "text": [
      "I am destructor\n",
      "Hello, Gopal\n",
      "\n",
      "    This is class Person, which says hello for a person\n",
      "    \n",
      "Person object with name Gopal\n"
     ]
    }
   ],
   "source": [
    "p1 = Person(\"Gopal\")\n",
    "p1.say_hello()\n",
    "print(p1.__doc__)\n",
    "print(p1)\n"
   ]
  },
  {
   "cell_type": "code",
   "execution_count": 18,
   "id": "f55a55ec",
   "metadata": {},
   "outputs": [
    {
     "name": "stdout",
     "output_type": "stream",
     "text": [
      "I am destructor\n",
      "Hello, palo\n",
      "\n",
      "    This is class Person, which says hello for a person\n",
      "    \n",
      "Person object with name palo\n"
     ]
    }
   ],
   "source": [
    "p2 = Person(\"palo\")\n",
    "p2.say_hello()\n",
    "print(p2.__doc__)\n",
    "print(p2)\n"
   ]
  },
  {
   "cell_type": "code",
   "execution_count": 21,
   "id": "78505acd",
   "metadata": {},
   "outputs": [
    {
     "name": "stdout",
     "output_type": "stream",
     "text": [
      "I am destructor\n",
      "\n",
      "    This is class Person, which says hello for a person\n",
      "    \n",
      "Person object with name A\n",
      "Hello, A\n",
      "\n",
      "    This is class Person, which says hello for a person\n",
      "    \n",
      "Person object with name B\n",
      "Hello, B\n",
      "\n",
      "    This is class Person, which says hello for a person\n",
      "    \n",
      "Person object with name C\n",
      "Hello, C\n"
     ]
    }
   ],
   "source": [
    "persons =[Person(\"A\"), Person(\"B\"), Person(\"C\")]\n",
    "\n",
    "for p in persons:\n",
    "    print(p.__doc__)\n",
    "    print(p)\n",
    "    p.say_hello()\n"
   ]
  },
  {
   "cell_type": "markdown",
   "id": "bb869361",
   "metadata": {},
   "source": [
    "write a class person\n",
    "constructor name,age\n",
    "function greet hello,my name is{name} and I am {age}years old"
   ]
  },
  {
   "cell_type": "code",
   "execution_count": 29,
   "id": "3ad191b2",
   "metadata": {},
   "outputs": [
    {
     "name": "stdout",
     "output_type": "stream",
     "text": [
      "Hello, my name is Hari and I am 23years old.\n"
     ]
    }
   ],
   "source": [
    "class Person:\n",
    "    \"\"\"\n",
    "    This is class Person, which says hello for a person\n",
    "    \"\"\"\n",
    "\n",
    "    def __init__(self,name,age):\n",
    "       self.name = name\n",
    "       self.age = age\n",
    "    \n",
    "    \n",
    "    def say_greet (self ):\n",
    "        print(f\"Hello, my name is {self.name} and I am {self.age}years old.\")\n",
    "        \n",
    "#     def __str__(self):\n",
    "#         return f\"Person object with name {self.name}\"\n",
    "    \n",
    "#     def __del__(self):\n",
    "#         print(\"I am destructor\")\n",
    "\n",
    "#Creating object\n",
    "p = Person(\"Hari\", 23)\n",
    "p.say_greet()\n"
   ]
  },
  {
   "cell_type": "code",
   "execution_count": 56,
   "id": "c728ec8a",
   "metadata": {},
   "outputs": [
    {
     "name": "stdout",
     "output_type": "stream",
     "text": [
      "Bank Balance is Rs. 100\n",
      "Deposited Rs. 1500\n",
      "Bank Balance is Rs. 1600\n",
      "withdraw Rs. 100\n",
      "Bank Balance is Rs. 1500\n"
     ]
    }
   ],
   "source": [
    "class BankAccount:\n",
    "\n",
    "    def __init__(self,balance):\n",
    "       self.__balance = balance\n",
    "\n",
    "    def deposit(self,amount):\n",
    "        print(f\"Deposited Rs. {amount}\")\n",
    "        self.__balance += amount\n",
    "\n",
    "    def withdraw(self,amount):\n",
    "        print(f\"withdraw Rs. {amount}\")\n",
    "        self.__balance -=amount\n",
    "\n",
    "    def get_balance(self):\n",
    "        return self.__balance\n",
    "    \n",
    "account = BankAccount(100)\n",
    "print(f\"Bank Balance is Rs. {account.get_balance()}\")\n",
    "\n",
    "account.deposit(1500)\n",
    "print(f\"Bank Balance is Rs. {account.get_balance()}\")\n",
    "\n",
    "account.withdraw(100)\n",
    "print(f\"Bank Balance is Rs. {account.get_balance()}\")"
   ]
  },
  {
   "cell_type": "code",
   "execution_count": null,
   "id": "574a7e89",
   "metadata": {},
   "outputs": [],
   "source": [
    "inheritance"
   ]
  }
 ],
 "metadata": {
  "kernelspec": {
   "display_name": "Python 3",
   "language": "python",
   "name": "python3"
  },
  "language_info": {
   "codemirror_mode": {
    "name": "ipython",
    "version": 3
   },
   "file_extension": ".py",
   "mimetype": "text/x-python",
   "name": "python",
   "nbconvert_exporter": "python",
   "pygments_lexer": "ipython3",
   "version": "3.11.9"
  }
 },
 "nbformat": 4,
 "nbformat_minor": 5
}
