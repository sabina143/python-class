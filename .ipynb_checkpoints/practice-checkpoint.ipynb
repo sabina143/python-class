{
 "cells": [
  {
   "cell_type": "code",
   "execution_count": 1,
   "id": "936e5df4-4f99-4656-839f-e1f4e5206f49",
   "metadata": {},
   "outputs": [
    {
     "name": "stdout",
     "output_type": "stream",
     "text": [
      "my name is nabina\n"
     ]
    }
   ],
   "source": [
    "print(\"my name is nabina\")\n"
   ]
  },
  {
   "cell_type": "code",
   "execution_count": 2,
   "id": "5631329a-968f-4601-a0dd-c18e1eee0e60",
   "metadata": {},
   "outputs": [
    {
     "ename": "SyntaxError",
     "evalue": "unterminated string literal (detected at line 1) (1354309699.py, line 1)",
     "output_type": "error",
     "traceback": [
      "  \u001b[36mCell\u001b[39m\u001b[36m \u001b[39m\u001b[32mIn[2]\u001b[39m\u001b[32m, line 1\u001b[39m\n\u001b[31m    \u001b[39m\u001b[31mprint('my name is \"nabina\"\")\u001b[39m\n          ^\n\u001b[31mSyntaxError\u001b[39m\u001b[31m:\u001b[39m unterminated string literal (detected at line 1)\n"
     ]
    }
   ],
   "source": [
    "print('my name is \"nabina\"\")\n"
   ]
  },
  {
   "cell_type": "code",
   "execution_count": 3,
   "id": "90ef5055-819c-4008-bfbf-e34be12d323a",
   "metadata": {},
   "outputs": [
    {
     "name": "stdout",
     "output_type": "stream",
     "text": [
      "my name is \"nabina\"\n"
     ]
    }
   ],
   "source": [
    "print('my name is \"nabina\"')\n"
   ]
  },
  {
   "cell_type": "code",
   "execution_count": 4,
   "id": "a7fb8f15-560f-449a-9e0f-d990dc29fa2f",
   "metadata": {},
   "outputs": [
    {
     "name": "stdout",
     "output_type": "stream",
     "text": [
      "apple\n"
     ]
    }
   ],
   "source": [
    "print(\"apple\")\n"
   ]
  },
  {
   "cell_type": "code",
   "execution_count": 5,
   "id": "543e5729-8b78-4f85-9d2e-551df5a6ab5c",
   "metadata": {},
   "outputs": [
    {
     "name": "stdout",
     "output_type": "stream",
     "text": [
      "kela\n"
     ]
    }
   ],
   "source": [
    "print(\"kela\")"
   ]
  },
  {
   "cell_type": "code",
   "execution_count": 6,
   "id": "1ed29c2f-103f-4b08-977e-2cbecfd54879",
   "metadata": {},
   "outputs": [
    {
     "name": "stdout",
     "output_type": "stream",
     "text": [
      "apple=3\n"
     ]
    }
   ],
   "source": [
    "# remember the path\n",
    "print(\"apple=3\")"
   ]
  },
  {
   "cell_type": "code",
   "execution_count": 7,
   "id": "db61e1e7-ca53-4f3a-b708-f1ec64f90f86",
   "metadata": {},
   "outputs": [
    {
     "name": "stdout",
     "output_type": "stream",
     "text": [
      "apple\n"
     ]
    }
   ],
   "source": [
    "fruit = \"apple\"\n",
    "print(fruit)\n"
   ]
  },
  {
   "cell_type": "code",
   "execution_count": 8,
   "id": "793948f4-c50d-4a7e-81ba-486dff077d6f",
   "metadata": {},
   "outputs": [
    {
     "name": "stdout",
     "output_type": "stream",
     "text": [
      "['apple', 'banana', 'cherry']\n"
     ]
    }
   ],
   "source": [
    "fruits = [\"apple\",  \"banana\" , \"cherry\"]\n",
    "print(fruits)"
   ]
  },
  {
   "cell_type": "code",
   "execution_count": 9,
   "id": "3b198f8a-fd62-4244-851d-008063366079",
   "metadata": {},
   "outputs": [
    {
     "name": "stdout",
     "output_type": "stream",
     "text": [
      "apple\n"
     ]
    }
   ],
   "source": [
    "print(fruits[0])"
   ]
  },
  {
   "cell_type": "code",
   "execution_count": 10,
   "id": "e129c34b-a819-4421-979f-999cfac4f2f2",
   "metadata": {},
   "outputs": [
    {
     "name": "stdout",
     "output_type": "stream",
     "text": [
      "cherry\n"
     ]
    }
   ],
   "source": [
    "print(fruits[2])"
   ]
  },
  {
   "cell_type": "code",
   "execution_count": null,
   "id": "2697d1e8-e1f5-45f9-b061-98b50c1a674a",
   "metadata": {},
   "outputs": [],
   "source": []
  }
 ],
 "metadata": {
  "kernelspec": {
   "display_name": "Python 3 (ipykernel)",
   "language": "python",
   "name": "python3"
  },
  "language_info": {
   "codemirror_mode": {
    "name": "ipython",
    "version": 3
   },
   "file_extension": ".py",
   "mimetype": "text/x-python",
   "name": "python",
   "nbconvert_exporter": "python",
   "pygments_lexer": "ipython3",
   "version": "3.11.9"
  }
 },
 "nbformat": 4,
 "nbformat_minor": 5
}
