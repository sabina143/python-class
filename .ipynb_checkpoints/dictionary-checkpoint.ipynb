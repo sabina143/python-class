{
 "cells": [
  {
   "cell_type": "markdown",
   "id": "914e74eb-d866-440d-8a0a-c2f90ab9cef8",
   "metadata": {},
   "source": [
    "dictionary\n",
    "key:value"
   ]
  },
  {
   "cell_type": "code",
   "execution_count": 1,
   "id": "3c1b453d-b5d1-463c-bd20-3bde8172f588",
   "metadata": {},
   "outputs": [
    {
     "data": {
      "text/plain": [
       "{}"
      ]
     },
     "execution_count": 1,
     "metadata": {},
     "output_type": "execute_result"
    }
   ],
   "source": [
    "d={}\n",
    "d\n"
   ]
  },
  {
   "cell_type": "code",
   "execution_count": 2,
   "id": "92d4b897-8a28-40dc-bd0e-9b9b9e4def9c",
   "metadata": {},
   "outputs": [
    {
     "data": {
      "text/plain": [
       "{}"
      ]
     },
     "execution_count": 2,
     "metadata": {},
     "output_type": "execute_result"
    }
   ],
   "source": [
    "d = dict()\n",
    "d"
   ]
  },
  {
   "cell_type": "code",
   "execution_count": 3,
   "id": "3ab96cb0-acf6-4ea0-9e7a-ff2ad7a115f5",
   "metadata": {},
   "outputs": [
    {
     "data": {
      "text/plain": [
       "{'key': 'value'}"
      ]
     },
     "execution_count": 3,
     "metadata": {},
     "output_type": "execute_result"
    }
   ],
   "source": [
    "d={'key':'value'}\n",
    "d"
   ]
  },
  {
   "cell_type": "code",
   "execution_count": 5,
   "id": "2d9a3540-affb-4442-ab59-112bd86b2eba",
   "metadata": {},
   "outputs": [
    {
     "data": {
      "text/plain": [
       "{'monkey': 'donkey'}"
      ]
     },
     "execution_count": 5,
     "metadata": {},
     "output_type": "execute_result"
    }
   ],
   "source": [
    "d={'monkey':'donkey'}\n",
    "d"
   ]
  },
  {
   "cell_type": "code",
   "execution_count": 8,
   "id": "21c1346b-82fd-418b-9f28-b2674be6cc28",
   "metadata": {},
   "outputs": [
    {
     "data": {
      "text/plain": [
       "{'key': 'val'}"
      ]
     },
     "execution_count": 8,
     "metadata": {},
     "output_type": "execute_result"
    }
   ],
   "source": [
    "dis = {k:v for k, v in [('key', 'val')]}\n",
    "dis"
   ]
  },
  {
   "cell_type": "code",
   "execution_count": 37,
   "id": "f5a2bbe4-a399-4b6f-849c-b90d036d93bd",
   "metadata": {},
   "outputs": [
    {
     "data": {
      "text/plain": [
       "{'name': 'Ram', 'address': 'kathmandu', 'age': 21}"
      ]
     },
     "execution_count": 37,
     "metadata": {},
     "output_type": "execute_result"
    }
   ],
   "source": [
    "info = {\n",
    "    \"name\": \"Ram\",\n",
    "    \"address\":\"kathmandu\",\n",
    "    \"age\":21\n",
    "}\n",
    "info"
   ]
  },
  {
   "cell_type": "code",
   "execution_count": 38,
   "id": "0b0252cc-e752-4d5c-98be-9f1568f45c22",
   "metadata": {},
   "outputs": [
    {
     "data": {
      "text/plain": [
       "21"
      ]
     },
     "execution_count": 38,
     "metadata": {},
     "output_type": "execute_result"
    }
   ],
   "source": [
    "info['age']"
   ]
  },
  {
   "cell_type": "code",
   "execution_count": 39,
   "id": "94505265-4659-430a-acae-3a7710888992",
   "metadata": {},
   "outputs": [
    {
     "name": "stdout",
     "output_type": "stream",
     "text": [
      "name\n",
      "address\n",
      "age\n"
     ]
    }
   ],
   "source": [
    "for i in info:\n",
    "    print(i)"
   ]
  },
  {
   "cell_type": "code",
   "execution_count": 40,
   "id": "6542afb6-f38d-4461-8600-9b49a4b7fccd",
   "metadata": {},
   "outputs": [
    {
     "name": "stdout",
     "output_type": "stream",
     "text": [
      "name = Ram\n",
      "address = kathmandu\n",
      "age = 21\n"
     ]
    }
   ],
   "source": [
    "for i in info:\n",
    "    print(i, \"=\", info[i])"
   ]
  },
  {
   "cell_type": "code",
   "execution_count": 44,
   "id": "7afd87cc-5726-4252-81db-5e717f8d72ed",
   "metadata": {},
   "outputs": [],
   "source": [
    "info[\"working\"]=\"Not yet\""
   ]
  },
  {
   "cell_type": "code",
   "execution_count": 45,
   "id": "89fbd779-94ca-4d36-bd8f-3690ad9b8242",
   "metadata": {},
   "outputs": [
    {
     "data": {
      "text/plain": [
       "{'name': 'Ram', 'address': 'kathmandu', 'age': 21, 'working': 'Not yet'}"
      ]
     },
     "execution_count": 45,
     "metadata": {},
     "output_type": "execute_result"
    }
   ],
   "source": [
    "info"
   ]
  },
  {
   "cell_type": "code",
   "execution_count": 46,
   "id": "f45f9114-ec76-43c6-9649-76b9613398e4",
   "metadata": {},
   "outputs": [
    {
     "name": "stdout",
     "output_type": "stream",
     "text": [
      "name = Ram\n",
      "address = kathmandu\n",
      "age = 21\n",
      "working = Not yet\n"
     ]
    }
   ],
   "source": [
    "for k, v in info.items():\n",
    "    print(k, \"=\", v)"
   ]
  },
  {
   "cell_type": "code",
   "execution_count": 47,
   "id": "fee07d99-9361-4f38-a073-2bf2140a7955",
   "metadata": {},
   "outputs": [
    {
     "data": {
      "text/plain": [
       "{'a': [1, 2, 3], 'b': ['one', 'two', 'three']}"
      ]
     },
     "execution_count": 47,
     "metadata": {},
     "output_type": "execute_result"
    }
   ],
   "source": [
    "dis = {\n",
    "    \"a\":[1,2,3],\n",
    "    \"b\":[\"one\", \"two\", \"three\"]\n",
    "}\n",
    "dis"
   ]
  },
  {
   "cell_type": "code",
   "execution_count": 48,
   "id": "35685c8b-8602-46a9-8ec4-7ff6dbba52ba",
   "metadata": {},
   "outputs": [
    {
     "data": {
      "text/plain": [
       "{'name': 'Ram',\n",
       " 'address': 'kathmandu',\n",
       " 'age': 21,\n",
       " 'working': 'Not yet',\n",
       " 'a': [1, 2, 3],\n",
       " 'b': ['one', 'two', 'three']}"
      ]
     },
     "execution_count": 48,
     "metadata": {},
     "output_type": "execute_result"
    }
   ],
   "source": [
    "new_dis = {**info, **dis}\n",
    "new_dis"
   ]
  },
  {
   "cell_type": "code",
   "execution_count": 49,
   "id": "5326104f-1bd1-4b95-8ae8-20fc5af57f69",
   "metadata": {},
   "outputs": [
    {
     "name": "stdout",
     "output_type": "stream",
     "text": [
      "name: Ram\n",
      "address: kathmandu\n",
      "age: 21\n",
      "working: Not yet\n",
      "a: [1, 2, 3]\n",
      "b: ['one', 'two', 'three']\n"
     ]
    }
   ],
   "source": [
    "for k,v in new_dis.items():\n",
    "    print(f\"{k}: {v}\")"
   ]
  },
  {
   "cell_type": "markdown",
   "id": "05f90b0d-dce8-4ece-be97-8b4684941ed0",
   "metadata": {},
   "source": [
    "# other data structures"
   ]
  },
  {
   "cell_type": "code",
   "execution_count": 51,
   "id": "b6ac83a0-09c0-45af-b2d7-1404f0544f6c",
   "metadata": {},
   "outputs": [],
   "source": [
    "# tuple"
   ]
  },
  {
   "cell_type": "code",
   "execution_count": 52,
   "id": "251feef3-133a-4d0f-a67b-90866b307b56",
   "metadata": {},
   "outputs": [
    {
     "data": {
      "text/plain": [
       "()"
      ]
     },
     "execution_count": 52,
     "metadata": {},
     "output_type": "execute_result"
    }
   ],
   "source": [
    "tpl = tuple()\n",
    "tpl"
   ]
  },
  {
   "cell_type": "code",
   "execution_count": 53,
   "id": "17c0c77e-2951-476f-992d-55ed3eed9b4c",
   "metadata": {},
   "outputs": [
    {
     "data": {
      "text/plain": [
       "()"
      ]
     },
     "execution_count": 53,
     "metadata": {},
     "output_type": "execute_result"
    }
   ],
   "source": [
    "tpl =()\n",
    "tpl"
   ]
  },
  {
   "cell_type": "code",
   "execution_count": 55,
   "id": "40c09c0f-7309-481e-801c-f0ca4053741f",
   "metadata": {},
   "outputs": [
    {
     "data": {
      "text/plain": [
       "(1, 3)"
      ]
     },
     "execution_count": 55,
     "metadata": {},
     "output_type": "execute_result"
    }
   ],
   "source": [
    "tpl=(1,3)\n",
    "tpl\n"
   ]
  },
  {
   "cell_type": "code",
   "execution_count": 56,
   "id": "bd7e2395-251a-427b-beee-b003473606e0",
   "metadata": {},
   "outputs": [
    {
     "ename": "AttributeError",
     "evalue": "'tuple' object has no attribute 'append'",
     "output_type": "error",
     "traceback": [
      "\u001b[31m---------------------------------------------------------------------------\u001b[39m",
      "\u001b[31mAttributeError\u001b[39m                            Traceback (most recent call last)",
      "\u001b[36mCell\u001b[39m\u001b[36m \u001b[39m\u001b[32mIn[56]\u001b[39m\u001b[32m, line 1\u001b[39m\n\u001b[32m----> \u001b[39m\u001b[32m1\u001b[39m \u001b[43mtpl\u001b[49m\u001b[43m.\u001b[49m\u001b[43mappend\u001b[49m(\u001b[32m4\u001b[39m)\n",
      "\u001b[31mAttributeError\u001b[39m: 'tuple' object has no attribute 'append'"
     ]
    }
   ],
   "source": [
    "tpl.append(4)"
   ]
  },
  {
   "cell_type": "code",
   "execution_count": 57,
   "id": "b5d42944-723e-4474-8bb4-b1dfc18c7f48",
   "metadata": {},
   "outputs": [
    {
     "ename": "AttributeError",
     "evalue": "'tuple' object has no attribute 'delete'",
     "output_type": "error",
     "traceback": [
      "\u001b[31m---------------------------------------------------------------------------\u001b[39m",
      "\u001b[31mAttributeError\u001b[39m                            Traceback (most recent call last)",
      "\u001b[36mCell\u001b[39m\u001b[36m \u001b[39m\u001b[32mIn[57]\u001b[39m\u001b[32m, line 1\u001b[39m\n\u001b[32m----> \u001b[39m\u001b[32m1\u001b[39m \u001b[43mtpl\u001b[49m\u001b[43m.\u001b[49m\u001b[43mdelete\u001b[49m(\u001b[32m1\u001b[39m)\n",
      "\u001b[31mAttributeError\u001b[39m: 'tuple' object has no attribute 'delete'"
     ]
    }
   ],
   "source": [
    "tpl.delete(1)"
   ]
  },
  {
   "cell_type": "code",
   "execution_count": 58,
   "id": "04db5677-53d7-459c-ba25-9ff162e53a41",
   "metadata": {},
   "outputs": [
    {
     "ename": "AttributeError",
     "evalue": "'tuple' object has no attribute 'remove'",
     "output_type": "error",
     "traceback": [
      "\u001b[31m---------------------------------------------------------------------------\u001b[39m",
      "\u001b[31mAttributeError\u001b[39m                            Traceback (most recent call last)",
      "\u001b[36mCell\u001b[39m\u001b[36m \u001b[39m\u001b[32mIn[58]\u001b[39m\u001b[32m, line 1\u001b[39m\n\u001b[32m----> \u001b[39m\u001b[32m1\u001b[39m \u001b[43mtpl\u001b[49m\u001b[43m.\u001b[49m\u001b[43mremove\u001b[49m(\u001b[32m1\u001b[39m)\n",
      "\u001b[31mAttributeError\u001b[39m: 'tuple' object has no attribute 'remove'"
     ]
    }
   ],
   "source": [
    "tpl.remove(1)\n"
   ]
  },
  {
   "cell_type": "code",
   "execution_count": 59,
   "id": "9db2bfef-3537-41b6-ac85-874385a15077",
   "metadata": {},
   "outputs": [
    {
     "data": {
      "text/plain": [
       "['__add__',\n",
       " '__class__',\n",
       " '__class_getitem__',\n",
       " '__contains__',\n",
       " '__delattr__',\n",
       " '__dir__',\n",
       " '__doc__',\n",
       " '__eq__',\n",
       " '__format__',\n",
       " '__ge__',\n",
       " '__getattribute__',\n",
       " '__getitem__',\n",
       " '__getnewargs__',\n",
       " '__getstate__',\n",
       " '__gt__',\n",
       " '__hash__',\n",
       " '__init__',\n",
       " '__init_subclass__',\n",
       " '__iter__',\n",
       " '__le__',\n",
       " '__len__',\n",
       " '__lt__',\n",
       " '__mul__',\n",
       " '__ne__',\n",
       " '__new__',\n",
       " '__reduce__',\n",
       " '__reduce_ex__',\n",
       " '__repr__',\n",
       " '__rmul__',\n",
       " '__setattr__',\n",
       " '__sizeof__',\n",
       " '__str__',\n",
       " '__subclasshook__',\n",
       " 'count',\n",
       " 'index']"
      ]
     },
     "execution_count": 59,
     "metadata": {},
     "output_type": "execute_result"
    }
   ],
   "source": [
    "dir(tuple)"
   ]
  },
  {
   "cell_type": "code",
   "execution_count": 60,
   "id": "9315c1f2-d9e6-42d4-932c-f0b0f61f8619",
   "metadata": {},
   "outputs": [],
   "source": [
    "#set"
   ]
  },
  {
   "cell_type": "code",
   "execution_count": 61,
   "id": "22f7925a-1021-4d65-b5e3-1e1f2447dce0",
   "metadata": {},
   "outputs": [
    {
     "data": {
      "text/plain": [
       "set()"
      ]
     },
     "execution_count": 61,
     "metadata": {},
     "output_type": "execute_result"
    }
   ],
   "source": [
    "s = set()\n",
    "s"
   ]
  },
  {
   "cell_type": "code",
   "execution_count": 62,
   "id": "a0c0f363-9fa0-4faf-ae0f-f2785fefa917",
   "metadata": {},
   "outputs": [
    {
     "data": {
      "text/plain": [
       "{}"
      ]
     },
     "execution_count": 62,
     "metadata": {},
     "output_type": "execute_result"
    }
   ],
   "source": [
    "s ={}\n",
    "s"
   ]
  },
  {
   "cell_type": "code",
   "execution_count": 63,
   "id": "7931f56e-1f06-4d2f-840a-ff421cab01df",
   "metadata": {},
   "outputs": [
    {
     "data": {
      "text/plain": [
       "dict"
      ]
     },
     "execution_count": 63,
     "metadata": {},
     "output_type": "execute_result"
    }
   ],
   "source": [
    "type(s)"
   ]
  },
  {
   "cell_type": "code",
   "execution_count": 64,
   "id": "b55b1a61-ca86-470d-a274-51e22ebd4259",
   "metadata": {},
   "outputs": [],
   "source": [
    "s = {2, 4, 5} "
   ]
  },
  {
   "cell_type": "code",
   "execution_count": 65,
   "id": "91e4439b-178b-43c8-ac87-eebbd1bcb537",
   "metadata": {},
   "outputs": [
    {
     "data": {
      "text/plain": [
       "set"
      ]
     },
     "execution_count": 65,
     "metadata": {},
     "output_type": "execute_result"
    }
   ],
   "source": [
    "type(s)"
   ]
  },
  {
   "cell_type": "code",
   "execution_count": 66,
   "id": "6fde6049-67e2-4e6e-83b3-a09220aab7b0",
   "metadata": {},
   "outputs": [],
   "source": [
    "st = {2, 3, 4 ,5 ,1 ,3 , 2 ,6}"
   ]
  },
  {
   "cell_type": "code",
   "execution_count": 67,
   "id": "841b0a4b-46aa-422f-81c9-fe3003347b68",
   "metadata": {},
   "outputs": [
    {
     "data": {
      "text/plain": [
       "{1, 2, 3, 4, 5, 6}"
      ]
     },
     "execution_count": 67,
     "metadata": {},
     "output_type": "execute_result"
    }
   ],
   "source": [
    "st"
   ]
  },
  {
   "cell_type": "code",
   "execution_count": null,
   "id": "5c5a8c45-7138-442c-a426-2f78bea79de9",
   "metadata": {},
   "outputs": [],
   "source": []
  }
 ],
 "metadata": {
  "kernelspec": {
   "display_name": "Python 3 (ipykernel)",
   "language": "python",
   "name": "python3"
  },
  "language_info": {
   "codemirror_mode": {
    "name": "ipython",
    "version": 3
   },
   "file_extension": ".py",
   "mimetype": "text/x-python",
   "name": "python",
   "nbconvert_exporter": "python",
   "pygments_lexer": "ipython3",
   "version": "3.11.9"
  }
 },
 "nbformat": 4,
 "nbformat_minor": 5
}
