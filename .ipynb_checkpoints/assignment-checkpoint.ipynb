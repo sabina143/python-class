{
 "cells": [
  {
   "cell_type": "code",
   "execution_count": 20,
   "id": "db3efe34-cdd2-4d3f-89bd-97876177f1f4",
   "metadata": {},
   "outputs": [
    {
     "ename": "SyntaxError",
     "evalue": "expected ':' (3730560494.py, line 1)",
     "output_type": "error",
     "traceback": [
      "  \u001b[36mCell\u001b[39m\u001b[36m \u001b[39m\u001b[32mIn[20]\u001b[39m\u001b[32m, line 1\u001b[39m\n\u001b[31m    \u001b[39m\u001b[31mwhile true\u001b[39m\n              ^\n\u001b[31mSyntaxError\u001b[39m\u001b[31m:\u001b[39m expected ':'\n"
     ]
    }
   ],
   "source": [
    "\n",
    "\n",
    "while true\n",
    "    num = int( input (\"enter a number: \"))\n",
    "    \n",
    "    continue\n",
    "    num=int(input(\"done\"))\n",
    "\n",
    "    if input == done:\n",
    "        break\n",
    "        \n",
    "    elif num> int:\n",
    "         print(\"largest number is:\")\n",
    "    else:\n",
    "         print(\"smallest number is:\") \n",
    "except:\n",
    "         print(\"invalid input\")\n"
   ]
  },
  {
   "cell_type": "code",
   "execution_count": null,
   "id": "30d83d9a-c602-46a3-a274-1ec7fa732d03",
   "metadata": {},
   "outputs": [],
   "source": []
  },
  {
   "cell_type": "code",
   "execution_count": null,
   "id": "e48c4fd5-4556-430a-a6a1-5d208767d172",
   "metadata": {},
   "outputs": [],
   "source": [
    "\n"
   ]
  },
  {
   "cell_type": "code",
   "execution_count": null,
   "id": "29266cdd-4154-4057-ad95-48250445504d",
   "metadata": {},
   "outputs": [],
   "source": [
    "\n"
   ]
  },
  {
   "cell_type": "code",
   "execution_count": null,
   "id": "fac2a677-8577-481f-9bea-96559be71272",
   "metadata": {},
   "outputs": [],
   "source": []
  }
 ],
 "metadata": {
  "kernelspec": {
   "display_name": "Python 3 (ipykernel)",
   "language": "python",
   "name": "python3"
  },
  "language_info": {
   "codemirror_mode": {
    "name": "ipython",
    "version": 3
   },
   "file_extension": ".py",
   "mimetype": "text/x-python",
   "name": "python",
   "nbconvert_exporter": "python",
   "pygments_lexer": "ipython3",
   "version": "3.11.9"
  }
 },
 "nbformat": 4,
 "nbformat_minor": 5
}
