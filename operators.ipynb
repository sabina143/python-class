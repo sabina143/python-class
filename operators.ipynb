{
 "cells": [
  {
   "cell_type": "code",
   "execution_count": 1,
   "id": "63abd32e-7976-47ad-83f9-b72e6f4d543b",
   "metadata": {},
   "outputs": [],
   "source": [
    "name = \"Skill Training Nepal\"\n"
   ]
  },
  {
   "cell_type": "code",
   "execution_count": 2,
   "id": "f00e726d-8e5e-48d2-8248-11bbdb3c3aba",
   "metadata": {},
   "outputs": [
    {
     "name": "stdout",
     "output_type": "stream",
     "text": [
      "Training center:  Skill Training Nepal\n"
     ]
    }
   ],
   "source": [
    "print (\"Training center: \" , name)"
   ]
  },
  {
   "cell_type": "code",
   "execution_count": 3,
   "id": "adb93d8e-1d4e-4dc0-81a5-9fa525ac9583",
   "metadata": {},
   "outputs": [
    {
     "name": "stdout",
     "output_type": "stream",
     "text": [
      "Training center+name\n"
     ]
    }
   ],
   "source": [
    "print(\"Training center+name\")"
   ]
  },
  {
   "cell_type": "code",
   "execution_count": 4,
   "id": "85a2fae0-6fd4-44a6-a0e8-66ce15cce1ef",
   "metadata": {},
   "outputs": [
    {
     "name": "stdout",
     "output_type": "stream",
     "text": [
      "Training Center: Skill Training Nepal\n"
     ]
    }
   ],
   "source": [
    "print(\"Training Center: \" +name)"
   ]
  },
  {
   "cell_type": "code",
   "execution_count": 5,
   "id": "04b49934-5ee6-4689-ab6b-e3751418b82f",
   "metadata": {},
   "outputs": [
    {
     "ename": "SyntaxError",
     "evalue": "invalid syntax (854198689.py, line 1)",
     "output_type": "error",
     "traceback": [
      "  \u001b[36mCell\u001b[39m\u001b[36m \u001b[39m\u001b[32mIn[5]\u001b[39m\u001b[32m, line 1\u001b[39m\n\u001b[31m    \u001b[39m\u001b[31mprint(f \"Training Center: {name}\")\u001b[39m\n            ^\n\u001b[31mSyntaxError\u001b[39m\u001b[31m:\u001b[39m invalid syntax\n"
     ]
    }
   ],
   "source": [
    "print(f \"Training Center: {name}\")"
   ]
  },
  {
   "cell_type": "code",
   "execution_count": 6,
   "id": "8a92fef5-585f-4128-a91d-52ae14351adf",
   "metadata": {},
   "outputs": [
    {
     "name": "stdout",
     "output_type": "stream",
     "text": [
      "Training Center:Skill Training Nepal\n"
     ]
    }
   ],
   "source": [
    "print(f\"Training Center:{name}\")"
   ]
  },
  {
   "cell_type": "code",
   "execution_count": 7,
   "id": "6c0cfb7c-8951-454d-a763-07aa5e67a05f",
   "metadata": {},
   "outputs": [
    {
     "name": "stdout",
     "output_type": "stream",
     "text": [
      "Training Center:Skill Training Nepal\n"
     ]
    }
   ],
   "source": [
    "print(\"Training Center:{}\".format(name))"
   ]
  },
  {
   "cell_type": "code",
   "execution_count": 9,
   "id": "2c747aa7-61f7-4319-aa33-9b5a7fc99df3",
   "metadata": {
    "scrolled": true
   },
   "outputs": [
    {
     "name": "stdout",
     "output_type": "stream",
     "text": [
      "7\n",
      "7\n"
     ]
    }
   ],
   "source": [
    "a, b, c = 4, 3, 2.0\n",
    "d = a + b\n",
    "print(d)\n",
    "\n",
    "print(a + b)"
   ]
  },
  {
   "cell_type": "raw",
   "id": "d890a48e-6daf-4b42-88e8-2950f12a12a3",
   "metadata": {},
   "source": [
    "d = a + c\n",
    "print(d)\n",
    "print(type(d))"
   ]
  },
  {
   "cell_type": "code",
   "execution_count": 10,
   "id": "360d6fe2-4ee7-41ca-8d58-d16180e869e5",
   "metadata": {},
   "outputs": [
    {
     "name": "stdout",
     "output_type": "stream",
     "text": [
      "7\n"
     ]
    }
   ],
   "source": [
    "print(d)"
   ]
  },
  {
   "cell_type": "code",
   "execution_count": 11,
   "id": "4dec8f52-efcc-4ac9-a22d-8c228e4135f7",
   "metadata": {},
   "outputs": [
    {
     "name": "stdout",
     "output_type": "stream",
     "text": [
      "6.0\n",
      "<class 'float'>\n"
     ]
    }
   ],
   "source": [
    "d = a + c\n",
    "print (d)\n",
    "print(type(d))"
   ]
  },
  {
   "cell_type": "code",
   "execution_count": 12,
   "id": "45d99e28-32f5-4248-bbc8-9ab7428b0abd",
   "metadata": {},
   "outputs": [
    {
     "name": "stdout",
     "output_type": "stream",
     "text": [
      "6\n",
      "<class 'int'>\n"
     ]
    }
   ],
   "source": [
    "d = a + int(c)\n",
    "print(d)\n",
    "print(type(d))"
   ]
  },
  {
   "cell_type": "code",
   "execution_count": 13,
   "id": "02f531d6-287e-4dd7-adce-e9acdaba6aff",
   "metadata": {},
   "outputs": [],
   "source": [
    "import operator\n"
   ]
  },
  {
   "cell_type": "code",
   "execution_count": 14,
   "id": "dd3d5bd6-051b-4f75-a085-1fab9acf22e5",
   "metadata": {},
   "outputs": [
    {
     "data": {
      "text/plain": [
       "7"
      ]
     },
     "execution_count": 14,
     "metadata": {},
     "output_type": "execute_result"
    }
   ],
   "source": [
    "operator.add(a,b)"
   ]
  },
  {
   "cell_type": "code",
   "execution_count": 15,
   "id": "084e0bcb-a2e0-4028-be15-063c6648ea1a",
   "metadata": {},
   "outputs": [
    {
     "data": {
      "text/plain": [
       "6.0"
      ]
     },
     "execution_count": 15,
     "metadata": {},
     "output_type": "execute_result"
    }
   ],
   "source": [
    "operator.add(a,c)"
   ]
  },
  {
   "cell_type": "code",
   "execution_count": 16,
   "id": "3735073e-cdb2-4df2-bf12-5536acaa7d49",
   "metadata": {},
   "outputs": [
    {
     "name": "stdout",
     "output_type": "stream",
     "text": [
      "6.0\n"
     ]
    }
   ],
   "source": [
    "a += c\n",
    "print(a)"
   ]
  },
  {
   "cell_type": "code",
   "execution_count": 18,
   "id": "caaa3292-84df-463f-bbdc-7ab9d1301b53",
   "metadata": {},
   "outputs": [
    {
     "data": {
      "text/plain": [
       "8.0"
      ]
     },
     "execution_count": 18,
     "metadata": {},
     "output_type": "execute_result"
    }
   ],
   "source": [
    "operator. iadd(a,c) # a += c"
   ]
  },
  {
   "cell_type": "code",
   "execution_count": 19,
   "id": "e2439a18-3ce7-4a78-a1a9-22cb9d293f04",
   "metadata": {},
   "outputs": [],
   "source": [
    "a, b = 3, 4"
   ]
  },
  {
   "cell_type": "code",
   "execution_count": 20,
   "id": "18a68ab7-0188-42a2-af02-0813f4df6744",
   "metadata": {},
   "outputs": [
    {
     "name": "stdout",
     "output_type": "stream",
     "text": [
      "-1\n"
     ]
    }
   ],
   "source": [
    "a -b \n",
    "print(a-b)"
   ]
  },
  {
   "cell_type": "code",
   "execution_count": 21,
   "id": "10b5f4af-5e6e-49a8-a601-534368e00d43",
   "metadata": {},
   "outputs": [
    {
     "name": "stdout",
     "output_type": "stream",
     "text": [
      "-1\n"
     ]
    }
   ],
   "source": [
    "a -= b\n",
    "a\n",
    "print(a)"
   ]
  },
  {
   "cell_type": "code",
   "execution_count": 65,
   "id": "a30155c6-15dc-47ec-9d58-43f11d595b08",
   "metadata": {},
   "outputs": [
    {
     "data": {
      "text/plain": [
       "-1"
      ]
     },
     "execution_count": 65,
     "metadata": {},
     "output_type": "execute_result"
    }
   ],
   "source": [
    "import operator\n",
    "operator. sub(b,a)"
   ]
  },
  {
   "cell_type": "code",
   "execution_count": 66,
   "id": "e3294473-0ac9-4080-9670-607b32cd34f8",
   "metadata": {},
   "outputs": [
    {
     "data": {
      "text/plain": [
       "15"
      ]
     },
     "execution_count": 66,
     "metadata": {},
     "output_type": "execute_result"
    }
   ],
   "source": [
    "a, b = 3, 5\n",
    "a * b "
   ]
  },
  {
   "cell_type": "code",
   "execution_count": 25,
   "id": "38a9f8b1-e8d9-47c5-8696-c3b97415598a",
   "metadata": {},
   "outputs": [
    {
     "data": {
      "text/plain": [
       "15"
      ]
     },
     "execution_count": 25,
     "metadata": {},
     "output_type": "execute_result"
    }
   ],
   "source": [
    "a *= b\n",
    "a"
   ]
  },
  {
   "cell_type": "code",
   "execution_count": 68,
   "id": "56931956-0cd2-42cc-a982-4b805cc8fce9",
   "metadata": {},
   "outputs": [
    {
     "data": {
      "text/plain": [
       "1.6666666666666667"
      ]
     },
     "execution_count": 68,
     "metadata": {},
     "output_type": "execute_result"
    }
   ],
   "source": [
    "b/a"
   ]
  },
  {
   "cell_type": "code",
   "execution_count": 69,
   "id": "780f018a-397e-4760-9836-3bf814510420",
   "metadata": {},
   "outputs": [
    {
     "data": {
      "text/plain": [
       "0.6"
      ]
     },
     "execution_count": 69,
     "metadata": {},
     "output_type": "execute_result"
    }
   ],
   "source": [
    "a/b"
   ]
  },
  {
   "cell_type": "code",
   "execution_count": 70,
   "id": "c22f8518-5940-4190-93bb-033fd381fb08",
   "metadata": {},
   "outputs": [
    {
     "data": {
      "text/plain": [
       "1.6666666666666667"
      ]
     },
     "execution_count": 70,
     "metadata": {},
     "output_type": "execute_result"
    }
   ],
   "source": [
    "operator.truediv(5, 3)"
   ]
  },
  {
   "cell_type": "code",
   "execution_count": 71,
   "id": "7fe5cc39-2905-480d-bb59-180192a3b675",
   "metadata": {},
   "outputs": [
    {
     "data": {
      "text/plain": [
       "1"
      ]
     },
     "execution_count": 71,
     "metadata": {},
     "output_type": "execute_result"
    }
   ],
   "source": [
    "operator.floordiv(5,3)"
   ]
  },
  {
   "cell_type": "code",
   "execution_count": null,
   "id": "51673ad5-9214-46be-ac5e-2ecfaf05401b",
   "metadata": {},
   "outputs": [],
   "source": []
  },
  {
   "cell_type": "code",
   "execution_count": 26,
   "id": "9d8f0a83-59e0-4ca5-96f4-455b35d66d88",
   "metadata": {},
   "outputs": [
    {
     "data": {
      "text/plain": [
       "75"
      ]
     },
     "execution_count": 26,
     "metadata": {},
     "output_type": "execute_result"
    }
   ],
   "source": [
    "import operator\n",
    "operator. mul(b,a)"
   ]
  },
  {
   "cell_type": "code",
   "execution_count": 31,
   "id": "69af6749-8908-4182-bd3e-be2811a5068b",
   "metadata": {},
   "outputs": [],
   "source": [
    "string = \"12\""
   ]
  },
  {
   "cell_type": "code",
   "execution_count": 32,
   "id": "44b581aa-67cd-4e27-b7f1-4b8dc9db6fe4",
   "metadata": {},
   "outputs": [
    {
     "data": {
      "text/plain": [
       "27"
      ]
     },
     "execution_count": 32,
     "metadata": {},
     "output_type": "execute_result"
    }
   ],
   "source": [
    "a + int(string)"
   ]
  },
  {
   "cell_type": "code",
   "execution_count": 33,
   "id": "5f8f42e7-35cb-42f1-a1f5-d5e2682d31e9",
   "metadata": {},
   "outputs": [
    {
     "name": "stdout",
     "output_type": "stream",
     "text": [
      "Hello Hello Hello Hello Hello \n"
     ]
    }
   ],
   "source": [
    "str1 =\"Hello \"\n",
    "print(5 * str1)"
   ]
  },
  {
   "cell_type": "code",
   "execution_count": 44,
   "id": "7b11f9d5-59c5-4bec-affc-3948bed2acd4",
   "metadata": {
    "jupyter": {
     "source_hidden": true
    }
   },
   "outputs": [],
   "source": [
    "import math\n"
   ]
  },
  {
   "cell_type": "code",
   "execution_count": 36,
   "id": "f78b9598-ebcd-4d37-920c-419ab7507eac",
   "metadata": {},
   "outputs": [],
   "source": [
    "a, b = 3, 2"
   ]
  },
  {
   "cell_type": "code",
   "execution_count": 37,
   "id": "22bdd63d-b31b-48ab-a07d-d9857154ae42",
   "metadata": {},
   "outputs": [
    {
     "data": {
      "text/plain": [
       "9"
      ]
     },
     "execution_count": 37,
     "metadata": {},
     "output_type": "execute_result"
    }
   ],
   "source": [
    "pow(a, b)"
   ]
  },
  {
   "cell_type": "code",
   "execution_count": 38,
   "id": "4a0a7135-1e99-4783-9838-7efe41cdc158",
   "metadata": {},
   "outputs": [
    {
     "data": {
      "text/plain": [
       "8"
      ]
     },
     "execution_count": 38,
     "metadata": {},
     "output_type": "execute_result"
    }
   ],
   "source": [
    "b ** a"
   ]
  },
  {
   "cell_type": "code",
   "execution_count": 43,
   "id": "e3aa8809-7bec-45f1-98bf-23eefc4a1349",
   "metadata": {},
   "outputs": [
    {
     "data": {
      "text/plain": [
       "1.7320508075688772"
      ]
     },
     "execution_count": 43,
     "metadata": {},
     "output_type": "execute_result"
    }
   ],
   "source": [
    "math.sqrt(a)"
   ]
  },
  {
   "cell_type": "markdown",
   "id": "d491e465-efd8-489a-9ce0-0c5fd81e7f52",
   "metadata": {},
   "source": [
    "math.sqrt (b)"
   ]
  },
  {
   "cell_type": "code",
   "execution_count": 45,
   "id": "7222584a-f4a5-42f3-b3b8-4821797adc17",
   "metadata": {
    "collapsed": true,
    "jupyter": {
     "outputs_hidden": true,
     "source_hidden": true
    }
   },
   "outputs": [
    {
     "data": {
      "text/plain": [
       "1.4142135623730951"
      ]
     },
     "execution_count": 45,
     "metadata": {},
     "output_type": "execute_result"
    }
   ],
   "source": [
    "math.sqrt(b)"
   ]
  },
  {
   "cell_type": "code",
   "execution_count": 46,
   "id": "6d791f08-4b51-4bf4-a7f0-7b943222f0ca",
   "metadata": {},
   "outputs": [
    {
     "data": {
      "text/plain": [
       "2.0"
      ]
     },
     "execution_count": 46,
     "metadata": {},
     "output_type": "execute_result"
    }
   ],
   "source": [
    "math.sqrt(4)"
   ]
  },
  {
   "cell_type": "code",
   "execution_count": 47,
   "id": "2b721496-34bd-4e37-82e5-708909412e22",
   "metadata": {},
   "outputs": [],
   "source": [
    "import cmath\n"
   ]
  },
  {
   "cell_type": "code",
   "execution_count": 48,
   "id": "78a79ef1-5745-4f98-91f0-62546f0058c0",
   "metadata": {},
   "outputs": [
    {
     "data": {
      "text/plain": [
       "(2+0j)"
      ]
     },
     "execution_count": 48,
     "metadata": {},
     "output_type": "execute_result"
    }
   ],
   "source": [
    "cmath.sqrt(4)"
   ]
  },
  {
   "cell_type": "code",
   "execution_count": 49,
   "id": "55a8b213-1f03-4f68-8536-c278b29a89ed",
   "metadata": {},
   "outputs": [
    {
     "data": {
      "text/plain": [
       "2.718281828459045"
      ]
     },
     "execution_count": 49,
     "metadata": {},
     "output_type": "execute_result"
    }
   ],
   "source": [
    "math.exp(1)"
   ]
  },
  {
   "cell_type": "code",
   "execution_count": 50,
   "id": "141c6542-dba8-4226-8dae-522f533c1779",
   "metadata": {},
   "outputs": [
    {
     "data": {
      "text/plain": [
       "7.38905609893065"
      ]
     },
     "execution_count": 50,
     "metadata": {},
     "output_type": "execute_result"
    }
   ],
   "source": [
    "math.exp(2)"
   ]
  },
  {
   "cell_type": "code",
   "execution_count": 51,
   "id": "0cb75506-1ba1-4611-94fe-e684c1e95dfc",
   "metadata": {},
   "outputs": [
    {
     "data": {
      "text/plain": [
       "1.718281828459045"
      ]
     },
     "execution_count": 51,
     "metadata": {},
     "output_type": "execute_result"
    }
   ],
   "source": [
    "math.expm1 (1) #e^1 -1 "
   ]
  },
  {
   "cell_type": "code",
   "execution_count": 52,
   "id": "cb580329-a6a2-4404-b29d-04e690a5f61c",
   "metadata": {},
   "outputs": [
    {
     "data": {
      "text/plain": [
       "1.0"
      ]
     },
     "execution_count": 52,
     "metadata": {},
     "output_type": "execute_result"
    }
   ],
   "source": [
    "math.exp(0)"
   ]
  },
  {
   "cell_type": "markdown",
   "id": "1af6285c-2846-4c9a-be40-6b87669e6fee",
   "metadata": {},
   "source": [
    "trigonometric operators"
   ]
  },
  {
   "cell_type": "code",
   "execution_count": null,
   "id": "3ffcb260-67e7-417c-a15d-72e93c7da7e4",
   "metadata": {},
   "outputs": [],
   "source": [
    "import math"
   ]
  },
  {
   "cell_type": "code",
   "execution_count": 55,
   "id": "43e6d755-43df-4035-995e-8807b4c5f2ba",
   "metadata": {},
   "outputs": [
    {
     "data": {
      "text/plain": [
       "0.49999999999999994"
      ]
     },
     "execution_count": 55,
     "metadata": {},
     "output_type": "execute_result"
    }
   ],
   "source": [
    "deg = 30\n",
    "rad = math.radians(deg)\n",
    "math.sin(rad)"
   ]
  },
  {
   "cell_type": "code",
   "execution_count": 56,
   "id": "4609d0b6-481d-4f5b-b870-6710dcbc8b76",
   "metadata": {},
   "outputs": [
    {
     "data": {
      "text/plain": [
       "0.5510695830994463"
      ]
     },
     "execution_count": 56,
     "metadata": {},
     "output_type": "execute_result"
    }
   ],
   "source": [
    "math.asin(rad)"
   ]
  },
  {
   "cell_type": "code",
   "execution_count": 57,
   "id": "4c5b0fc4-7699-458d-9edc-ea2c388f16ee",
   "metadata": {},
   "outputs": [
    {
     "data": {
      "text/plain": [
       "0.48047277815645156"
      ]
     },
     "execution_count": 57,
     "metadata": {},
     "output_type": "execute_result"
    }
   ],
   "source": [
    "math.tanh(rad)"
   ]
  },
  {
   "cell_type": "markdown",
   "id": "93ae3158-0a56-4047-af47-bb932adcfd10",
   "metadata": {},
   "source": [
    "math.cos(math.pi)"
   ]
  },
  {
   "cell_type": "code",
   "execution_count": 58,
   "id": "4b98ae83-5a7d-4da1-826b-fe767278aed5",
   "metadata": {},
   "outputs": [
    {
     "data": {
      "text/plain": [
       "-1.0"
      ]
     },
     "execution_count": 58,
     "metadata": {},
     "output_type": "execute_result"
    }
   ],
   "source": [
    "math.cos(math.pi)"
   ]
  },
  {
   "cell_type": "markdown",
   "id": "9da3597b-bb1d-41e7-8e5b-55d9131f76a9",
   "metadata": {},
   "source": [
    "Logarithms"
   ]
  },
  {
   "cell_type": "code",
   "execution_count": 60,
   "id": "2da090d4-495c-4a6c-a166-3e6092ee92be",
   "metadata": {},
   "outputs": [
    {
     "data": {
      "text/plain": [
       "2.4849066497880004"
      ]
     },
     "execution_count": 60,
     "metadata": {},
     "output_type": "execute_result"
    }
   ],
   "source": [
    "math.log(12)"
   ]
  },
  {
   "cell_type": "code",
   "execution_count": 61,
   "id": "b4f7f99c-3ec0-4843-9e7c-3ff9b8fd67cd",
   "metadata": {},
   "outputs": [
    {
     "data": {
      "text/plain": [
       "2.302585092994046"
      ]
     },
     "execution_count": 61,
     "metadata": {},
     "output_type": "execute_result"
    }
   ],
   "source": [
    "math.log(10)"
   ]
  },
  {
   "cell_type": "code",
   "execution_count": 62,
   "id": "2e0eea4c-adff-4724-bcd4-444b6944e871",
   "metadata": {},
   "outputs": [
    {
     "data": {
      "text/plain": [
       "2.302585092994046"
      ]
     },
     "execution_count": 62,
     "metadata": {},
     "output_type": "execute_result"
    }
   ],
   "source": [
    "math.log(10, math.e)"
   ]
  },
  {
   "cell_type": "markdown",
   "id": "53ece719-8b42-4ae3-be5b-5f0231846b27",
   "metadata": {},
   "source": [
    "cmath.log(1000, 10)"
   ]
  },
  {
   "cell_type": "code",
   "execution_count": 63,
   "id": "103f411a-3d11-40a8-b7ed-0e75ba5d814e",
   "metadata": {},
   "outputs": [
    {
     "data": {
      "text/plain": [
       "(2.9999999999999996+0j)"
      ]
     },
     "execution_count": 63,
     "metadata": {},
     "output_type": "execute_result"
    }
   ],
   "source": [
    "cmath.log(1000,10)"
   ]
  },
  {
   "cell_type": "markdown",
   "id": "eb95d35d-df6c-4e3b-960c-d66e33afab7a",
   "metadata": {},
   "source": [
    "math.log2(2)"
   ]
  },
  {
   "cell_type": "code",
   "execution_count": 64,
   "id": "7e64a261-5129-4402-ab68-2eb5304872b4",
   "metadata": {},
   "outputs": [
    {
     "data": {
      "text/plain": [
       "1.0"
      ]
     },
     "execution_count": 64,
     "metadata": {},
     "output_type": "execute_result"
    }
   ],
   "source": [
    "math.log2(2)"
   ]
  },
  {
   "cell_type": "markdown",
   "id": "ec2008fc-7812-40d5-ac22-5be5592119cd",
   "metadata": {},
   "source": []
  },
  {
   "cell_type": "code",
   "execution_count": 72,
   "id": "03075022-20c1-4959-b66e-18acdbeecf08",
   "metadata": {},
   "outputs": [
    {
     "ename": "NameError",
     "evalue": "name 'modulus' is not defined",
     "output_type": "error",
     "traceback": [
      "\u001b[31m---------------------------------------------------------------------------\u001b[39m",
      "\u001b[31mNameError\u001b[39m                                 Traceback (most recent call last)",
      "\u001b[36mCell\u001b[39m\u001b[36m \u001b[39m\u001b[32mIn[72]\u001b[39m\u001b[32m, line 1\u001b[39m\n\u001b[32m----> \u001b[39m\u001b[32m1\u001b[39m \u001b[43mmodulus\u001b[49m\n",
      "\u001b[31mNameError\u001b[39m: name 'modulus' is not defined"
     ]
    }
   ],
   "source": [
    "modulus\n"
   ]
  },
  {
   "cell_type": "code",
   "execution_count": 77,
   "id": "9c798c23-1e6e-4676-b56d-8ce55b6c066a",
   "metadata": {},
   "outputs": [
    {
     "data": {
      "text/plain": [
       "0.75"
      ]
     },
     "execution_count": 77,
     "metadata": {},
     "output_type": "execute_result"
    }
   ],
   "source": [
    "3/4"
   ]
  },
  {
   "cell_type": "code",
   "execution_count": 78,
   "id": "e11c27e1-53f4-48e7-b04b-53bea1825b17",
   "metadata": {},
   "outputs": [
    {
     "data": {
      "text/plain": [
       "3"
      ]
     },
     "execution_count": 78,
     "metadata": {},
     "output_type": "execute_result"
    }
   ],
   "source": [
    "# 3 mod 4\n",
    "3 % 4"
   ]
  },
  {
   "cell_type": "code",
   "execution_count": 79,
   "id": "7d1cefaf-90ce-4b6a-a274-4281bb097456",
   "metadata": {},
   "outputs": [
    {
     "data": {
      "text/plain": [
       "0"
      ]
     },
     "execution_count": 79,
     "metadata": {},
     "output_type": "execute_result"
    }
   ],
   "source": [
    "operator.mod(4,2)"
   ]
  },
  {
   "cell_type": "code",
   "execution_count": 80,
   "id": "4f4dd25d-bc2d-49ba-9818-363aad8c8182",
   "metadata": {},
   "outputs": [
    {
     "data": {
      "text/plain": [
       "0"
      ]
     },
     "execution_count": 80,
     "metadata": {},
     "output_type": "execute_result"
    }
   ],
   "source": [
    "-4 % 4"
   ]
  },
  {
   "cell_type": "code",
   "execution_count": 81,
   "id": "15938bc6-dcae-488f-a3bc-f56d0ffeb131",
   "metadata": {},
   "outputs": [
    {
     "name": "stdout",
     "output_type": "stream",
     "text": [
      "4 1\n"
     ]
    }
   ],
   "source": [
    "q, r = divmod(9,2)\n",
    "print(q, r)"
   ]
  },
  {
   "cell_type": "code",
   "execution_count": 82,
   "id": "30ff9ad7-af4d-4afb-b710-3e6bed45a36f",
   "metadata": {},
   "outputs": [],
   "source": [
    "x = True\n",
    "y = False\n"
   ]
  },
  {
   "cell_type": "code",
   "execution_count": 83,
   "id": "7b0e1a2b-75f1-46e3-be88-b80ab6f03e06",
   "metadata": {},
   "outputs": [
    {
     "data": {
      "text/plain": [
       "False"
      ]
     },
     "execution_count": 83,
     "metadata": {},
     "output_type": "execute_result"
    }
   ],
   "source": [
    "x and y"
   ]
  },
  {
   "cell_type": "code",
   "execution_count": 84,
   "id": "2e06820a-043f-4ff3-9920-2aa1c4ed5135",
   "metadata": {},
   "outputs": [
    {
     "data": {
      "text/plain": [
       "True"
      ]
     },
     "execution_count": 84,
     "metadata": {},
     "output_type": "execute_result"
    }
   ],
   "source": [
    "x or y\n"
   ]
  },
  {
   "cell_type": "code",
   "execution_count": 85,
   "id": "27fe6ee9-fe18-4407-8d00-c0d56c8f49d3",
   "metadata": {},
   "outputs": [
    {
     "data": {
      "text/plain": [
       "True"
      ]
     },
     "execution_count": 85,
     "metadata": {},
     "output_type": "execute_result"
    }
   ],
   "source": [
    "x and x"
   ]
  },
  {
   "cell_type": "code",
   "execution_count": 86,
   "id": "d5f515e4-400b-48dd-89d7-9980ccbd9c00",
   "metadata": {},
   "outputs": [
    {
     "data": {
      "text/plain": [
       "False"
      ]
     },
     "execution_count": 86,
     "metadata": {},
     "output_type": "execute_result"
    }
   ],
   "source": [
    "not x"
   ]
  },
  {
   "cell_type": "code",
   "execution_count": 88,
   "id": "3b57b70b-e348-414c-a77f-309d5d79dcf6",
   "metadata": {},
   "outputs": [],
   "source": [
    "p, q = 1, 0"
   ]
  },
  {
   "cell_type": "code",
   "execution_count": 89,
   "id": "809faa88-9c45-4bb7-b391-f86e7866d685",
   "metadata": {},
   "outputs": [
    {
     "data": {
      "text/plain": [
       "0"
      ]
     },
     "execution_count": 89,
     "metadata": {},
     "output_type": "execute_result"
    }
   ],
   "source": [
    "p and q"
   ]
  },
  {
   "cell_type": "code",
   "execution_count": 90,
   "id": "8d948557-46a3-40d1-821b-10cdf0c486de",
   "metadata": {},
   "outputs": [
    {
     "data": {
      "text/plain": [
       "1"
      ]
     },
     "execution_count": 90,
     "metadata": {},
     "output_type": "execute_result"
    }
   ],
   "source": [
    "p or q"
   ]
  },
  {
   "cell_type": "code",
   "execution_count": 93,
   "id": "805098b7-de80-4fbc-aac4-dead7d579107",
   "metadata": {},
   "outputs": [
    {
     "data": {
      "text/plain": [
       "True"
      ]
     },
     "execution_count": 93,
     "metadata": {},
     "output_type": "execute_result"
    }
   ],
   "source": [
    "not (y and (x and p or q and y))"
   ]
  },
  {
   "cell_type": "code",
   "execution_count": 94,
   "id": "b9451ef0-0d9e-4c5c-9c54-009df1c069a1",
   "metadata": {},
   "outputs": [],
   "source": [
    "x, y, z = 2, 3, 4\n"
   ]
  },
  {
   "cell_type": "code",
   "execution_count": 95,
   "id": "83d0ecbe-1538-428e-b6e8-07f36fbb17c6",
   "metadata": {},
   "outputs": [
    {
     "data": {
      "text/plain": [
       "True"
      ]
     },
     "execution_count": 95,
     "metadata": {},
     "output_type": "execute_result"
    }
   ],
   "source": [
    "z > x"
   ]
  },
  {
   "cell_type": "code",
   "execution_count": 96,
   "id": "90366469-f491-4125-b302-84db666b3218",
   "metadata": {},
   "outputs": [
    {
     "data": {
      "text/plain": [
       "False"
      ]
     },
     "execution_count": 96,
     "metadata": {},
     "output_type": "execute_result"
    }
   ],
   "source": [
    "x > z > y"
   ]
  },
  {
   "cell_type": "code",
   "execution_count": 97,
   "id": "0a3b8dc8-f634-4296-a7de-890933fb5ae4",
   "metadata": {},
   "outputs": [
    {
     "data": {
      "text/plain": [
       "False"
      ]
     },
     "execution_count": 97,
     "metadata": {},
     "output_type": "execute_result"
    }
   ],
   "source": [
    "x == y"
   ]
  },
  {
   "cell_type": "code",
   "execution_count": 98,
   "id": "510d4b42-bbf7-47a2-9f2a-0e31ced49373",
   "metadata": {},
   "outputs": [
    {
     "data": {
      "text/plain": [
       "True"
      ]
     },
     "execution_count": 98,
     "metadata": {},
     "output_type": "execute_result"
    }
   ],
   "source": [
    "y is y"
   ]
  },
  {
   "cell_type": "code",
   "execution_count": 99,
   "id": "741001a5-7043-43d8-9206-7ef50b6f4fd2",
   "metadata": {},
   "outputs": [],
   "source": [
    "a = \"hello\"\n",
    "b = \"hello world\""
   ]
  },
  {
   "cell_type": "code",
   "execution_count": 100,
   "id": "85053e4b-b739-4c5f-ba61-ff8c0754ff4c",
   "metadata": {},
   "outputs": [
    {
     "data": {
      "text/plain": [
       "False"
      ]
     },
     "execution_count": 100,
     "metadata": {},
     "output_type": "execute_result"
    }
   ],
   "source": [
    "a is b"
   ]
  },
  {
   "cell_type": "code",
   "execution_count": 101,
   "id": "1eb7fc66-9a44-4fd4-a3c5-56221a8a69c1",
   "metadata": {},
   "outputs": [
    {
     "data": {
      "text/plain": [
       "True"
      ]
     },
     "execution_count": 101,
     "metadata": {},
     "output_type": "execute_result"
    }
   ],
   "source": [
    "a ==wb[:5]"
   ]
  },
  {
   "cell_type": "code",
   "execution_count": 102,
   "id": "4a07e52d-0c90-40c5-9f95-e4a6bbc31389",
   "metadata": {},
   "outputs": [
    {
     "data": {
      "text/plain": [
       "True"
      ]
     },
     "execution_count": 102,
     "metadata": {},
     "output_type": "execute_result"
    }
   ],
   "source": [
    "x!= y"
   ]
  },
  {
   "cell_type": "code",
   "execution_count": 103,
   "id": "1342cdf4-2dc8-4146-9247-61a5c585437a",
   "metadata": {},
   "outputs": [
    {
     "data": {
      "text/plain": [
       "False"
      ]
     },
     "execution_count": 103,
     "metadata": {},
     "output_type": "execute_result"
    }
   ],
   "source": [
    "False!=False"
   ]
  },
  {
   "cell_type": "code",
   "execution_count": 104,
   "id": "69949080-538f-4ba7-8823-2d2f2b0640ee",
   "metadata": {},
   "outputs": [
    {
     "data": {
      "text/plain": [
       "True"
      ]
     },
     "execution_count": 104,
     "metadata": {},
     "output_type": "execute_result"
    }
   ],
   "source": [
    "x > y and y<z or False==False"
   ]
  },
  {
   "cell_type": "code",
   "execution_count": null,
   "id": "312ca996-a20e-4800-a564-5f3a9a3a522c",
   "metadata": {},
   "outputs": [],
   "source": []
  }
 ],
 "metadata": {
  "kernelspec": {
   "display_name": "Python 3 (ipykernel)",
   "language": "python",
   "name": "python3"
  },
  "language_info": {
   "codemirror_mode": {
    "name": "ipython",
    "version": 3
   },
   "file_extension": ".py",
   "mimetype": "text/x-python",
   "name": "python",
   "nbconvert_exporter": "python",
   "pygments_lexer": "ipython3",
   "version": "3.11.9"
  }
 },
 "nbformat": 4,
 "nbformat_minor": 5
}
