{
 "cells": [
  {
   "cell_type": "markdown",
   "id": "865f0f7e-c7d8-4a98-8364-feba71b18611",
   "metadata": {},
   "source": [
    "Conditional statement\n",
    "'''\n",
    "if\n",
    "elif\n",
    "else\n",
    "'''"
   ]
  },
  {
   "cell_type": "code",
   "execution_count": 1,
   "id": "fbc83e42-baaa-4179-b6b8-a97bf511c485",
   "metadata": {},
   "outputs": [],
   "source": [
    "n=5\n",
    "if n > 5:\n",
    "    print(f\"{n} is greater than 5. \")\n"
   ]
  },
  {
   "cell_type": "code",
   "execution_count": 2,
   "id": "34f426ab-b6aa-4891-9811-179aea9d0201",
   "metadata": {},
   "outputs": [
    {
     "name": "stdout",
     "output_type": "stream",
     "text": [
      "5 is greater than 5. \n"
     ]
    }
   ],
   "source": [
    "n=5\n",
    "if n >= 5:\n",
    "   print(f\"{n} is greater than 5. \")"
   ]
  },
  {
   "cell_type": "code",
   "execution_count": 3,
   "id": "b047af1e-05f1-4e56-8ca8-70e72bcea99e",
   "metadata": {},
   "outputs": [
    {
     "name": "stdout",
     "output_type": "stream",
     "text": [
      "6 is greaterh than 5. \n"
     ]
    }
   ],
   "source": [
    "n=6\n",
    "if n > 5:\n",
    "    print(f\"{n} is greater than 5. \")"
   ]
  },
  {
   "cell_type": "code",
   "execution_count": 10,
   "id": "ba62a4cd-0c3f-4c9e-8753-39b8a3910001",
   "metadata": {},
   "outputs": [
    {
     "name": "stdout",
     "output_type": "stream",
     "text": [
      "6 is greater than 5. \n",
      "outside of stmt\n"
     ]
    }
   ],
   "source": [
    "n=6\n",
    "if n > 5:\n",
    "    print(f\"{n} is greater than 5. \")\n",
    "print(\"outside of stmt\")  "
   ]
  },
  {
   "cell_type": "code",
   "execution_count": 11,
   "id": "444804d2-fc2e-41f0-8b64-04004b9eba37",
   "metadata": {},
   "outputs": [
    {
     "name": "stdout",
     "output_type": "stream",
     "text": [
      "you are above 18.\n"
     ]
    }
   ],
   "source": [
    "age = 19\n",
    "if age < 18:\n",
    "    print(\"you are below 18. \")\n",
    "else:\n",
    "    print(\"you are above 18.\")"
   ]
  },
  {
   "cell_type": "code",
   "execution_count": 12,
   "id": "aede481b-efd3-4de9-be39-d3c3d69901c7",
   "metadata": {},
   "outputs": [
    {
     "name": "stdout",
     "output_type": "stream",
     "text": [
      "you are above 18.\n"
     ]
    }
   ],
   "source": [
    "age = 18\n",
    "if age < 18:\n",
    "    print(\"you are below 18. \")\n",
    "else:\n",
    "    print(\"you are above 18.\")"
   ]
  },
  {
   "cell_type": "code",
   "execution_count": 14,
   "id": "d4f33a8b-245b-4482-87d2-aa846fdb92bf",
   "metadata": {},
   "outputs": [
    {
     "name": "stdout",
     "output_type": "stream",
     "text": [
      "you are  18.\n"
     ]
    }
   ],
   "source": [
    "age = 18\n",
    "if age < 18:\n",
    "    print(\"you are below 18. \")\n",
    "elif age > 18:\n",
    "    print(\"you are above 18. \")\n",
    "else:\n",
    "    print(\"you are  18.\")"
   ]
  },
  {
   "cell_type": "code",
   "execution_count": 16,
   "id": "d6ab53c2-c599-4566-8e88-2d8a62fb5cbc",
   "metadata": {},
   "outputs": [
    {
     "data": {
      "text/plain": [
       "'you are below 18'"
      ]
     },
     "execution_count": 16,
     "metadata": {},
     "output_type": "execute_result"
    }
   ],
   "source": [
    "\" You are above 18\" if age > 18 else \"you are below 18\""
   ]
  },
  {
   "cell_type": "code",
   "execution_count": 17,
   "id": "52fe6a89-2e1e-4fbd-9c68-fe874048c8ae",
   "metadata": {},
   "outputs": [
    {
     "data": {
      "text/plain": [
       "'you are 18'"
      ]
     },
     "execution_count": 17,
     "metadata": {},
     "output_type": "execute_result"
    }
   ],
   "source": [
    "\" You are above 18\" if age > 18 else \"you are below 18\" if age < 18 else \"you are 18\" "
   ]
  },
  {
   "cell_type": "code",
   "execution_count": 22,
   "id": "36c34989-e5cb-43cd-9e56-39e9b227fdd1",
   "metadata": {},
   "outputs": [
    {
     "name": "stdout",
     "output_type": "stream",
     "text": [
      "2 and 1, both  are positive\n"
     ]
    }
   ],
   "source": [
    "p = 2\n",
    "q = 1\n",
    "\n",
    "if p > 0 and q > 0 :\n",
    "   print(f\"{p} and {q}, both  are positive\")"
   ]
  },
  {
   "cell_type": "code",
   "execution_count": 23,
   "id": "4e6ea3c3-cc86-4b04-9535-1f8101615e94",
   "metadata": {},
   "outputs": [
    {
     "name": "stdout",
     "output_type": "stream",
     "text": [
      "at least one is negative\n"
     ]
    }
   ],
   "source": [
    "p = 2\n",
    "q = -1\n",
    "\n",
    "if p > 0 and q > 0 :\n",
    "   print(f\"{p} and {q}, both  are positive\")\n",
    "elif p <0 or q < 0:\n",
    "    print(\"at least one is negative\")"
   ]
  },
  {
   "cell_type": "code",
   "execution_count": 35,
   "id": "5a3d69cd-7728-4f59-a8a4-acddaeb57530",
   "metadata": {},
   "outputs": [
    {
     "ename": "SyntaxError",
     "evalue": "expected ':' (1488242508.py, line 5)",
     "output_type": "error",
     "traceback": [
      "  \u001b[36mCell\u001b[39m\u001b[36m \u001b[39m\u001b[32mIn[35]\u001b[39m\u001b[32m, line 5\u001b[39m\n\u001b[31m    \u001b[39m\u001b[31mif a < b < c\u001b[39m\n                 ^\n\u001b[31mSyntaxError\u001b[39m\u001b[31m:\u001b[39m expected ':'\n"
     ]
    }
   ],
   "source": [
    "# compare 3 numbers and find out larger\n",
    "a = 3\n",
    "b = 4\n",
    "c = 5\n",
    "if a < b < c \n",
    "   print(f\"{a} and {b}, c is greater than a and b\")\n"
   ]
  },
  {
   "cell_type": "code",
   "execution_count": 36,
   "id": "ba502925-d8c3-4cbd-a1f5-9051aca9c808",
   "metadata": {},
   "outputs": [
    {
     "name": "stdout",
     "output_type": "stream",
     "text": [
      " p is greater than q and r\n"
     ]
    }
   ],
   "source": [
    "p, q, r = 8, 5, 4\n",
    "\n",
    "if p > q > r:\n",
    "    print(\" p is greater than q and r\")"
   ]
  },
  {
   "cell_type": "code",
   "execution_count": 37,
   "id": "98f7f3d3-3331-4f3d-b3b8-5ec6d162992d",
   "metadata": {},
   "outputs": [
    {
     "name": "stdout",
     "output_type": "stream",
     "text": [
      " p is greater than q and r\n"
     ]
    }
   ],
   "source": [
    "p, q, r = 8, 3, 4\n",
    "\n",
    "if p > q  and p > r:\n",
    "    print(\" p is greater than q and r\")"
   ]
  },
  {
   "cell_type": "code",
   "execution_count": 39,
   "id": "666313f0-33c6-4859-8e70-ff01ddd38722",
   "metadata": {},
   "outputs": [
    {
     "name": "stdout",
     "output_type": "stream",
     "text": [
      "8 is greater than 3  and 4\n"
     ]
    }
   ],
   "source": [
    "p, q, r = 8, 3, 4\n",
    "\n",
    "if p > q  and p > r:\n",
    "    print(f\"{p} is greater than {q}  and {r}\")"
   ]
  },
  {
   "cell_type": "code",
   "execution_count": 41,
   "id": "71bac913-ce0b-4125-a15c-041ce09cfa8c",
   "metadata": {},
   "outputs": [
    {
     "name": "stdout",
     "output_type": "stream",
     "text": [
      "8 is greater than 3  and 4\n"
     ]
    }
   ],
   "source": [
    "p, q, r = 8, 3, 4\n",
    "\n",
    "if p > q  and p > r:\n",
    "    print(f\"{p} is greater than {q}  and {r}\")\n",
    "elif q > p and q > r:\n",
    "    print(f\"{q} is greater than {p} and {r}\")\n",
    "elif r > p and r > q :\n",
    "    print (f\"{r} is greater than {p} and {q}\")\n",
    "else:\n",
    "    print(\"some of them are equal\")"
   ]
  },
  {
   "cell_type": "code",
   "execution_count": 42,
   "id": "5c30f5cf-c1ec-492e-a086-e91d618ad501",
   "metadata": {},
   "outputs": [
    {
     "name": "stdout",
     "output_type": "stream",
     "text": [
      "some of them are equal\n"
     ]
    }
   ],
   "source": [
    "p, q, r = 4, 44, 44\n",
    "\n",
    "if p > q  and p > r:\n",
    "    print(f\"{p} is greater than {q}  and {r}\")\n",
    "elif q > p and q > r:\n",
    "    print(f\"{q} is greater than {p} and {r}\")\n",
    "elif r > p and r > q :\n",
    "    print (f\"{r} is greater than {p} and {q}\")\n",
    "else:\n",
    "    print(\"some of them are equal\")"
   ]
  },
  {
   "cell_type": "code",
   "execution_count": 45,
   "id": "b786563b-9c9d-419e-a1f4-87009504df93",
   "metadata": {},
   "outputs": [
    {
     "name": "stdout",
     "output_type": "stream",
     "text": [
      "45 is greater than 4 and 4\n"
     ]
    }
   ],
   "source": [
    "p, q, r = 4, 45, 4\n",
    "\n",
    "if p > q  and p > r:\n",
    "    print(f\"{p} is greater than {q}  and {r}\")\n",
    "elif  q > r:\n",
    "    print(f\"{q} is greater than {p} and {r}\")\n",
    "elif r > p  :\n",
    "    print (f\"{r} is greater than {p} and {q}\")\n",
    "else:\n",
    "    print(\"some of them are equal\")"
   ]
  },
  {
   "cell_type": "code",
   "execution_count": 46,
   "id": "baf431d1-88c0-4d8a-a04f-ca3a9d08cc3a",
   "metadata": {},
   "outputs": [
    {
     "name": "stdout",
     "output_type": "stream",
     "text": [
      "45 is greater\n"
     ]
    }
   ],
   "source": [
    "p, q, r = 4, 44, 45\n",
    "\n",
    "largest = max (p, q , r )\n",
    "if p == q == r:\n",
    "    print(\"some of them are equal\")\n",
    "else:\n",
    "    print(f\"{largest} is greater\")\n"
   ]
  },
  {
   "cell_type": "code",
   "execution_count": 47,
   "id": "6c6f2016-6763-49f2-83ee-9b12eb048e04",
   "metadata": {},
   "outputs": [
    {
     "name": "stdout",
     "output_type": "stream",
     "text": [
      "4 is greater\n"
     ]
    }
   ],
   "source": [
    "p, q, r = 4, 44, 45\n",
    "\n",
    "largest = min (p, q , r )\n",
    "if p == q == r:\n",
    "    print(\"some of them are equal\")\n",
    "else:\n",
    "    print(f\"{largest} is greater\")"
   ]
  },
  {
   "cell_type": "code",
   "execution_count": 48,
   "id": "60b66652-3d5f-4def-8bea-8e93beee9863",
   "metadata": {},
   "outputs": [
    {
     "name": "stdout",
     "output_type": "stream",
     "text": [
      "some of them are equal\n"
     ]
    }
   ],
   "source": [
    "p, q, r = 45, 44, 45\n",
    "\n",
    "largest = max (p, q , r )\n",
    "if p == q or q == r or  p== r:\n",
    "    print(\"some of them are equal\")\n",
    "else:\n",
    "    print(f\"{largest} is greater\")"
   ]
  },
  {
   "cell_type": "code",
   "execution_count": null,
   "id": "529b8577-e3ac-4ed9-91b5-412c60756231",
   "metadata": {},
   "outputs": [],
   "source": []
  }
 ],
 "metadata": {
  "kernelspec": {
   "display_name": "Python 3 (ipykernel)",
   "language": "python",
   "name": "python3"
  },
  "language_info": {
   "codemirror_mode": {
    "name": "ipython",
    "version": 3
   },
   "file_extension": ".py",
   "mimetype": "text/x-python",
   "name": "python",
   "nbconvert_exporter": "python",
   "pygments_lexer": "ipython3",
   "version": "3.11.9"
  }
 },
 "nbformat": 4,
 "nbformat_minor": 5
}
