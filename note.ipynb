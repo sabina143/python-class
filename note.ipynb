{
 "cells": [
  {
   "cell_type": "markdown",
   "id": "721eb145",
   "metadata": {},
   "source": [
    "Django   full stack, API\n",
    "web framework\n",
    "Web \n",
    "web application\n",
    "website\n",
    "request and response then website open\n",
    "request goes to web server and respond from webserver\n",
    "running code django python html cssl javasrcipt\n",
    "skill training nepal is domain when website is opened \n",
    "\n",
    "request header(status code) body and response has header and body\n",
    "\n",
    "https://skilltrainingnepal.com https is protocol (hyper text transfer protocol secure) html(hyper text markup language)\n",
    "url (uniform resource locator)\n",
    " www (world wide web)www.skilltrainingnepal.com\n",
    " web server  \n",
    " web 1.0(only view) web 2.0 (interactive,centralisation) web 3.0(decentralisation)\n",
    " web layers \n",
    " surfaceweb  \n",
    "deep web\n",
    " dark web onion\n",
    " ARPANET(INTERNET HAS BEEN DEVELOPED FROM HERE )\n",
    " DNS SERVER(DOMAIN NEW SYSTEM) IP IS INTERNET PROTOCOL\n",
    " COMMUNICATION MODEL\n",
    " MAC LAYER 2 PHYSICAL\n",
    " IP LAYER 3 LOGICAL IPV4 32BIT, IPV6 128BIT\n",
    " PORT NUMBER LAYER 4\n",
    " https://www.skilltrainingnepal.com\n",
    " Socket address ip:port   127.0.0.1:80  host to host communication ip address  port number 16bit\n",
    " Server web server application server first request to web and application and response from them simultaneously\n",
    " Web sever apache,nginx web server port no 80,  application server in customize way 8080,8000\n",
    " DNS records A, CNAME\n",
    " xml customize tab, html tab already defined\n",
    "\n",
    "\n"
   ]
  },
  {
   "cell_type": "markdown",
   "id": "79536738",
   "metadata": {},
   "source": []
  }
 ],
 "metadata": {
  "language_info": {
   "name": "python"
  }
 },
 "nbformat": 4,
 "nbformat_minor": 5
}
