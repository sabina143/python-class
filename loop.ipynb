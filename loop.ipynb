{
 "cells": [
  {
   "cell_type": "markdown",
   "id": "6d48fd2c-972c-40e9-b272-4165d8196259",
   "metadata": {},
   "source": [
    "# loop in python\n",
    "1. while\n",
    "2. for\n",
    "   "
   ]
  },
  {
   "cell_type": "markdown",
   "id": "115b6277-2116-40a4-a897-2e6bc77b8c07",
   "metadata": {},
   "source": [
    "While loop\n",
    "while condition:\n",
    "body"
   ]
  },
  {
   "cell_type": "code",
   "execution_count": 1,
   "id": "3b017341-33c1-4244-a3ac-14a429d5e036",
   "metadata": {},
   "outputs": [
    {
     "name": "stdout",
     "output_type": "stream",
     "text": [
      "0\n",
      "1\n",
      "2\n",
      "3\n",
      "4\n"
     ]
    }
   ],
   "source": [
    "i = 0\n",
    "\n",
    "while i < 5:\n",
    "     print(i)\n",
    "     i +=1 "
   ]
  },
  {
   "cell_type": "markdown",
   "id": "18a8907f-e080-4081-b768-ddaae2ad41ea",
   "metadata": {},
   "source": [
    "for loop\n",
    "'''\n",
    "for iterations\n",
    "      body"
   ]
  },
  {
   "cell_type": "code",
   "execution_count": 2,
   "id": "b1e22de2-e1b6-4efc-b2fe-b17a6d08ac40",
   "metadata": {},
   "outputs": [
    {
     "name": "stdout",
     "output_type": "stream",
     "text": [
      "0\n",
      "1\n",
      "2\n",
      "3\n",
      "4\n",
      "5\n",
      "6\n",
      "7\n",
      "8\n",
      "9\n"
     ]
    }
   ],
   "source": [
    "for i in range(10):\n",
    "    print(i)"
   ]
  },
  {
   "cell_type": "code",
   "execution_count": 3,
   "id": "4ecb77f0-f267-4757-8827-cdd3e11564f9",
   "metadata": {},
   "outputs": [
    {
     "name": "stdout",
     "output_type": "stream",
     "text": [
      "Ram\n",
      "Shyam\n",
      "Hari\n"
     ]
    }
   ],
   "source": [
    "for i in (\"Ram\", \"Shyam\", \"Hari\"):\n",
    "    print(i)"
   ]
  },
  {
   "cell_type": "code",
   "execution_count": 4,
   "id": "0ca577a1-981d-4011-be19-781d60c820a7",
   "metadata": {},
   "outputs": [],
   "source": [
    "# break and continue"
   ]
  },
  {
   "cell_type": "code",
   "execution_count": 7,
   "id": "d6b6c9d5-7510-4e29-84f4-f46af08bf686",
   "metadata": {},
   "outputs": [
    {
     "name": "stdout",
     "output_type": "stream",
     "text": [
      "1\n",
      "2\n",
      "3\n",
      "4\n",
      "6\n",
      "7\n",
      "8\n",
      "9\n",
      "10\n"
     ]
    }
   ],
   "source": [
    "num = 0\n",
    "\n",
    "while num < 10:\n",
    "    num +=1\n",
    "    if num == 5:\n",
    "        continue \n",
    "    print(num)"
   ]
  },
  {
   "cell_type": "code",
   "execution_count": 10,
   "id": "893077fe-807e-40db-a15f-bb8bd6328a25",
   "metadata": {},
   "outputs": [
    {
     "name": "stdout",
     "output_type": "stream",
     "text": [
      "1\n",
      "2\n",
      "3\n",
      "4\n"
     ]
    }
   ],
   "source": [
    "num = 0\n",
    "\n",
    "while num < 10:\n",
    "    num +=1\n",
    "    if num == 5:\n",
    "        break\n",
    "    print(num)"
   ]
  },
  {
   "cell_type": "code",
   "execution_count": 16,
   "id": "0c8631f2-9b8e-438c-8ef4-0c4a1254acc6",
   "metadata": {},
   "outputs": [
    {
     "name": "stdout",
     "output_type": "stream",
     "text": [
      "10\n",
      "9\n",
      "8\n",
      "7\n",
      "6\n",
      "5\n",
      "4\n",
      "3\n",
      "2\n",
      "1\n",
      "0\n"
     ]
    }
   ],
   "source": [
    "n = 10\n",
    "\n",
    "while True:\n",
    "    print(n)\n",
    "    n-=1\n",
    "    if(n<0):\n",
    "        break"
   ]
  },
  {
   "cell_type": "code",
   "execution_count": null,
   "id": "caa95a3a-d916-4cd1-99c8-c1ed12db16fb",
   "metadata": {},
   "outputs": [],
   "source": [
    "#wap to display even numbers from 1 to 99 in while and for loop\n"
   ]
  },
  {
   "cell_type": "code",
   "execution_count": 17,
   "id": "818cdd9a-bf89-4e19-85d9-8406a9a9c0ac",
   "metadata": {},
   "outputs": [
    {
     "name": "stdout",
     "output_type": "stream",
     "text": [
      "1 * 1 = 1\n",
      "--------------\n",
      "1 * 2 = 2\n",
      "--------------\n",
      "1 * 3 = 3\n",
      "--------------\n",
      "1 * 4 = 4\n",
      "--------------\n",
      "1 * 5 = 5\n",
      "--------------\n",
      "2 * 1 = 2\n",
      "--------------\n",
      "2 * 2 = 4\n",
      "--------------\n",
      "2 * 3 = 6\n",
      "--------------\n",
      "2 * 4 = 8\n",
      "--------------\n",
      "2 * 5 = 10\n",
      "--------------\n",
      "3 * 1 = 3\n",
      "--------------\n",
      "3 * 2 = 6\n",
      "--------------\n",
      "3 * 3 = 9\n",
      "--------------\n",
      "3 * 4 = 12\n",
      "--------------\n",
      "3 * 5 = 15\n",
      "--------------\n",
      "4 * 1 = 4\n",
      "--------------\n",
      "4 * 2 = 8\n",
      "--------------\n",
      "4 * 3 = 12\n",
      "--------------\n",
      "4 * 4 = 16\n",
      "--------------\n",
      "4 * 5 = 20\n",
      "--------------\n",
      "5 * 1 = 5\n",
      "--------------\n",
      "5 * 2 = 10\n",
      "--------------\n",
      "5 * 3 = 15\n",
      "--------------\n",
      "5 * 4 = 20\n",
      "--------------\n",
      "5 * 5 = 25\n",
      "--------------\n"
     ]
    }
   ],
   "source": [
    "# nested loop\n",
    "for i in range (1, 6):\n",
    "    for j in range (1,6):\n",
    "        print(f\"{i} * {j} = {i * j}\")\n",
    "        print(\"--------------\")\n",
    "        "
   ]
  },
  {
   "cell_type": "code",
   "execution_count": null,
   "id": "c7917da2-d90f-48cd-83ae-6b6cb14db681",
   "metadata": {},
   "outputs": [],
   "source": [
    "n = 2\n",
    "\n",
    "while True:\n",
    "    print(n)\n",
    "    n+/=2\n",
    "    if(n<100):\n",
    "        continue\n",
    "   "
   ]
  },
  {
   "cell_type": "code",
   "execution_count": 1,
   "id": "c4905e35-9941-4a8c-b865-330b2a4ff8ff",
   "metadata": {},
   "outputs": [
    {
     "ename": "NameError",
     "evalue": "name 'num' is not defined",
     "output_type": "error",
     "traceback": [
      "\u001b[31m---------------------------------------------------------------------------\u001b[39m",
      "\u001b[31mNameError\u001b[39m                                 Traceback (most recent call last)",
      "\u001b[36mCell\u001b[39m\u001b[36m \u001b[39m\u001b[32mIn[1]\u001b[39m\u001b[32m, line 3\u001b[39m\n\u001b[32m      1\u001b[39m n = \u001b[32m2\u001b[39m\n\u001b[32m----> \u001b[39m\u001b[32m3\u001b[39m \u001b[38;5;28;01mwhile\u001b[39;00m \u001b[43mnum\u001b[49m < \u001b[32m100\u001b[39m:\n\u001b[32m      4\u001b[39m     n/=\u001b[32m2\u001b[39m\n\u001b[32m      5\u001b[39m     \u001b[38;5;28;01mif\u001b[39;00m (n<\u001b[32m100\u001b[39m):\n",
      "\u001b[31mNameError\u001b[39m: name 'num' is not defined"
     ]
    }
   ],
   "source": [
    "n = 2\n",
    "\n",
    "while num < 100:\n",
    "    n/=2\n",
    "    if (n<100):\n",
    "       continue\n",
    "    print(n)"
   ]
  },
  {
   "cell_type": "code",
   "execution_count": 3,
   "id": "ec68732c-8a54-4d02-8597-988812cf5dbc",
   "metadata": {},
   "outputs": [
    {
     "name": "stdout",
     "output_type": "stream",
     "text": [
      "2\n",
      "4\n",
      "6\n",
      "8\n",
      "10\n",
      "12\n",
      "14\n",
      "16\n",
      "18\n",
      "20\n",
      "22\n",
      "24\n",
      "26\n",
      "28\n",
      "30\n",
      "32\n",
      "34\n",
      "36\n",
      "38\n",
      "40\n",
      "42\n",
      "44\n",
      "46\n",
      "48\n",
      "50\n",
      "52\n",
      "54\n",
      "56\n",
      "58\n",
      "60\n",
      "62\n",
      "64\n",
      "66\n",
      "68\n",
      "70\n",
      "72\n",
      "74\n",
      "76\n",
      "78\n",
      "80\n",
      "82\n",
      "84\n",
      "86\n",
      "88\n",
      "90\n",
      "92\n",
      "94\n",
      "96\n",
      "98\n"
     ]
    }
   ],
   "source": [
    "i = 0\n",
    "for i in range(2, 99, 2):\n",
    "    print(i)\n",
    "#while True:\n",
    "    #i%2\n",
    "    #print (i)\n",
    "    #break"
   ]
  },
  {
   "cell_type": "code",
   "execution_count": 3,
   "id": "c4bf9896-1c01-4d21-a9ce-5b4e8c14cc28",
   "metadata": {},
   "outputs": [
    {
     "name": "stdout",
     "output_type": "stream",
     "text": [
      "3\n",
      "5\n",
      "7\n",
      "9\n",
      "11\n",
      "13\n",
      "15\n",
      "17\n",
      "19\n",
      "21\n",
      "23\n",
      "25\n",
      "27\n",
      "29\n",
      "31\n",
      "33\n",
      "35\n",
      "37\n",
      "39\n",
      "41\n",
      "43\n",
      "45\n",
      "47\n",
      "49\n",
      "51\n",
      "53\n",
      "55\n",
      "57\n",
      "59\n",
      "61\n",
      "63\n",
      "65\n",
      "67\n",
      "69\n",
      "71\n",
      "73\n",
      "75\n",
      "77\n",
      "79\n",
      "81\n",
      "83\n",
      "85\n",
      "87\n",
      "89\n",
      "91\n",
      "93\n",
      "95\n",
      "97\n"
     ]
    }
   ],
   "source": [
    "i = 0\n",
    "for i in range(3, 99, 2) :\n",
    "    print(i)\n",
    "#while True:\n",
    "    #i%2\n",
    "    #print (i)\n",
    "    #break"
   ]
  },
  {
   "cell_type": "code",
   "execution_count": 1,
   "id": "100b9e95-69e0-45ed-9da2-ebe178328cee",
   "metadata": {},
   "outputs": [
    {
     "ename": "SyntaxError",
     "evalue": "expression cannot contain assignment, perhaps you meant \"==\"? (1957938970.py, line 2)",
     "output_type": "error",
     "traceback": [
      "  \u001b[36mCell\u001b[39m\u001b[36m \u001b[39m\u001b[32mIn[1]\u001b[39m\u001b[32m, line 2\u001b[39m\n\u001b[31m    \u001b[39m\u001b[31mfor i in range(2+i=100) :\u001b[39m\n                   ^\n\u001b[31mSyntaxError\u001b[39m\u001b[31m:\u001b[39m expression cannot contain assignment, perhaps you meant \"==\"?\n"
     ]
    }
   ],
   "source": [
    "i = 0\n",
    "for i in range(2+i=100) :\n",
    "    print(i)\n",
    "#while True:\n",
    "    #i%2\n",
    "    #print (i)\n",
    "    #break"
   ]
  },
  {
   "cell_type": "code",
   "execution_count": 19,
   "id": "298e4d83-8dbf-4a23-8100-9e7b718f43ef",
   "metadata": {},
   "outputs": [
    {
     "ename": "KeyboardInterrupt",
     "evalue": "Interrupted by user",
     "output_type": "error",
     "traceback": [
      "\u001b[31m---------------------------------------------------------------------------\u001b[39m",
      "\u001b[31mKeyboardInterrupt\u001b[39m                         Traceback (most recent call last)",
      "\u001b[36mCell\u001b[39m\u001b[36m \u001b[39m\u001b[32mIn[19]\u001b[39m\u001b[32m, line 5\u001b[39m\n\u001b[32m      1\u001b[39m \u001b[38;5;28msum\u001b[39m = \u001b[32m0\u001b[39m\n\u001b[32m      3\u001b[39m \u001b[38;5;28;01mwhile\u001b[39;00m \u001b[38;5;28;01mTrue\u001b[39;00m:\n\u001b[32m----> \u001b[39m\u001b[32m5\u001b[39m        num= \u001b[38;5;28mint\u001b[39m(\u001b[38;5;28;43minput\u001b[39;49m\u001b[43m(\u001b[49m\u001b[33;43m\"\u001b[39;49m\u001b[33;43menter a number: \u001b[39;49m\u001b[33;43m\"\u001b[39;49m\u001b[43m)\u001b[49m)\n\u001b[32m      6\u001b[39m        \u001b[38;5;28msum\u001b[39m += num\n\u001b[32m      7\u001b[39m        \u001b[38;5;28;01mif\u001b[39;00m \u001b[38;5;28msum\u001b[39m >\u001b[32m100\u001b[39m:\n",
      "\u001b[36mFile \u001b[39m\u001b[32m~\\AppData\\Local\\Packages\\PythonSoftwareFoundation.Python.3.11_qbz5n2kfra8p0\\LocalCache\\local-packages\\Python311\\site-packages\\ipykernel\\kernelbase.py:1282\u001b[39m, in \u001b[36mKernel.raw_input\u001b[39m\u001b[34m(self, prompt)\u001b[39m\n\u001b[32m   1280\u001b[39m     msg = \u001b[33m\"\u001b[39m\u001b[33mraw_input was called, but this frontend does not support input requests.\u001b[39m\u001b[33m\"\u001b[39m\n\u001b[32m   1281\u001b[39m     \u001b[38;5;28;01mraise\u001b[39;00m StdinNotImplementedError(msg)\n\u001b[32m-> \u001b[39m\u001b[32m1282\u001b[39m \u001b[38;5;28;01mreturn\u001b[39;00m \u001b[38;5;28;43mself\u001b[39;49m\u001b[43m.\u001b[49m\u001b[43m_input_request\u001b[49m\u001b[43m(\u001b[49m\n\u001b[32m   1283\u001b[39m \u001b[43m    \u001b[49m\u001b[38;5;28;43mstr\u001b[39;49m\u001b[43m(\u001b[49m\u001b[43mprompt\u001b[49m\u001b[43m)\u001b[49m\u001b[43m,\u001b[49m\n\u001b[32m   1284\u001b[39m \u001b[43m    \u001b[49m\u001b[38;5;28;43mself\u001b[39;49m\u001b[43m.\u001b[49m\u001b[43m_parent_ident\u001b[49m\u001b[43m[\u001b[49m\u001b[33;43m\"\u001b[39;49m\u001b[33;43mshell\u001b[39;49m\u001b[33;43m\"\u001b[39;49m\u001b[43m]\u001b[49m\u001b[43m,\u001b[49m\n\u001b[32m   1285\u001b[39m \u001b[43m    \u001b[49m\u001b[38;5;28;43mself\u001b[39;49m\u001b[43m.\u001b[49m\u001b[43mget_parent\u001b[49m\u001b[43m(\u001b[49m\u001b[33;43m\"\u001b[39;49m\u001b[33;43mshell\u001b[39;49m\u001b[33;43m\"\u001b[39;49m\u001b[43m)\u001b[49m\u001b[43m,\u001b[49m\n\u001b[32m   1286\u001b[39m \u001b[43m    \u001b[49m\u001b[43mpassword\u001b[49m\u001b[43m=\u001b[49m\u001b[38;5;28;43;01mFalse\u001b[39;49;00m\u001b[43m,\u001b[49m\n\u001b[32m   1287\u001b[39m \u001b[43m\u001b[49m\u001b[43m)\u001b[49m\n",
      "\u001b[36mFile \u001b[39m\u001b[32m~\\AppData\\Local\\Packages\\PythonSoftwareFoundation.Python.3.11_qbz5n2kfra8p0\\LocalCache\\local-packages\\Python311\\site-packages\\ipykernel\\kernelbase.py:1325\u001b[39m, in \u001b[36mKernel._input_request\u001b[39m\u001b[34m(self, prompt, ident, parent, password)\u001b[39m\n\u001b[32m   1322\u001b[39m \u001b[38;5;28;01mexcept\u001b[39;00m \u001b[38;5;167;01mKeyboardInterrupt\u001b[39;00m:\n\u001b[32m   1323\u001b[39m     \u001b[38;5;66;03m# re-raise KeyboardInterrupt, to truncate traceback\u001b[39;00m\n\u001b[32m   1324\u001b[39m     msg = \u001b[33m\"\u001b[39m\u001b[33mInterrupted by user\u001b[39m\u001b[33m\"\u001b[39m\n\u001b[32m-> \u001b[39m\u001b[32m1325\u001b[39m     \u001b[38;5;28;01mraise\u001b[39;00m \u001b[38;5;167;01mKeyboardInterrupt\u001b[39;00m(msg) \u001b[38;5;28;01mfrom\u001b[39;00m\u001b[38;5;250m \u001b[39m\u001b[38;5;28;01mNone\u001b[39;00m\n\u001b[32m   1326\u001b[39m \u001b[38;5;28;01mexcept\u001b[39;00m \u001b[38;5;167;01mException\u001b[39;00m:\n\u001b[32m   1327\u001b[39m     \u001b[38;5;28mself\u001b[39m.log.warning(\u001b[33m\"\u001b[39m\u001b[33mInvalid Message:\u001b[39m\u001b[33m\"\u001b[39m, exc_info=\u001b[38;5;28;01mTrue\u001b[39;00m)\n",
      "\u001b[31mKeyboardInterrupt\u001b[39m: Interrupted by user"
     ]
    }
   ],
   "source": [
    "sum = 0\n",
    "\n",
    "while True:\n",
    "\n",
    "       num= int(input(\"enter a number: \"))\n",
    "       sum += num\n",
    "       if sum >100:\n",
    "           \n",
    "          print(f\" the sum is {sum}\")\n",
    "          break\n",
    "    "
   ]
  },
  {
   "cell_type": "code",
   "execution_count": 28,
   "id": "5ec24cc3-8ab3-4762-a0a9-39f8610cb4a4",
   "metadata": {},
   "outputs": [
    {
     "name": "stdin",
     "output_type": "stream",
     "text": [
      "enter a number:  50\n",
      "enter a number:  20\n",
      "enter a number:  70\n"
     ]
    },
    {
     "name": "stdout",
     "output_type": "stream",
     "text": [
      " the sum is 140\n"
     ]
    }
   ],
   "source": [
    "sum = 0\n",
    "\n",
    "while True:\n",
    "    try:\n",
    "\n",
    "       num= int(input(\"enter a number: \"))\n",
    "       sum += num\n",
    "       if sum >100:\n",
    "           print(f\" the sum is {sum}\")\n",
    "           break \n",
    "    except:\n",
    "         print(\"enter valid number\")\n",
    "    "
   ]
  },
  {
   "cell_type": "code",
   "execution_count": 31,
   "id": "736ea604-bfeb-451b-a126-68431b7f7a07",
   "metadata": {},
   "outputs": [
    {
     "name": "stdin",
     "output_type": "stream",
     "text": [
      "enter a number:  56\n"
     ]
    },
    {
     "name": "stdout",
     "output_type": "stream",
     "text": [
      "sum before 0\n",
      "sum after 56\n"
     ]
    },
    {
     "name": "stdin",
     "output_type": "stream",
     "text": [
      "enter a number:  55\n"
     ]
    },
    {
     "name": "stdout",
     "output_type": "stream",
     "text": [
      "sum before 56\n",
      "sum after 111\n",
      " the sum is 111\n"
     ]
    }
   ],
   "source": [
    "sum = 0\n",
    "\n",
    "while True:\n",
    "    try:\n",
    "\n",
    "       num= int(input(\"enter a number: \"))\n",
    "       print(\"sum before\", sum)\n",
    "       sum += num\n",
    "       print(\"sum after\", sum)\n",
    "       if sum >100:\n",
    "           print(f\" the sum is {sum}\")\n",
    "           break \n",
    "    except:\n",
    "         print(\"enter valid number\")\n",
    "    "
   ]
  },
  {
   "cell_type": "code",
   "execution_count": null,
   "id": "e60209e6-f8d5-4102-ab2c-ed184c6a4506",
   "metadata": {},
   "outputs": [],
   "source": [
    "make a guessing game\n",
    "there is a random number say flag\n",
    "take a number input from user(guess)\n",
    "if guess is equal to flag\n",
    "display your answer is correct and stop program\n",
    "if guess is less than flag\n",
    "display guess higher and continue\n",
    "if guess is higher than flag\n",
    "display guess lower\n"
   ]
  },
  {
   "cell_type": "code",
   "execution_count": 26,
   "id": "879c5a7f-cb24-4b3b-b8fd-63579edbe6f8",
   "metadata": {},
   "outputs": [
    {
     "name": "stdin",
     "output_type": "stream",
     "text": [
      "enter a number:  10\n"
     ]
    },
    {
     "name": "stdout",
     "output_type": "stream",
     "text": [
      "display your guess is lower and continue\n"
     ]
    },
    {
     "name": "stdin",
     "output_type": "stream",
     "text": [
      "enter a number:  25\n"
     ]
    },
    {
     "name": "stdout",
     "output_type": "stream",
     "text": [
      "display your guess is lower and continue\n"
     ]
    },
    {
     "name": "stdin",
     "output_type": "stream",
     "text": [
      "enter a number:  56\n"
     ]
    },
    {
     "name": "stdout",
     "output_type": "stream",
     "text": [
      "display your guess is higher and continue\n"
     ]
    },
    {
     "name": "stdin",
     "output_type": "stream",
     "text": [
      "enter a number:  55\n"
     ]
    },
    {
     "name": "stdout",
     "output_type": "stream",
     "text": [
      "your guess is correct\n"
     ]
    }
   ],
   "source": [
    "\n",
    "import random\n",
    "flag = random.randint(1, 100)\n",
    "\n",
    "\n",
    "while True:\n",
    "    try:\n",
    "\n",
    "       guess= int(input(\"enter a number: \"))\n",
    "       if guess > flag:\n",
    "           print(\"display your guess is higher and continue\")\n",
    "       elif guess < flag:\n",
    "           print(\"display your guess is lower and continue\")\n",
    "       else:\n",
    "            print(\"your guess is correct\")\n",
    "            break\n",
    "    except  ValueError:\n",
    "       print(\"enter a valid number: \")\n",
    "      \n",
    "       "
   ]
  },
  {
   "cell_type": "code",
   "execution_count": 26,
   "id": "e925005c-b557-4bbf-9f32-937360e20ce9",
   "metadata": {},
   "outputs": [
    {
     "name": "stdin",
     "output_type": "stream",
     "text": [
      "enter a number:  25\n"
     ]
    },
    {
     "name": "stdout",
     "output_type": "stream",
     "text": [
      "display your guess is lower and continue\n"
     ]
    },
    {
     "name": "stdin",
     "output_type": "stream",
     "text": [
      "enter a number:  63\n"
     ]
    },
    {
     "name": "stdout",
     "output_type": "stream",
     "text": [
      "display your guess is lower and continue\n"
     ]
    },
    {
     "name": "stdin",
     "output_type": "stream",
     "text": [
      "enter a number:  85\n"
     ]
    },
    {
     "name": "stdout",
     "output_type": "stream",
     "text": [
      "display your guess is higher and continue\n"
     ]
    },
    {
     "name": "stdin",
     "output_type": "stream",
     "text": [
      "enter a number:  8\n"
     ]
    },
    {
     "name": "stdout",
     "output_type": "stream",
     "text": [
      "display your guess is lower and continue\n"
     ]
    },
    {
     "name": "stdin",
     "output_type": "stream",
     "text": [
      "enter a number:  80\n"
     ]
    },
    {
     "name": "stdout",
     "output_type": "stream",
     "text": [
      "display your guess is higher and continue\n"
     ]
    },
    {
     "name": "stdin",
     "output_type": "stream",
     "text": [
      "enter a number:  75\n"
     ]
    },
    {
     "name": "stdout",
     "output_type": "stream",
     "text": [
      "display your guess is lower and continue\n"
     ]
    },
    {
     "name": "stdin",
     "output_type": "stream",
     "text": [
      "enter a number:  82\n"
     ]
    },
    {
     "name": "stdout",
     "output_type": "stream",
     "text": [
      "display your guess is higher and continue\n"
     ]
    },
    {
     "name": "stdin",
     "output_type": "stream",
     "text": [
      "enter a number:  78\n"
     ]
    },
    {
     "name": "stdout",
     "output_type": "stream",
     "text": [
      "display your guess is higher and continue\n"
     ]
    },
    {
     "name": "stdin",
     "output_type": "stream",
     "text": [
      "enter a number:  77\n"
     ]
    },
    {
     "name": "stdout",
     "output_type": "stream",
     "text": [
      "your guess is correct\n"
     ]
    }
   ],
   "source": [
    "import random\n",
    "flag = random.randint(1,100)\n",
    "\n",
    "while True:\n",
    "    try:\n",
    "        guess = int(input(\"enter a number: \"))\n",
    "        if guess > flag:\n",
    "            print(\"display your guess is higher and continue\")\n",
    "        elif guess < flag:\n",
    "           print(\"display your guess is lower and continue\")\n",
    "        else:\n",
    "           print(\"your guess is correct\")\n",
    "           break\n",
    "    except ValueError:\n",
    "         print(\"enter a valid number: \")"
   ]
  },
  {
   "cell_type": "code",
   "execution_count": 2,
   "id": "0e271143-c92d-440a-a298-e61a34ad8eb3",
   "metadata": {},
   "outputs": [
    {
     "ename": "IndentationError",
     "evalue": "unindent does not match any outer indentation level (<tokenize>, line 5)",
     "output_type": "error",
     "traceback": [
      "  \u001b[36mFile \u001b[39m\u001b[32m<tokenize>:5\u001b[39m\n\u001b[31m    \u001b[39m\u001b[31mif num > 10:\u001b[39m\n    ^\n\u001b[31mIndentationError\u001b[39m\u001b[31m:\u001b[39m unindent does not match any outer indentation level\n"
     ]
    }
   ],
   "source": [
    "import num\n",
    "while\n",
    "     num=int(input(\"enter a number: \"))\n",
    "   \n",
    "    if num > 10:\n",
    "       print(\"you are monkey and continue\")\n",
    "    elif num < 10:\n",
    "       print(\"you are donkey and continue\")\n",
    "    else:\n",
    "       print(\"you are no human\")\n",
    "    break"
   ]
  },
  {
   "cell_type": "code",
   "execution_count": null,
   "id": "3221d69a-c08f-4ada-9512-fe8ac3ab444f",
   "metadata": {},
   "outputs": [],
   "source": []
  }
 ],
 "metadata": {
  "kernelspec": {
   "display_name": "Python 3 (ipykernel)",
   "language": "python",
   "name": "python3"
  },
  "language_info": {
   "codemirror_mode": {
    "name": "ipython",
    "version": 3
   },
   "file_extension": ".py",
   "mimetype": "text/x-python",
   "name": "python",
   "nbconvert_exporter": "python",
   "pygments_lexer": "ipython3",
   "version": "3.11.9"
  }
 },
 "nbformat": 4,
 "nbformat_minor": 5
}
