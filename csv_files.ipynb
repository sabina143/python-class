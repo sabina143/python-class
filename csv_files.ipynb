{
 "cells": [
  {
   "cell_type": "markdown",
   "id": "5e8f8341-6d44-4797-acda-685a7a3675e3",
   "metadata": {},
   "source": [
    "working with csv file"
   ]
  },
  {
   "cell_type": "code",
   "execution_count": 20,
   "id": "601ceeed-d4c1-4e21-b46f-f4a4862b43a4",
   "metadata": {},
   "outputs": [
    {
     "name": "stdout",
     "output_type": "stream",
     "text": [
      "Name,Course,Address\n",
      "Ram,Python,Kathmandu\n",
      "Hari,Cyber,Lalitpur\n",
      "Sita,DM,Kathmandu\n",
      "\n"
     ]
    }
   ],
   "source": [
    "with open(\"Students.csv\",mode=\"r\") as file:\n",
    "    data = file.read() # reading as text file\n",
    "    print(data)"
   ]
  },
  {
   "cell_type": "code",
   "execution_count": 21,
   "id": "4a1e51d5-0f61-4edb-b8b4-df5aef0f6e6a",
   "metadata": {},
   "outputs": [
    {
     "name": "stdout",
     "output_type": "stream",
     "text": [
      "['Name', 'Course', 'Address']\n",
      "['Ram', 'Python', 'Kathmandu']\n",
      "['Hari', 'Cyber', 'Lalitpur']\n",
      "['Sita', 'DM', 'Kathmandu']\n"
     ]
    }
   ],
   "source": [
    "#reading csv file\n",
    "import csv\n",
    "with open(\"Students.csv\",mode=\"r\", newline=\"\") as file:\n",
    "    csv_reader = csv.reader(file)\n",
    "    for row in csv_reader:\n",
    "        print(row)"
   ]
  },
  {
   "cell_type": "code",
   "execution_count": 22,
   "id": "92987ced-a1ca-4c00-99b8-7b8ea5fe6066",
   "metadata": {},
   "outputs": [
    {
     "name": "stdout",
     "output_type": "stream",
     "text": [
      "written header\n",
      "written data successfully\n"
     ]
    }
   ],
   "source": [
    "#writing csv file\n",
    "import csv\n",
    "header = [\"name\", \"Age\", \"Address\"]\n",
    "data = [\n",
    "    [\"Ram\", 20, \"KTM\"],\n",
    "    [\"Hari\", 25, \"Baneshwor\"],\n",
    "    [\"Gita\", 28, \"Gaushala\"],\n",
    "    [\"Mukesh\",30, \"Banepa\"],\n",
    "    [\"Rakesh\",31, \"Birtamod\"],\n",
    "    [\"Suresh\",32, \"Parasi\"],\n",
    "    [\"Mohan\",33, \"Kamalbinayak\"],\n",
    "    [\"Mira\",34, \"Sarlahi\"]\n",
    "]\n",
    "\n",
    "with open(\"users.csv\", mode=\"w\", newline=\"\") as file:\n",
    "    csv_writer = csv.writer(file)\n",
    "    #writing headers\n",
    "    csv_writer.writerow(header) \n",
    "    print(\"written header\")\n",
    "    csv_writer.writerows(data)\n",
    "    print(\"written data successfully\")"
   ]
  },
  {
   "cell_type": "markdown",
   "id": "afbd1c42-06e8-45f1-ae03-4a15825b8e85",
   "metadata": {},
   "source": [
    "Using Pandas"
   ]
  },
  {
   "cell_type": "code",
   "execution_count": 23,
   "id": "e7aebb27-2d1b-4930-8a49-9c9c3ad4ecd6",
   "metadata": {},
   "outputs": [],
   "source": [
    "#! pip install pandas"
   ]
  },
  {
   "cell_type": "code",
   "execution_count": 24,
   "id": "5e751e9e-54af-41fd-aa2a-b0d2d150240f",
   "metadata": {},
   "outputs": [
    {
     "data": {
      "text/html": [
       "<div>\n",
       "<style scoped>\n",
       "    .dataframe tbody tr th:only-of-type {\n",
       "        vertical-align: middle;\n",
       "    }\n",
       "\n",
       "    .dataframe tbody tr th {\n",
       "        vertical-align: top;\n",
       "    }\n",
       "\n",
       "    .dataframe thead th {\n",
       "        text-align: right;\n",
       "    }\n",
       "</style>\n",
       "<table border=\"1\" class=\"dataframe\">\n",
       "  <thead>\n",
       "    <tr style=\"text-align: right;\">\n",
       "      <th></th>\n",
       "      <th>name</th>\n",
       "      <th>Age</th>\n",
       "      <th>Address</th>\n",
       "    </tr>\n",
       "  </thead>\n",
       "  <tbody>\n",
       "    <tr>\n",
       "      <th>0</th>\n",
       "      <td>Ram</td>\n",
       "      <td>20</td>\n",
       "      <td>KTM</td>\n",
       "    </tr>\n",
       "    <tr>\n",
       "      <th>1</th>\n",
       "      <td>Hari</td>\n",
       "      <td>25</td>\n",
       "      <td>Baneshwor</td>\n",
       "    </tr>\n",
       "    <tr>\n",
       "      <th>2</th>\n",
       "      <td>Gita</td>\n",
       "      <td>28</td>\n",
       "      <td>Gaushala</td>\n",
       "    </tr>\n",
       "    <tr>\n",
       "      <th>3</th>\n",
       "      <td>Mukesh</td>\n",
       "      <td>30</td>\n",
       "      <td>Banepa</td>\n",
       "    </tr>\n",
       "    <tr>\n",
       "      <th>4</th>\n",
       "      <td>Rakesh</td>\n",
       "      <td>31</td>\n",
       "      <td>Birtamod</td>\n",
       "    </tr>\n",
       "  </tbody>\n",
       "</table>\n",
       "</div>"
      ],
      "text/plain": [
       "     name  Age    Address\n",
       "0     Ram   20        KTM\n",
       "1    Hari   25  Baneshwor\n",
       "2    Gita   28   Gaushala\n",
       "3  Mukesh   30     Banepa\n",
       "4  Rakesh   31   Birtamod"
      ]
     },
     "execution_count": 24,
     "metadata": {},
     "output_type": "execute_result"
    }
   ],
   "source": [
    "import pandas as pd\n",
    "df = pd.read_csv(\"users.csv\")\n",
    "df.head()"
   ]
  },
  {
   "cell_type": "code",
   "execution_count": 25,
   "id": "15cef28e-6730-4d0c-9516-460df14860de",
   "metadata": {},
   "outputs": [
    {
     "data": {
      "text/plain": [
       "0    20\n",
       "1    25\n",
       "2    28\n",
       "3    30\n",
       "4    31\n",
       "5    32\n",
       "6    33\n",
       "7    34\n",
       "Name: Age, dtype: int64"
      ]
     },
     "execution_count": 25,
     "metadata": {},
     "output_type": "execute_result"
    }
   ],
   "source": [
    "df[\"Age\"]"
   ]
  },
  {
   "cell_type": "code",
   "execution_count": 26,
   "id": "ce34dcbc-8081-4bd4-9ba2-dc0a577af181",
   "metadata": {},
   "outputs": [
    {
     "name": "stdout",
     "output_type": "stream",
     "text": [
      "     name  Age       Address\n",
      "2    Gita   28      Gaushala\n",
      "3  Mukesh   30        Banepa\n",
      "4  Rakesh   31      Birtamod\n",
      "5  Suresh   32        Parasi\n",
      "6   Mohan   33  Kamalbinayak\n",
      "7    Mira   34       Sarlahi\n"
     ]
    }
   ],
   "source": [
    "new_df = df[df[\"Age\"]>25]\n",
    "print(new_df)"
   ]
  },
  {
   "cell_type": "code",
   "execution_count": 27,
   "id": "ae4bb4d1-eeaa-40fe-acfb-0763d9d2d5f8",
   "metadata": {},
   "outputs": [
    {
     "data": {
      "text/html": [
       "<div>\n",
       "<style scoped>\n",
       "    .dataframe tbody tr th:only-of-type {\n",
       "        vertical-align: middle;\n",
       "    }\n",
       "\n",
       "    .dataframe tbody tr th {\n",
       "        vertical-align: top;\n",
       "    }\n",
       "\n",
       "    .dataframe thead th {\n",
       "        text-align: right;\n",
       "    }\n",
       "</style>\n",
       "<table border=\"1\" class=\"dataframe\">\n",
       "  <thead>\n",
       "    <tr style=\"text-align: right;\">\n",
       "      <th></th>\n",
       "      <th>Age</th>\n",
       "    </tr>\n",
       "  </thead>\n",
       "  <tbody>\n",
       "    <tr>\n",
       "      <th>count</th>\n",
       "      <td>8.000000</td>\n",
       "    </tr>\n",
       "    <tr>\n",
       "      <th>mean</th>\n",
       "      <td>29.125000</td>\n",
       "    </tr>\n",
       "    <tr>\n",
       "      <th>std</th>\n",
       "      <td>4.673252</td>\n",
       "    </tr>\n",
       "    <tr>\n",
       "      <th>min</th>\n",
       "      <td>20.000000</td>\n",
       "    </tr>\n",
       "    <tr>\n",
       "      <th>25%</th>\n",
       "      <td>27.250000</td>\n",
       "    </tr>\n",
       "    <tr>\n",
       "      <th>50%</th>\n",
       "      <td>30.500000</td>\n",
       "    </tr>\n",
       "    <tr>\n",
       "      <th>75%</th>\n",
       "      <td>32.250000</td>\n",
       "    </tr>\n",
       "    <tr>\n",
       "      <th>max</th>\n",
       "      <td>34.000000</td>\n",
       "    </tr>\n",
       "  </tbody>\n",
       "</table>\n",
       "</div>"
      ],
      "text/plain": [
       "             Age\n",
       "count   8.000000\n",
       "mean   29.125000\n",
       "std     4.673252\n",
       "min    20.000000\n",
       "25%    27.250000\n",
       "50%    30.500000\n",
       "75%    32.250000\n",
       "max    34.000000"
      ]
     },
     "execution_count": 27,
     "metadata": {},
     "output_type": "execute_result"
    }
   ],
   "source": [
    "df.describe()"
   ]
  },
  {
   "cell_type": "code",
   "execution_count": 28,
   "id": "4bdc0147-3c05-4bd9-bcba-a2aefa060f52",
   "metadata": {},
   "outputs": [
    {
     "name": "stdout",
     "output_type": "stream",
     "text": [
      "Median age 30.5\n"
     ]
    }
   ],
   "source": [
    "md = df[\"Age\"].median()\n",
    "print(\"Median age\", md)"
   ]
  },
  {
   "cell_type": "code",
   "execution_count": 29,
   "id": "452a4e26-6dab-4a24-b57c-88acf2df46bb",
   "metadata": {},
   "outputs": [
    {
     "data": {
      "text/html": [
       "<div>\n",
       "<style scoped>\n",
       "    .dataframe tbody tr th:only-of-type {\n",
       "        vertical-align: middle;\n",
       "    }\n",
       "\n",
       "    .dataframe tbody tr th {\n",
       "        vertical-align: top;\n",
       "    }\n",
       "\n",
       "    .dataframe thead th {\n",
       "        text-align: right;\n",
       "    }\n",
       "</style>\n",
       "<table border=\"1\" class=\"dataframe\">\n",
       "  <thead>\n",
       "    <tr style=\"text-align: right;\">\n",
       "      <th></th>\n",
       "      <th>name</th>\n",
       "      <th>Age</th>\n",
       "      <th>Address</th>\n",
       "    </tr>\n",
       "  </thead>\n",
       "  <tbody>\n",
       "    <tr>\n",
       "      <th>0</th>\n",
       "      <td>Ram</td>\n",
       "      <td>20</td>\n",
       "      <td>KTM</td>\n",
       "    </tr>\n",
       "    <tr>\n",
       "      <th>1</th>\n",
       "      <td>Hari</td>\n",
       "      <td>25</td>\n",
       "      <td>Baneshwor</td>\n",
       "    </tr>\n",
       "    <tr>\n",
       "      <th>2</th>\n",
       "      <td>Gita</td>\n",
       "      <td>28</td>\n",
       "      <td>Gaushala</td>\n",
       "    </tr>\n",
       "    <tr>\n",
       "      <th>3</th>\n",
       "      <td>Mukesh</td>\n",
       "      <td>30</td>\n",
       "      <td>Banepa</td>\n",
       "    </tr>\n",
       "    <tr>\n",
       "      <th>4</th>\n",
       "      <td>Rakesh</td>\n",
       "      <td>31</td>\n",
       "      <td>Birtamod</td>\n",
       "    </tr>\n",
       "    <tr>\n",
       "      <th>5</th>\n",
       "      <td>Suresh</td>\n",
       "      <td>32</td>\n",
       "      <td>Parasi</td>\n",
       "    </tr>\n",
       "    <tr>\n",
       "      <th>6</th>\n",
       "      <td>Mohan</td>\n",
       "      <td>33</td>\n",
       "      <td>Kamalbinayak</td>\n",
       "    </tr>\n",
       "    <tr>\n",
       "      <th>7</th>\n",
       "      <td>Mira</td>\n",
       "      <td>34</td>\n",
       "      <td>Sarlahi</td>\n",
       "    </tr>\n",
       "  </tbody>\n",
       "</table>\n",
       "</div>"
      ],
      "text/plain": [
       "     name  Age       Address\n",
       "0     Ram   20           KTM\n",
       "1    Hari   25     Baneshwor\n",
       "2    Gita   28      Gaushala\n",
       "3  Mukesh   30        Banepa\n",
       "4  Rakesh   31      Birtamod\n",
       "5  Suresh   32        Parasi\n",
       "6   Mohan   33  Kamalbinayak\n",
       "7    Mira   34       Sarlahi"
      ]
     },
     "execution_count": 29,
     "metadata": {},
     "output_type": "execute_result"
    }
   ],
   "source": [
    "sorted_df = df.sort_values(\"Age\", ascending=True)\n",
    "sorted_df"
   ]
  },
  {
   "cell_type": "code",
   "execution_count": 30,
   "id": "0449607c-0887-4ba2-93d6-2994224a5b4c",
   "metadata": {},
   "outputs": [
    {
     "name": "stdout",
     "output_type": "stream",
     "text": [
      "233\n"
     ]
    }
   ],
   "source": [
    "sum_of_age =df[\"Age\"].sum()\n",
    "print(sum_of_age)"
   ]
  },
  {
   "cell_type": "code",
   "execution_count": 31,
   "id": "b509f914-637f-43ff-84be-30c4133346f4",
   "metadata": {},
   "outputs": [],
   "source": [
    "sorted_df[\"New Age\"] = df[\"Age\"] + 5"
   ]
  },
  {
   "cell_type": "code",
   "execution_count": 32,
   "id": "6bfb47a0-a7b1-4cb8-aab1-15a01e189fed",
   "metadata": {},
   "outputs": [
    {
     "data": {
      "text/html": [
       "<div>\n",
       "<style scoped>\n",
       "    .dataframe tbody tr th:only-of-type {\n",
       "        vertical-align: middle;\n",
       "    }\n",
       "\n",
       "    .dataframe tbody tr th {\n",
       "        vertical-align: top;\n",
       "    }\n",
       "\n",
       "    .dataframe thead th {\n",
       "        text-align: right;\n",
       "    }\n",
       "</style>\n",
       "<table border=\"1\" class=\"dataframe\">\n",
       "  <thead>\n",
       "    <tr style=\"text-align: right;\">\n",
       "      <th></th>\n",
       "      <th>name</th>\n",
       "      <th>Age</th>\n",
       "      <th>Address</th>\n",
       "      <th>New Age</th>\n",
       "    </tr>\n",
       "  </thead>\n",
       "  <tbody>\n",
       "    <tr>\n",
       "      <th>0</th>\n",
       "      <td>Ram</td>\n",
       "      <td>20</td>\n",
       "      <td>KTM</td>\n",
       "      <td>25</td>\n",
       "    </tr>\n",
       "    <tr>\n",
       "      <th>1</th>\n",
       "      <td>Hari</td>\n",
       "      <td>25</td>\n",
       "      <td>Baneshwor</td>\n",
       "      <td>30</td>\n",
       "    </tr>\n",
       "    <tr>\n",
       "      <th>2</th>\n",
       "      <td>Gita</td>\n",
       "      <td>28</td>\n",
       "      <td>Gaushala</td>\n",
       "      <td>33</td>\n",
       "    </tr>\n",
       "    <tr>\n",
       "      <th>3</th>\n",
       "      <td>Mukesh</td>\n",
       "      <td>30</td>\n",
       "      <td>Banepa</td>\n",
       "      <td>35</td>\n",
       "    </tr>\n",
       "    <tr>\n",
       "      <th>4</th>\n",
       "      <td>Rakesh</td>\n",
       "      <td>31</td>\n",
       "      <td>Birtamod</td>\n",
       "      <td>36</td>\n",
       "    </tr>\n",
       "    <tr>\n",
       "      <th>5</th>\n",
       "      <td>Suresh</td>\n",
       "      <td>32</td>\n",
       "      <td>Parasi</td>\n",
       "      <td>37</td>\n",
       "    </tr>\n",
       "    <tr>\n",
       "      <th>6</th>\n",
       "      <td>Mohan</td>\n",
       "      <td>33</td>\n",
       "      <td>Kamalbinayak</td>\n",
       "      <td>38</td>\n",
       "    </tr>\n",
       "    <tr>\n",
       "      <th>7</th>\n",
       "      <td>Mira</td>\n",
       "      <td>34</td>\n",
       "      <td>Sarlahi</td>\n",
       "      <td>39</td>\n",
       "    </tr>\n",
       "  </tbody>\n",
       "</table>\n",
       "</div>"
      ],
      "text/plain": [
       "     name  Age       Address  New Age\n",
       "0     Ram   20           KTM       25\n",
       "1    Hari   25     Baneshwor       30\n",
       "2    Gita   28      Gaushala       33\n",
       "3  Mukesh   30        Banepa       35\n",
       "4  Rakesh   31      Birtamod       36\n",
       "5  Suresh   32        Parasi       37\n",
       "6   Mohan   33  Kamalbinayak       38\n",
       "7    Mira   34       Sarlahi       39"
      ]
     },
     "execution_count": 32,
     "metadata": {},
     "output_type": "execute_result"
    }
   ],
   "source": [
    "sorted_df"
   ]
  },
  {
   "cell_type": "code",
   "execution_count": 1,
   "id": "6cc38b8e-1a96-4f9d-b54d-eb3a491ff068",
   "metadata": {},
   "outputs": [
    {
     "ename": "NameError",
     "evalue": "name 'sorted_df' is not defined",
     "output_type": "error",
     "traceback": [
      "\u001b[31m---------------------------------------------------------------------------\u001b[39m",
      "\u001b[31mNameError\u001b[39m                                 Traceback (most recent call last)",
      "\u001b[36mCell\u001b[39m\u001b[36m \u001b[39m\u001b[32mIn[1]\u001b[39m\u001b[32m, line 1\u001b[39m\n\u001b[32m----> \u001b[39m\u001b[32m1\u001b[39m \u001b[43msorted_df\u001b[49m.to_csv(\u001b[33m\"\u001b[39m\u001b[33mupdated_users.csv\u001b[39m\u001b[33m\"\u001b[39m, index=\u001b[38;5;28;01mFalse\u001b[39;00m)\n",
      "\u001b[31mNameError\u001b[39m: name 'sorted_df' is not defined"
     ]
    }
   ],
   "source": [
    "sorted_df.to_csv(\"updated_users.csv\", index=False)"
   ]
  },
  {
   "cell_type": "code",
   "execution_count": null,
   "id": "9f21b30f-e902-4327-8f64-58d5b966c6d8",
   "metadata": {},
   "outputs": [],
   "source": [
    "numpy"
   ]
  }
 ],
 "metadata": {
  "kernelspec": {
   "display_name": "Python 3 (ipykernel)",
   "language": "python",
   "name": "python3"
  },
  "language_info": {
   "codemirror_mode": {
    "name": "ipython",
    "version": 3
   },
   "file_extension": ".py",
   "mimetype": "text/x-python",
   "name": "python",
   "nbconvert_exporter": "python",
   "pygments_lexer": "ipython3",
   "version": "3.11.9"
  }
 },
 "nbformat": 4,
 "nbformat_minor": 5
}
